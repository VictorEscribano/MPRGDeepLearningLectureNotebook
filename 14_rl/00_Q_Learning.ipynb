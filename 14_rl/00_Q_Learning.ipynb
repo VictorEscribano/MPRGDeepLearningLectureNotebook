{
  "cells": [
    {
      "cell_type": "markdown",
      "metadata": {
        "id": "aUK6DbbAq0Al"
      },
      "source": [
        "# 強化学習（Q学習とQ-Network）によるCart Pole制御\n",
        "\n",
        "---\n",
        "\n",
        "## 目的\n",
        "強化学習を用いてCart Pole制御を学習する．\n",
        "Cart Pole制御とは，Cartに乗っているPoleが倒れないように台車を左右に動かすことである．\n",
        "\n",
        "Q-Tableを用いた従来のQ学習による方法と，Q-Networkを用いた方法の２種類を行う．"
      ]
    },
    {
      "cell_type": "markdown",
      "metadata": {
        "id": "Log6bIaiDnkV"
      },
      "source": [
        "## 準備\n",
        "\n",
        "### Google Colaboratoryの設定確認・変更\n",
        "本チュートリアルではPyTorchを利用してニューラルネットワークの実装を確認，学習および評価を行います．\n",
        "**GPUを用いて処理を行うために，上部のメニューバーの「ランタイム」→「ランタイムのタイプを変更」からハードウェアアクセラレータをGPUにしてください．**\n",
        "\n",
        "### モジュールの追加インストール\n",
        "下記のプログラムを実行して，実験結果の表示に必要な追加ライブラリやモジュールをインストールする．"
      ]
    },
    {
      "cell_type": "code",
      "source": [
        "!pip install swig==4.3.0\n",
        "!pip install gymnasium==1.0.0\n",
        "!pip install gym==0.23.1\n",
        "\n",
        "!apt update && apt install xvfb\n",
        "!pip install gym-notebook-wrapper==1.3.3"
      ],
      "metadata": {
        "id": "eLvY2pcLpeXD",
        "outputId": "cf237b87-fee3-4188-da89-c8827765c1ae",
        "colab": {
          "base_uri": "https://localhost:8080/"
        }
      },
      "execution_count": 1,
      "outputs": [
        {
          "output_type": "stream",
          "name": "stdout",
          "text": [
            "Requirement already satisfied: swig==4.3.0 in /usr/local/lib/python3.12/dist-packages (4.3.0)\n",
            "Requirement already satisfied: gymnasium==1.0.0 in /usr/local/lib/python3.12/dist-packages (1.0.0)\n",
            "Requirement already satisfied: numpy>=1.21.0 in /usr/local/lib/python3.12/dist-packages (from gymnasium==1.0.0) (2.0.2)\n",
            "Requirement already satisfied: cloudpickle>=1.2.0 in /usr/local/lib/python3.12/dist-packages (from gymnasium==1.0.0) (3.1.1)\n",
            "Requirement already satisfied: typing-extensions>=4.3.0 in /usr/local/lib/python3.12/dist-packages (from gymnasium==1.0.0) (4.15.0)\n",
            "Requirement already satisfied: farama-notifications>=0.0.1 in /usr/local/lib/python3.12/dist-packages (from gymnasium==1.0.0) (0.0.4)\n",
            "Requirement already satisfied: gym==0.23.1 in /usr/local/lib/python3.12/dist-packages (0.23.1)\n",
            "Requirement already satisfied: numpy>=1.18.0 in /usr/local/lib/python3.12/dist-packages (from gym==0.23.1) (2.0.2)\n",
            "Requirement already satisfied: cloudpickle>=1.2.0 in /usr/local/lib/python3.12/dist-packages (from gym==0.23.1) (3.1.1)\n",
            "Requirement already satisfied: gym_notices>=0.0.4 in /usr/local/lib/python3.12/dist-packages (from gym==0.23.1) (0.1.0)\n",
            "Hit:1 https://cli.github.com/packages stable InRelease\n",
            "Hit:2 https://cloud.r-project.org/bin/linux/ubuntu jammy-cran40/ InRelease\n",
            "Hit:3 https://developer.download.nvidia.com/compute/cuda/repos/ubuntu2204/x86_64  InRelease\n",
            "Hit:4 http://archive.ubuntu.com/ubuntu jammy InRelease\n",
            "Hit:5 http://archive.ubuntu.com/ubuntu jammy-updates InRelease\n",
            "Hit:6 http://archive.ubuntu.com/ubuntu jammy-backports InRelease\n",
            "Hit:7 https://r2u.stat.illinois.edu/ubuntu jammy InRelease\n",
            "Hit:8 http://security.ubuntu.com/ubuntu jammy-security InRelease\n",
            "Hit:9 https://ppa.launchpadcontent.net/deadsnakes/ppa/ubuntu jammy InRelease\n",
            "Hit:10 https://ppa.launchpadcontent.net/graphics-drivers/ppa/ubuntu jammy InRelease\n",
            "Hit:11 https://ppa.launchpadcontent.net/ubuntugis/ppa/ubuntu jammy InRelease\n",
            "Reading package lists... Done\n",
            "Building dependency tree... Done\n",
            "Reading state information... Done\n",
            "38 packages can be upgraded. Run 'apt list --upgradable' to see them.\n",
            "\u001b[1;33mW: \u001b[0mSkipping acquire of configured file 'main/source/Sources' as repository 'https://r2u.stat.illinois.edu/ubuntu jammy InRelease' does not seem to provide it (sources.list entry misspelt?)\u001b[0m\n",
            "Reading package lists... Done\n",
            "Building dependency tree... Done\n",
            "Reading state information... Done\n",
            "xvfb is already the newest version (2:21.1.4-2ubuntu1.7~22.04.15).\n",
            "0 upgraded, 0 newly installed, 0 to remove and 38 not upgraded.\n",
            "Requirement already satisfied: gym-notebook-wrapper==1.3.3 in /usr/local/lib/python3.12/dist-packages (1.3.3)\n",
            "Requirement already satisfied: gym in /usr/local/lib/python3.12/dist-packages (from gym-notebook-wrapper==1.3.3) (0.23.1)\n",
            "Requirement already satisfied: matplotlib in /usr/local/lib/python3.12/dist-packages (from gym-notebook-wrapper==1.3.3) (3.10.0)\n",
            "Requirement already satisfied: pyvirtualdisplay in /usr/local/lib/python3.12/dist-packages (from gym-notebook-wrapper==1.3.3) (3.0)\n",
            "Requirement already satisfied: ipython in /usr/local/lib/python3.12/dist-packages (from gym-notebook-wrapper==1.3.3) (7.34.0)\n",
            "Requirement already satisfied: moviepy in /usr/local/lib/python3.12/dist-packages (from gym-notebook-wrapper==1.3.3) (1.0.3)\n",
            "Requirement already satisfied: numpy>=1.18.0 in /usr/local/lib/python3.12/dist-packages (from gym->gym-notebook-wrapper==1.3.3) (2.0.2)\n",
            "Requirement already satisfied: cloudpickle>=1.2.0 in /usr/local/lib/python3.12/dist-packages (from gym->gym-notebook-wrapper==1.3.3) (3.1.1)\n",
            "Requirement already satisfied: gym_notices>=0.0.4 in /usr/local/lib/python3.12/dist-packages (from gym->gym-notebook-wrapper==1.3.3) (0.1.0)\n",
            "Requirement already satisfied: setuptools>=18.5 in /usr/local/lib/python3.12/dist-packages (from ipython->gym-notebook-wrapper==1.3.3) (75.2.0)\n",
            "Requirement already satisfied: jedi>=0.16 in /usr/local/lib/python3.12/dist-packages (from ipython->gym-notebook-wrapper==1.3.3) (0.19.2)\n",
            "Requirement already satisfied: decorator in /usr/local/lib/python3.12/dist-packages (from ipython->gym-notebook-wrapper==1.3.3) (4.4.2)\n",
            "Requirement already satisfied: pickleshare in /usr/local/lib/python3.12/dist-packages (from ipython->gym-notebook-wrapper==1.3.3) (0.7.5)\n",
            "Requirement already satisfied: traitlets>=4.2 in /usr/local/lib/python3.12/dist-packages (from ipython->gym-notebook-wrapper==1.3.3) (5.7.1)\n",
            "Requirement already satisfied: prompt-toolkit!=3.0.0,!=3.0.1,<3.1.0,>=2.0.0 in /usr/local/lib/python3.12/dist-packages (from ipython->gym-notebook-wrapper==1.3.3) (3.0.52)\n",
            "Requirement already satisfied: pygments in /usr/local/lib/python3.12/dist-packages (from ipython->gym-notebook-wrapper==1.3.3) (2.19.2)\n",
            "Requirement already satisfied: backcall in /usr/local/lib/python3.12/dist-packages (from ipython->gym-notebook-wrapper==1.3.3) (0.2.0)\n",
            "Requirement already satisfied: matplotlib-inline in /usr/local/lib/python3.12/dist-packages (from ipython->gym-notebook-wrapper==1.3.3) (0.1.7)\n",
            "Requirement already satisfied: pexpect>4.3 in /usr/local/lib/python3.12/dist-packages (from ipython->gym-notebook-wrapper==1.3.3) (4.9.0)\n",
            "Requirement already satisfied: contourpy>=1.0.1 in /usr/local/lib/python3.12/dist-packages (from matplotlib->gym-notebook-wrapper==1.3.3) (1.3.3)\n",
            "Requirement already satisfied: cycler>=0.10 in /usr/local/lib/python3.12/dist-packages (from matplotlib->gym-notebook-wrapper==1.3.3) (0.12.1)\n",
            "Requirement already satisfied: fonttools>=4.22.0 in /usr/local/lib/python3.12/dist-packages (from matplotlib->gym-notebook-wrapper==1.3.3) (4.60.1)\n",
            "Requirement already satisfied: kiwisolver>=1.3.1 in /usr/local/lib/python3.12/dist-packages (from matplotlib->gym-notebook-wrapper==1.3.3) (1.4.9)\n",
            "Requirement already satisfied: packaging>=20.0 in /usr/local/lib/python3.12/dist-packages (from matplotlib->gym-notebook-wrapper==1.3.3) (25.0)\n",
            "Requirement already satisfied: pillow>=8 in /usr/local/lib/python3.12/dist-packages (from matplotlib->gym-notebook-wrapper==1.3.3) (11.3.0)\n",
            "Requirement already satisfied: pyparsing>=2.3.1 in /usr/local/lib/python3.12/dist-packages (from matplotlib->gym-notebook-wrapper==1.3.3) (3.2.5)\n",
            "Requirement already satisfied: python-dateutil>=2.7 in /usr/local/lib/python3.12/dist-packages (from matplotlib->gym-notebook-wrapper==1.3.3) (2.9.0.post0)\n",
            "Requirement already satisfied: tqdm<5.0,>=4.11.2 in /usr/local/lib/python3.12/dist-packages (from moviepy->gym-notebook-wrapper==1.3.3) (4.67.1)\n",
            "Requirement already satisfied: requests<3.0,>=2.8.1 in /usr/local/lib/python3.12/dist-packages (from moviepy->gym-notebook-wrapper==1.3.3) (2.32.4)\n",
            "Requirement already satisfied: proglog<=1.0.0 in /usr/local/lib/python3.12/dist-packages (from moviepy->gym-notebook-wrapper==1.3.3) (0.1.12)\n",
            "Requirement already satisfied: imageio<3.0,>=2.5 in /usr/local/lib/python3.12/dist-packages (from moviepy->gym-notebook-wrapper==1.3.3) (2.37.0)\n",
            "Requirement already satisfied: imageio-ffmpeg>=0.2.0 in /usr/local/lib/python3.12/dist-packages (from moviepy->gym-notebook-wrapper==1.3.3) (0.6.0)\n",
            "Requirement already satisfied: parso<0.9.0,>=0.8.4 in /usr/local/lib/python3.12/dist-packages (from jedi>=0.16->ipython->gym-notebook-wrapper==1.3.3) (0.8.5)\n",
            "Requirement already satisfied: ptyprocess>=0.5 in /usr/local/lib/python3.12/dist-packages (from pexpect>4.3->ipython->gym-notebook-wrapper==1.3.3) (0.7.0)\n",
            "Requirement already satisfied: wcwidth in /usr/local/lib/python3.12/dist-packages (from prompt-toolkit!=3.0.0,!=3.0.1,<3.1.0,>=2.0.0->ipython->gym-notebook-wrapper==1.3.3) (0.2.14)\n",
            "Requirement already satisfied: six>=1.5 in /usr/local/lib/python3.12/dist-packages (from python-dateutil>=2.7->matplotlib->gym-notebook-wrapper==1.3.3) (1.17.0)\n",
            "Requirement already satisfied: charset_normalizer<4,>=2 in /usr/local/lib/python3.12/dist-packages (from requests<3.0,>=2.8.1->moviepy->gym-notebook-wrapper==1.3.3) (3.4.3)\n",
            "Requirement already satisfied: idna<4,>=2.5 in /usr/local/lib/python3.12/dist-packages (from requests<3.0,>=2.8.1->moviepy->gym-notebook-wrapper==1.3.3) (3.10)\n",
            "Requirement already satisfied: urllib3<3,>=1.21.1 in /usr/local/lib/python3.12/dist-packages (from requests<3.0,>=2.8.1->moviepy->gym-notebook-wrapper==1.3.3) (2.5.0)\n",
            "Requirement already satisfied: certifi>=2017.4.17 in /usr/local/lib/python3.12/dist-packages (from requests<3.0,>=2.8.1->moviepy->gym-notebook-wrapper==1.3.3) (2025.10.5)\n"
          ]
        }
      ]
    },
    {
      "cell_type": "markdown",
      "metadata": {
        "id": "2aKH_oZ9Lb6i"
      },
      "source": [
        "## モジュールのインポート\n",
        "はじめに必要なモジュールをインポートする．\n",
        "\n",
        "今回はPyTorchに加えて，Cart Poleを実行するためのシミュレータであるOpenAI Gym（gym）をインポートする．"
      ]
    },
    {
      "cell_type": "code",
      "source": [
        "import numpy as np\n",
        "import gym\n",
        "import gym.spaces\n",
        "\n",
        "import time\n",
        "import datetime\n",
        "import random\n",
        "import matplotlib\n",
        "import matplotlib.pyplot as plt\n",
        "import collections\n",
        "%matplotlib inline\n",
        "\n",
        "import torch\n",
        "import torch.nn as nn\n",
        "import torch.optim as optim\n",
        "import torch.nn.functional as F\n",
        "import torchvision.transforms as T\n",
        "\n",
        "# GPUの確認\n",
        "use_cuda = torch.cuda.is_available()\n",
        "print('Use CUDA:', use_cuda)"
      ],
      "metadata": {
        "id": "FXfqg9lqpc-2",
        "outputId": "18887b4b-1548-445b-c863-b027ae809ef4",
        "colab": {
          "base_uri": "https://localhost:8080/"
        }
      },
      "execution_count": 2,
      "outputs": [
        {
          "output_type": "stream",
          "name": "stderr",
          "text": [
            "Gym has been unmaintained since 2022 and does not support NumPy 2.0 amongst other critical functionality.\n",
            "Please upgrade to Gymnasium, the maintained drop-in replacement of Gym, or contact the authors of your software and request that they upgrade.\n",
            "See the migration guide at https://gymnasium.farama.org/introduction/migration_guide/ for additional information.\n",
            "/usr/local/lib/python3.12/dist-packages/jupyter_client/session.py:203: DeprecationWarning: datetime.datetime.utcnow() is deprecated and scheduled for removal in a future version. Use timezone-aware objects to represent datetimes in UTC: datetime.datetime.now(datetime.UTC).\n",
            "  return datetime.utcnow().replace(tzinfo=utc)\n"
          ]
        },
        {
          "output_type": "stream",
          "name": "stdout",
          "text": [
            "Use CUDA: True\n"
          ]
        },
        {
          "output_type": "stream",
          "name": "stderr",
          "text": [
            "/usr/local/lib/python3.12/dist-packages/jupyter_client/session.py:203: DeprecationWarning: datetime.datetime.utcnow() is deprecated and scheduled for removal in a future version. Use timezone-aware objects to represent datetimes in UTC: datetime.datetime.now(datetime.UTC).\n",
            "  return datetime.utcnow().replace(tzinfo=utc)\n"
          ]
        }
      ]
    },
    {
      "cell_type": "markdown",
      "source": [
        "## シード値の固定"
      ],
      "metadata": {
        "id": "C0NheD-SMxhO"
      }
    },
    {
      "cell_type": "code",
      "source": [
        "seed = 123\n",
        "# Python random\n",
        "random.seed(seed)\n",
        "# Numpy\n",
        "np.random.seed(seed)\n",
        "# Pytorch\n",
        "torch.manual_seed(seed)\n",
        "torch.cuda.manual_seed(seed)\n",
        "torch.backends.cudnn.deterministic = True\n",
        "torch.use_deterministic_algorithms = True"
      ],
      "metadata": {
        "id": "ENtxEe9Vpbka"
      },
      "execution_count": 3,
      "outputs": []
    },
    {
      "cell_type": "markdown",
      "metadata": {
        "id": "F0V-KflRLV-6"
      },
      "source": [
        "# Q学習 (Q-table)\n",
        "Q学習とは，TD法を用いた代表的な手法の一つです．\n",
        "最適な行動価値（Q値）を推定するように学習を行い，Q値を行動の指針として用いることで最適な行動を行います．\\\n",
        "Q学習では，全ての状態$s$と行動$a$に対する価値$Q(s, a)$を記録するテーブル(Q-table) を作成します．\n",
        "しかし，学習初期の段階では，各状態と行動に対する正確な行動価値が分からないため，Q-tableを任意の値に初期化します．\n",
        "その後，様々な状態の下で実際に行動を選択し，推定した行動価値を用いてQ-tableを修正していきます．\n",
        "以下に，簡略化したQ学習の流れを記載します．\n",
        "1. ある環境における全ての状態と行動に対する価値（Q値）を記録するためのQ-tableを作成\n",
        "2. Q-tableに記録されたQ値を任意の値で初期化\n",
        "3. $\\epsilon$-greedy法などを用いて環境に対する行動を選択\n",
        "4. 選択した行動に対する報酬値とQ-tableに記録されたQ値をもとに，Q-tableを更新\n",
        "5. 最適なQ-tableが完成するまで3,4を繰り返す"
      ]
    },
    {
      "cell_type": "markdown",
      "metadata": {
        "id": "0mdO4rIl6IUQ"
      },
      "source": [
        "## 環境の作成\n",
        "今回の実験で使用する環境の作成を行います． [OpenAI Gym](https://gymnasium.farama.org/) は，様々な種類の環境を提供しているモジュールです．\n",
        "\n",
        "今回の実験では，gymで利用できる[CartPole](https://gymnasium.farama.org/environments/classic_control/cart_pole/)を使用します．(今回はCartPole-v1)\\\n",
        "まず，gym.make関数で使用したい環境を指定します．\n",
        "その後，reset関数を用いて環境を初期化し，環境に対する情報を確認します．\n",
        "\n",
        "CartPoleは，Cartに乗ったPoleを倒さないようにCartを制御するという環境です．環境における行動は，Cartを右か左に動かすという離散的な行動をもち，状態は連続的な値で表されたCart位置，Cart速度，Poleの角度，Poleの角速度からなる状態を持っています．"
      ]
    },
    {
      "cell_type": "code",
      "source": [
        "env = gym.make('CartPole-v1')\n",
        "\n",
        "obs = env.reset(seed=seed)\n",
        "print('observation space:',env.observation_space)\n",
        "print('action space:',env.action_space)\n",
        "print('initial observation',obs)"
      ],
      "metadata": {
        "id": "JED3IWNWpZ8h",
        "outputId": "964ae114-60c9-41c3-add3-346348537f44",
        "colab": {
          "base_uri": "https://localhost:8080/"
        }
      },
      "execution_count": 4,
      "outputs": [
        {
          "output_type": "stream",
          "name": "stdout",
          "text": [
            "observation space: Box([-4.8000002e+00 -3.4028235e+38 -4.1887903e-01 -3.4028235e+38], [4.8000002e+00 3.4028235e+38 4.1887903e-01 3.4028235e+38], (4,), float32)\n",
            "action space: Discrete(2)\n",
            "initial observation [ 0.01823519 -0.0446179  -0.02796401 -0.03156282]\n"
          ]
        },
        {
          "output_type": "stream",
          "name": "stderr",
          "text": [
            "/usr/local/lib/python3.12/dist-packages/pygame/pkgdata.py:25: DeprecationWarning: pkg_resources is deprecated as an API. See https://setuptools.pypa.io/en/latest/pkg_resources.html\n",
            "  from pkg_resources import resource_stream, resource_exists\n",
            "/usr/local/lib/python3.12/dist-packages/pkg_resources/__init__.py:3154: DeprecationWarning: Deprecated call to `pkg_resources.declare_namespace('google')`.\n",
            "Implementing implicit namespace packages (as specified in PEP 420) is preferred to `pkg_resources.declare_namespace`. See https://setuptools.pypa.io/en/latest/references/keywords.html#keyword-namespace-packages\n",
            "  declare_namespace(pkg)\n",
            "/usr/local/lib/python3.12/dist-packages/pkg_resources/__init__.py:3154: DeprecationWarning: Deprecated call to `pkg_resources.declare_namespace('google.cloud')`.\n",
            "Implementing implicit namespace packages (as specified in PEP 420) is preferred to `pkg_resources.declare_namespace`. See https://setuptools.pypa.io/en/latest/references/keywords.html#keyword-namespace-packages\n",
            "  declare_namespace(pkg)\n",
            "/usr/local/lib/python3.12/dist-packages/pkg_resources/__init__.py:3154: DeprecationWarning: Deprecated call to `pkg_resources.declare_namespace('sphinxcontrib')`.\n",
            "Implementing implicit namespace packages (as specified in PEP 420) is preferred to `pkg_resources.declare_namespace`. See https://setuptools.pypa.io/en/latest/references/keywords.html#keyword-namespace-packages\n",
            "  declare_namespace(pkg)\n",
            "/usr/local/lib/python3.12/dist-packages/jupyter_client/session.py:203: DeprecationWarning: datetime.datetime.utcnow() is deprecated and scheduled for removal in a future version. Use timezone-aware objects to represent datetimes in UTC: datetime.datetime.now(datetime.UTC).\n",
            "  return datetime.utcnow().replace(tzinfo=utc)\n"
          ]
        }
      ]
    },
    {
      "cell_type": "markdown",
      "metadata": {
        "id": "hnmhZNvQLw4u"
      },
      "source": [
        "## Q-tableの作成，離散化処理\n",
        "Q-tableの作成とCartPole環境における状態の離散化処理を行います．\n",
        "\n",
        "Q学習は，Q-tableを用いた学習を行います．しかし，今回使用する環境であるCartPoleは，Cart位置，Cart速度，Poleの角度，Poleの角速度からなる4次元の状態をもっており，それぞれ以下の範囲で連続的な値をとります．\n",
        "\n",
        "- Cart位置：-4.8 ～ 4.8（-2.4〜2.4の範囲外になるとエピソードが終了となる）\n",
        "- Cart速度：-Inf ～ Inf\n",
        "- Poleの角度：-0.41 ～ 0.41\n",
        "- Poleの角速度：-Inf ～ Inf\n",
        "\n",
        "Q学習では，任意の大きさのQ-tableを作成しなければいけないため，連続的な数値ではQ-tableを作成することができません．そのため，状態を分割し，離散的な値に変換することでQ-tableを作成可能とします．\n",
        "\n",
        "今回は，numpyのdigitize関数とlinspace関数を組み合わせて，離散化処理を行います． \\\n",
        "まず，linspace関数を用いて，分割数に応じて状態の範囲を区切ります．そして，dizitize関数で，ある値が区切られた範囲でどこの区画に属するのかを返します．これにより，連続的な数値であっても，その値がどの区画なのかという数値に変換されるため，離散化された値とすることができます．\n",
        "\n",
        "状態の離散化により，環境における状態数が決定されるため，決定した状態数の大きさに合わせたQ-tableを作成します．\\\n",
        "はじめに，決定した状態の分割数$x$により，離散化する際の値が変化し，Q-tableの大きさが変化します．CartPoleは，4次元の状態を持っているため，Q-tableの大きさは$x^4(状態数)×2(actionの数)$となります．"
      ]
    },
    {
      "cell_type": "code",
      "execution_count": 5,
      "metadata": {
        "id": "6XI-PzPcLUQh"
      },
      "outputs": [],
      "source": [
        "num_dizitized = 10  # 状態の分割数\n",
        "\n",
        "def bins(clip_min, clip_max, num):\n",
        "    return np.linspace(clip_min, clip_max, num + 1)[1:-1]\n",
        "\n",
        "# 各値を離散値に変換\n",
        "def digitize_state(observation):\n",
        "    cart_pos, cart_v, pole_angle, pole_v = observation\n",
        "    digitized = [\n",
        "        np.digitize(cart_pos, bins=bins(-2.4, 2.4, num_dizitized)),\n",
        "        np.digitize(cart_v, bins=bins(-3.0, 3.0, num_dizitized)),\n",
        "        np.digitize(pole_angle, bins=bins(-0.5, 0.5, num_dizitized)),\n",
        "        np.digitize(pole_v, bins=bins(-2.0, 2.0, num_dizitized))\n",
        "    ]\n",
        "    return sum([x * (num_dizitized**i) for i, x in enumerate(digitized)])\n",
        "\n",
        "q_table = np.random.uniform(low=-1, high=1, size=(num_dizitized**4, env.action_space.n))"
      ]
    },
    {
      "cell_type": "markdown",
      "metadata": {
        "id": "Bk0eS4l0L9Ym"
      },
      "source": [
        "## アクションの選択 ($\\epsilon$-greedy法)\n",
        "アクションの選択方法として，$\\epsilon$-greedy法を用いた行動選択の定義を行います．\n",
        "\n",
        "Q学習では，Q値をもとに行動選択を行いますが，Q値が大きい行動のみをとり続けることは，局所解へ陥ってしまう問題につながります．\n",
        "そのため，環境の適度な探索と，学習によって得られた知見を活用した行動のバランスが重要となります．\n",
        "この問題を，探索と利用のトレードオフと呼び，強化学習での大きな課題の一つとなっています．\n",
        "\n",
        "$\\epsilon$-greedy法は，適度な探索を行う手法であり，確率$\\epsilon$でQ値が最も大きい行動を選択し，確率$1-\\epsilon$で，ランダムな行動を選択するといった手法です．"
      ]
    },
    {
      "cell_type": "code",
      "execution_count": 6,
      "metadata": {
        "id": "tZNVYe4RL_Po"
      },
      "outputs": [],
      "source": [
        "def get_action_q(next_state, episode, epsilon):\n",
        "    if epsilon <= np.random.uniform(0, 1):\n",
        "        next_action = np.argmax(q_table[next_state])\n",
        "    else:\n",
        "        next_action = np.random.choice([0, 1])\n",
        "    return next_action"
      ]
    },
    {
      "cell_type": "markdown",
      "metadata": {
        "id": "j3i-zLzYNgNr"
      },
      "source": [
        "## Qテーブルの更新\n",
        "Q-tableの更新関数を定義します．\\\n",
        "Q学習は，報酬と行動価値をもとに最適なQ-tableを推定していく手法であり，Q-tableの更新にはTD法を用いた更新を行います．\n",
        "ある状態におけるある行動の価値を，次状態における最良の行動価値に近似するように更新を行っていきます．\n",
        "Q値の更新式としては以下の式となります．\n",
        "\n",
        "$$\n",
        "Q(s,a)←Q(s,a)+\\alpha(r+\\gamma \\max_{a'}Q(s',a')-Q(s,a))\n",
        "$$\n",
        "また，次式のように表すこともできます．\n",
        "$$\n",
        "Q(s,a)←(1-\\alpha)Q(s,a)+\\alpha(r+\\gamma \\max_{a'}Q(s',a'))\n",
        "$$\n",
        "\n",
        "この更新式を用いて，Q-tableの更新を行っていきます．あらゆる状態を経験することにより，最適なQ-tableが作成されます．\n"
      ]
    },
    {
      "cell_type": "code",
      "execution_count": 7,
      "metadata": {
        "id": "EYrNsbg1NjMM"
      },
      "outputs": [],
      "source": [
        "def update_Qtable(q_table, state, action, reward, next_state):\n",
        "    alpha = 0.5\n",
        "    next_Max_Q=max(q_table[next_state][0],q_table[next_state][1] )\n",
        "    q_table[state, action] = (1 - alpha) * q_table[state, action] + alpha * (reward + GAMMA * next_Max_Q)\n",
        "    return q_table"
      ]
    },
    {
      "cell_type": "markdown",
      "metadata": {
        "id": "AdnnYxzvtmi2"
      },
      "source": [
        "## 学習に必要な各種パラメータ設定\n",
        "今回の実験に使用する各種パラメータの設定を行います．ここでは，学習における総試行回数などの学習で必要なパラメータの設定を行っています．"
      ]
    },
    {
      "cell_type": "code",
      "execution_count": 8,
      "metadata": {
        "id": "ACap98mhtwgl"
      },
      "outputs": [],
      "source": [
        "max_number_of_steps = 200  # 1試行のstep数\n",
        "num_consecutive_iterations = 100  # 学習完了評価に使用する平均試行回数\n",
        "num_episodes = 1000  # 総試行回数\n",
        "total_reward_vec = np.array([])  # 各試行の報酬を格納\n",
        "\n",
        "EPSILON = 0.02 # ε-greedy法のε\n",
        "GAMMA = 0.99 # 割引率"
      ]
    },
    {
      "cell_type": "markdown",
      "metadata": {
        "id": "aqz_xb-PN15S"
      },
      "source": [
        "## Q学習メインプログラム\n",
        "Q学習のメイン関数です．\n",
        "ここまでの設定に従い，Q学習を用いて学習を行います．\n",
        "以下のような流れのプログラムを作成します．\n",
        "1. 環境の初期化・状態の離散化を行い，初期状態を獲得\n",
        "2. 獲得した状態から行動を選択（$\\epsilon$-greedy法を用いた行動選択）\n",
        "3. 環境に対してエージェントが行動（遷移情報の獲得）\n",
        "4. 得られた経験を用いてQ-tableを更新\n",
        "5. 指定したステップ数，2～4を繰り返す"
      ]
    },
    {
      "cell_type": "code",
      "source": [
        "# グラフ描画用の配列\n",
        "record_episode = []\n",
        "record_reward = []\n",
        "\n",
        "ts = time.time()\n",
        "for episode in range(num_episodes):  # 試行数分繰り返す\n",
        "    # 環境の初期化\n",
        "    observation = env.reset(seed=seed)\n",
        "    state = digitize_state(observation)\n",
        "    action = np.argmax(q_table[state])\n",
        "    episode_reward = 0\n",
        "\n",
        "    for t in range(max_number_of_steps):  # 1試行のループ\n",
        "        observation, reward, done, info = env.step(action)\n",
        "\n",
        "        # 報酬設計\n",
        "        if done:\n",
        "            if t < 195:\n",
        "                reward = -200  # 倒れたら罰則\n",
        "            else:\n",
        "                reward = 1  # 立ったまま終了時は罰則はなし\n",
        "        else:\n",
        "            reward = 1  # 各ステップで立ってたら報酬追加\n",
        "\n",
        "        episode_reward += reward  # 報酬を追加\n",
        "\n",
        "        # Q-tableを更新する\n",
        "        next_state = digitize_state(observation)  # 観測状態を離散値に変換\n",
        "        q_table = update_Qtable(q_table, state, action, reward, next_state)\n",
        "\n",
        "        #  行動を選択\n",
        "        action = get_action_q(next_state, episode, EPSILON)\n",
        "\n",
        "        state = next_state\n",
        "\n",
        "        # 終了時の処理\n",
        "        if done:\n",
        "            total_reward_vec = np.append(total_reward_vec, episode_reward)  # 報酬を記録\n",
        "            record_reward.append(total_reward_vec[-100:].mean()) # グラフ描画用に記録\n",
        "            record_episode.append(episode+1)\n",
        "            if (episode+1)%10==0:\n",
        "              print('Episode {0}: {1} steps, reward {2}, mean reward {3:.3f}, time {4}'.format(episode+1, t+1, episode_reward, total_reward_vec[-100:].mean(), datetime.timedelta(seconds = time.time() - ts)))\n",
        "            break"
      ],
      "metadata": {
        "id": "RRQIP0vBpW95",
        "outputId": "475347d1-9ae2-4dfd-f827-d1a6a5d17516",
        "colab": {
          "base_uri": "https://localhost:8080/"
        }
      },
      "execution_count": 9,
      "outputs": [
        {
          "output_type": "stream",
          "name": "stdout",
          "text": [
            "Episode 10: 35 steps, reward -166, mean reward -183.400, time 0:00:00.036125\n",
            "Episode 20: 37 steps, reward -164, mean reward -176.700, time 0:00:00.076412\n",
            "Episode 30: 18 steps, reward -183, mean reward -176.733, time 0:00:00.100966\n",
            "Episode 40: 35 steps, reward -166, mean reward -177.050, time 0:00:00.123866\n",
            "Episode 50: 38 steps, reward -163, mean reward -176.980, time 0:00:00.149876\n",
            "Episode 60: 36 steps, reward -165, mean reward -174.867, time 0:00:00.198045\n",
            "Episode 70: 54 steps, reward -147, mean reward -171.529, time 0:00:00.247707\n",
            "Episode 80: 57 steps, reward -144, mean reward -167.975, time 0:00:00.311442\n",
            "Episode 90: 122 steps, reward -79, mean reward -163.944, time 0:00:00.374008\n",
            "Episode 100: 152 steps, reward -49, mean reward -155.010, time 0:00:00.551670\n",
            "Episode 110: 123 steps, reward -78, mean reward -145.640, time 0:00:00.678119\n",
            "Episode 120: 109 steps, reward -92, mean reward -136.350, time 0:00:00.806380\n",
            "Episode 130: 43 steps, reward -158, mean reward -127.830, time 0:00:00.910707\n",
            "Episode 140: 45 steps, reward -156, mean reward -117.340, time 0:00:01.021497\n",
            "Episode 150: 198 steps, reward 198, mean reward -102.760, time 0:00:01.201740\n",
            "Episode 180: 115 steps, reward -86, mean reward -81.470, time 0:00:01.663583\n",
            "Episode 190: 56 steps, reward -145, mean reward -79.020, time 0:00:01.764724\n",
            "Episode 200: 64 steps, reward -137, mean reward -77.040, time 0:00:01.830462\n",
            "Episode 210: 59 steps, reward -142, mean reward -82.030, time 0:00:01.915098\n",
            "Episode 220: 146 steps, reward -55, mean reward -80.690, time 0:00:02.036038\n",
            "Episode 230: 147 steps, reward -54, mean reward -76.480, time 0:00:02.248315\n",
            "Episode 250: 114 steps, reward -87, mean reward -69.720, time 0:00:02.515519\n",
            "Episode 300: 141 steps, reward -60, mean reward -68.330, time 0:00:03.391715\n",
            "Episode 310: 149 steps, reward -52, mean reward -68.340, time 0:00:03.552700\n",
            "Episode 320: 180 steps, reward -21, mean reward -71.900, time 0:00:03.676554\n",
            "Episode 370: 50 steps, reward -151, mean reward -65.120, time 0:00:04.553447\n",
            "Episode 380: 193 steps, reward -8, mean reward -64.210, time 0:00:04.725151\n",
            "Episode 390: 162 steps, reward -39, mean reward -52.550, time 0:00:04.954235\n",
            "Episode 400: 173 steps, reward -28, mean reward -52.680, time 0:00:05.242522\n",
            "Episode 410: 167 steps, reward -34, mean reward -54.550, time 0:00:05.560507\n",
            "Episode 420: 86 steps, reward -115, mean reward -56.510, time 0:00:05.984461\n",
            "Episode 430: 191 steps, reward -10, mean reward -52.090, time 0:00:06.310487\n",
            "Episode 480: 107 steps, reward -94, mean reward -55.310, time 0:00:09.550362\n",
            "Episode 490: 119 steps, reward -82, mean reward -61.970, time 0:00:09.795604\n",
            "Episode 500: 100 steps, reward -101, mean reward -63.680, time 0:00:10.184821\n",
            "Episode 520: 132 steps, reward -69, mean reward -65.190, time 0:00:11.022316\n",
            "Episode 530: 171 steps, reward -30, mean reward -65.350, time 0:00:11.390515\n",
            "Episode 570: 197 steps, reward 197, mean reward -53.330, time 0:00:13.045225\n",
            "Episode 580: 199 steps, reward 199, mean reward -50.350, time 0:00:13.432259\n",
            "Episode 610: 133 steps, reward -68, mean reward -45.340, time 0:00:14.593362\n",
            "Episode 620: 53 steps, reward -148, mean reward -42.940, time 0:00:15.017641\n",
            "Episode 640: 178 steps, reward -23, mean reward -38.940, time 0:00:16.027586\n",
            "Episode 700: 114 steps, reward -87, mean reward -50.670, time 0:00:16.974200\n",
            "Episode 710: 199 steps, reward 199, mean reward -46.560, time 0:00:17.112894\n",
            "Episode 720: 144 steps, reward -57, mean reward -44.530, time 0:00:17.263592\n",
            "Episode 730: 139 steps, reward -62, mean reward -46.860, time 0:00:17.358909\n",
            "Episode 750: 155 steps, reward -46, mean reward -47.140, time 0:00:17.719818\n",
            "Episode 800: 162 steps, reward -39, mean reward -58.230, time 0:00:18.518913\n",
            "Episode 820: 151 steps, reward -50, mean reward -59.630, time 0:00:18.862364\n",
            "Episode 870: 168 steps, reward -33, mean reward -64.350, time 0:00:19.815584\n",
            "Episode 880: 184 steps, reward -17, mean reward -62.000, time 0:00:20.056098\n",
            "Episode 930: 167 steps, reward -34, mean reward -57.620, time 0:00:21.336991\n",
            "Episode 940: 104 steps, reward -97, mean reward -58.260, time 0:00:21.567739\n",
            "Episode 960: 194 steps, reward -7, mean reward -60.360, time 0:00:22.012118\n",
            "Episode 970: 106 steps, reward -95, mean reward -55.180, time 0:00:22.163805\n",
            "Episode 980: 85 steps, reward -116, mean reward -57.640, time 0:00:22.282679\n",
            "Episode 990: 133 steps, reward -68, mean reward -57.270, time 0:00:22.431033\n",
            "Episode 1000: 33 steps, reward -168, mean reward -60.430, time 0:00:22.516837\n"
          ]
        }
      ]
    },
    {
      "cell_type": "markdown",
      "source": [
        "## 学習時の平均スコアの推移\n",
        "横軸エピソード数，縦軸平均スコアとしたグラフを描画してみます．\n"
      ],
      "metadata": {
        "id": "HHCbfrzQFN5J"
      }
    },
    {
      "cell_type": "code",
      "source": [
        "import matplotlib.pyplot as plt\n",
        "\n",
        "fig = plt.figure()\n",
        "plt.plot(record_episode, record_reward, color=\"red\")\n",
        "plt.grid()\n",
        "plt.xlabel(\"episode\")\n",
        "plt.ylabel(\"mean reward\")\n",
        "plt.savefig(\"./q-learning_episode_per_reward.png\")\n",
        "plt.show()\n",
        "plt.clf()\n",
        "plt.close()"
      ],
      "metadata": {
        "id": "iHeLiJbdpTy9",
        "outputId": "27ccd0d8-0b14-4612-9ce9-0f56c5f04b09",
        "colab": {
          "base_uri": "https://localhost:8080/",
          "height": 449
        }
      },
      "execution_count": 10,
      "outputs": [
        {
          "output_type": "display_data",
          "data": {
            "text/plain": [
              "<Figure size 640x480 with 1 Axes>"
            ],
            "image/png": "[encoded data removed]"
          },
          "metadata": {}
        }
      ]
    },
    {
      "cell_type": "markdown",
      "source": [
        "グラフのダウンロード"
      ],
      "metadata": {
        "id": "RoRHY-SIHlUh"
      }
    },
    {
      "cell_type": "code",
      "source": [
        "from google.colab import files\n",
        "files.download(\"./q-learning_episode_per_reward.png\")"
      ],
      "metadata": {
        "id": "BwPjbMRwpVNc",
        "outputId": "943daf0d-9201-469b-ed92-7522356e6bb1",
        "colab": {
          "base_uri": "https://localhost:8080/",
          "height": 17
        }
      },
      "execution_count": 11,
      "outputs": [
        {
          "output_type": "display_data",
          "data": {
            "text/plain": [
              "<IPython.core.display.Javascript object>"
            ],
            "application/javascript": [
              "\n",
              "    async function download(id, filename, size) {\n",
              "      if (!google.colab.kernel.accessAllowed) {\n",
              "        return;\n",
              "      }\n",
              "      const div = document.createElement('div');\n",
              "      const label = document.createElement('label');\n",
              "      label.textContent = `Downloading \"${filename}\": `;\n",
              "      div.appendChild(label);\n",
              "      const progress = document.createElement('progress');\n",
              "      progress.max = size;\n",
              "      div.appendChild(progress);\n",
              "      document.body.appendChild(div);\n",
              "\n",
              "      const buffers = [];\n",
              "      let downloaded = 0;\n",
              "\n",
              "      const channel = await google.colab.kernel.comms.open(id);\n",
              "      // Send a message to notify the kernel that we're ready.\n",
              "      channel.send({})\n",
              "\n",
              "      for await (const message of channel.messages) {\n",
              "        // Send a message to notify the kernel that we're ready.\n",
              "        channel.send({})\n",
              "        if (message.buffers) {\n",
              "          for (const buffer of message.buffers) {\n",
              "            buffers.push(buffer);\n",
              "            downloaded += buffer.byteLength;\n",
              "            progress.value = downloaded;\n",
              "          }\n",
              "        }\n",
              "      }\n",
              "      const blob = new Blob(buffers, {type: 'application/binary'});\n",
              "      const a = document.createElement('a');\n",
              "      a.href = window.URL.createObjectURL(blob);\n",
              "      a.download = filename;\n",
              "      div.appendChild(a);\n",
              "      a.click();\n",
              "      div.remove();\n",
              "    }\n",
              "  "
            ]
          },
          "metadata": {}
        },
        {
          "output_type": "display_data",
          "data": {
            "text/plain": [
              "<IPython.core.display.Javascript object>"
            ],
            "application/javascript": [
              "download(\"download_607027f5-0800-4400-88da-0861d9329893\", \"q-learning_episode_per_reward.png\", 25467)"
            ]
          },
          "metadata": {}
        }
      ]
    },
    {
      "cell_type": "markdown",
      "metadata": {
        "id": "zX-V2yIoF1zG"
      },
      "source": [
        "## 学習結果を可視化\n",
        "Q学習を用いて学習したエージェントを確認してみます．\\\n",
        "ここでは，学習時と同様の処理を行い，Gym-Notebook-Wrapper (gnwrapper)を用いて学習済みエージェントによるゲームプレイを可視化します．\n",
        "学習時と異なるのは，$\\epsilon$-greedy法は用いず常にQ値が最も高い行動を選択します．\n",
        "指定したステップ数，フレームを獲得したら終了します．"
      ]
    },
    {
      "cell_type": "code",
      "source": [
        "import gnwrapper\n",
        "\n",
        "env = gnwrapper.Monitor(env,directory=\"./\") # 環境の作成\n",
        "\n",
        "done = False\n",
        "t = 0\n",
        "observation = env.reset(seed=seed)\n",
        "state = digitize_state(observation)\n",
        "action = np.argmax(q_table[state])\n",
        "while not done and t < 200:\n",
        "    observation, reward, done, info = env.step(action)\n",
        "\n",
        "    state = digitize_state(observation)\n",
        "    action = np.argmax(q_table[state])\n",
        "    t += 1\n",
        "\n",
        "env.display()"
      ],
      "metadata": {
        "id": "JUjzZ4XHpPbC",
        "outputId": "a89b66c3-e902-436c-dcc3-61c858ed7f39",
        "colab": {
          "base_uri": "https://localhost:8080/",
          "height": 633
        }
      },
      "execution_count": 12,
      "outputs": [
        {
          "output_type": "stream",
          "name": "stderr",
          "text": [
            "/usr/local/lib/python3.12/dist-packages/gym/wrappers/record_video.py:41: UserWarning: \u001b[33mWARN: Overwriting existing videos at /content folder (try specifying a different `video_folder` for the `RecordVideo` wrapper if this is not desired)\u001b[0m\n",
            "  logger.warn(\n",
            "/usr/local/lib/python3.12/dist-packages/gym/wrappers/monitoring/video_recorder.py:115: DeprecationWarning: \u001b[33mWARN: `env.metadata[\"video.frames_per_second\"] is marked as deprecated and will be replaced with `env.metadata[\"render_fps\"]` see https://github.com/openai/gym/pull/2654 for more details\u001b[0m\n",
            "  logger.deprecation(\n",
            "/usr/local/lib/python3.12/dist-packages/gym/wrappers/monitoring/video_recorder.py:341: DeprecationWarning: Use shutil.which instead of find_executable\n",
            "  if distutils.spawn.find_executable(\"avconv\") is not None:\n",
            "/usr/local/lib/python3.12/dist-packages/jupyter_client/session.py:203: DeprecationWarning: datetime.datetime.utcnow() is deprecated and scheduled for removal in a future version. Use timezone-aware objects to represent datetimes in UTC: datetime.datetime.now(datetime.UTC).\n",
            "  return datetime.utcnow().replace(tzinfo=utc)\n",
            "/usr/local/lib/python3.12/dist-packages/gym/wrappers/monitoring/video_recorder.py:421: DeprecationWarning: distutils Version classes are deprecated. Use packaging.version instead.\n",
            "  if distutils.version.LooseVersion(\n"
          ]
        },
        {
          "output_type": "display_data",
          "data": {
            "text/plain": [
              "'rl-video-episode-0.mp4'"
            ],
            "application/vnd.google.colaboratory.intrinsic+json": {
              "type": "string"
            }
          },
          "metadata": {}
        },
        {
          "output_type": "display_data",
          "data": {
            "text/plain": [
              "<IPython.core.display.HTML object>"
            ],
            "text/html": [
              "\n",
              "            <video alt=\"rl-video-episode-0.mp4\" controls>\n",
              "            <source src=\"data:video/mp4;base64,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\" type=\"video/mp4\" />\n",
              "            </video>\n",
              "            "
            ]
          },
          "metadata": {}
        }
      ]
    },
    {
      "cell_type": "markdown",
      "metadata": {
        "id": "Mqb7BDsXP1bR"
      },
      "source": [
        "# Q-Network\n",
        "Q-Networkは，Q学習にニューラルネットワークの技術を適用した手法です．\\\n",
        "Q学習では，状態・行動数に合わせたQ-tableを作成し，TD法を用いたQ値の更新を行うことで，最適なQ-tableを作成する手法でした．\n",
        "しかし，CartPoleのような状態数が連続的な値の場合，Q-tableが作成可能となるように，状態数の離散化を行わなければいけないという問題がありました．\n",
        "そこで，Q-Networkではニューラルネットワークを用いた写像関数によって，Q-tableを表現することで，連続的な状態でも直接入力として使用可能としています．\n",
        "ネットワークの出力を各行動に対応するのQ値を出力するように設計し，損失関数を用いた学習により最適なQ関数を近似します．"
      ]
    },
    {
      "cell_type": "markdown",
      "metadata": {
        "id": "0MpSMZnZPOHL"
      },
      "source": [
        "## 環境の作成\n",
        "Q学習と同様に環境の作成を行います．（OpenAI gymのCartPole）"
      ]
    },
    {
      "cell_type": "code",
      "source": [
        "env = gym.make('CartPole-v1')"
      ],
      "metadata": {
        "id": "FHBRrmA5iTdk"
      },
      "execution_count": 13,
      "outputs": []
    },
    {
      "cell_type": "markdown",
      "metadata": {
        "id": "uSbxNbZLP87L"
      },
      "source": [
        "## ネットワークモデル\n",
        "ネットワークの設計を行います．\n",
        "今回は，全結合層が2層で構成されるネットワークとします．\\\n",
        "入力には，CartPoleにおけるCart位置，Cart速度，Poleの角度，Poleの角速度の4次元の情報を直接入力とします．\n",
        "出力には，各行動ごとのQ値を出力するため，出力層はactionの数として定義します．"
      ]
    },
    {
      "cell_type": "code",
      "execution_count": 14,
      "metadata": {
        "id": "4zXvS2kHHSe2"
      },
      "outputs": [],
      "source": [
        "class QNetwork(nn.Module):\n",
        "    def __init__(self, input_shape, n_actions):\n",
        "        super(QNetwork, self).__init__()\n",
        "\n",
        "        self.fc = nn.Sequential(\n",
        "            nn.Linear(input_shape, 512),\n",
        "            nn.ReLU(),\n",
        "            nn.Linear(512, n_actions)\n",
        "        )\n",
        "\n",
        "    def forward(self, x):\n",
        "        return self.fc(x)"
      ]
    },
    {
      "cell_type": "markdown",
      "metadata": {
        "id": "ekd_xLCIQVY8"
      },
      "source": [
        "## アクション選択\n",
        "アクションの選択方法として$\\epsilon$-greedy法を用いた行動選択の定義を行います．\\\n",
        "Q学習と同様に適度な探索を行うため，$\\epsilon$-greedy法を用いて行動を選択します．\n",
        "確率$\\epsilon$で，ネットワークが出力したQ値が最も大きい行動を選択し，確率$1-\\epsilon$でランダムな行動を選択します．"
      ]
    },
    {
      "cell_type": "code",
      "execution_count": 15,
      "metadata": {
        "id": "wx1PsYe1QVA1"
      },
      "outputs": [],
      "source": [
        "def get_action_qn(next_state, net, episode, epsilon):\n",
        "    if epsilon <= np.random.uniform(0, 1):\n",
        "        state_a = np.array([next_state], copy=None)\n",
        "        state_v = torch.tensor(state_a).float()\n",
        "        if use_cuda:\n",
        "          state_v = state_v.cuda()\n",
        "        q_vals_v = net(state_v)\n",
        "        _, act_v = torch.max(q_vals_v, dim=1)\n",
        "        next_action = int(act_v.item())\n",
        "    else:\n",
        "        next_action = np.random.choice([0, 1])\n",
        "\n",
        "    return next_action"
      ]
    },
    {
      "cell_type": "markdown",
      "metadata": {
        "id": "dWZEuBXNuSXK"
      },
      "source": [
        "## 損失関数の計算\n",
        "ネットワークを更新するための損失関数の定義を行います．\\\n",
        "Q-Networkでは，ニューラルネットワークで最適なQ関数を近似します．\n",
        "ニューラルネットワークを用いた学習のため損失関数を設計し，逆伝搬によりネットワークのパラメータを更新していきます．\n",
        "損失関数は，Q学習の更新式をもとに設計されていて，以下のような二乗誤差になります．\n",
        "\n",
        "$$\n",
        "L_{\\theta}=(r+\\gamma \\max_{a'}Q_{\\theta}(s',a')-Q_{\\theta}(s,a))^{2}\n",
        "$$\n"
      ]
    },
    {
      "cell_type": "code",
      "execution_count": 16,
      "metadata": {
        "id": "p9kh56HGuR4y"
      },
      "outputs": [],
      "source": [
        "def calc_loss(batch, net):\n",
        "    states, actions, rewards, dones, next_states = batch\n",
        "\n",
        "    states_v = torch.tensor(states).float()\n",
        "    next_states_v = torch.tensor(next_states).float()\n",
        "    actions_v = torch.tensor(actions)\n",
        "    rewards_v = torch.tensor(rewards)\n",
        "    done_mask = torch.BoolTensor(dones)\n",
        "\n",
        "    if use_cuda:\n",
        "      states_v = states_v.cuda()\n",
        "      next_states_v = next_states_v.cuda()\n",
        "      actions_v = actions_v.cuda()\n",
        "      rewards_v = rewards_v.cuda()\n",
        "      done_mask = done_mask.cuda()\n",
        "\n",
        "    state_action_values = net(states_v).gather(1, actions_v.unsqueeze(-1)).squeeze(-1)\n",
        "    next_state_values = net(next_states_v).max(1)[0]\n",
        "    next_state_values[done_mask] = 0.0\n",
        "    next_state_values = next_state_values.detach()\n",
        "\n",
        "    expected_state_action_values = rewards_v + GAMMA * next_state_values\n",
        "    return nn.MSELoss()(state_action_values, expected_state_action_values)"
      ]
    },
    {
      "cell_type": "markdown",
      "metadata": {
        "id": "LY5714Ivsr1_"
      },
      "source": [
        "## バッチ処理のためのbuffer\n",
        "バッチ学習のために経験を収納，取り出す関数を定義します．"
      ]
    },
    {
      "cell_type": "code",
      "execution_count": 17,
      "metadata": {
        "id": "K8svUw3jsoS-"
      },
      "outputs": [],
      "source": [
        "Experience = collections.namedtuple('Experience', field_names=['state', 'action', 'reward', 'done', 'new_state'])\n",
        "\n",
        "class Buffer:\n",
        "    def __init__(self, capacity):\n",
        "        self.buffer = collections.deque(maxlen=capacity)\n",
        "\n",
        "    def __len__(self):\n",
        "        return len(self.buffer)\n",
        "\n",
        "    def append(self, experience):\n",
        "        self.buffer.append(experience)\n",
        "\n",
        "    def sample(self, batch_size):\n",
        "        states, actions, rewards, dones, next_states = zip(*[self.buffer[idx] for idx in range(batch_size)])\n",
        "        return np.array(states), np.array(actions), np.array(rewards, dtype=np.float32), \\\n",
        "               np.array(dones, dtype=bool), np.array(next_states)"
      ]
    },
    {
      "cell_type": "markdown",
      "metadata": {
        "id": "wvbY013-wMbx"
      },
      "source": [
        "## 学習に必要な各種パラメータ設定\n",
        "今回の実験に使用する各種パラメータの設定を行います．\n",
        "ここでは，総試行回数などの学習に必要なパラメータの設定を行っています．\n",
        "また，ネットワークの定義や最適化手法を指定しています．\n",
        "今回の実験では，最適化手法はAdamとしています．"
      ]
    },
    {
      "cell_type": "code",
      "source": [
        "max_number_of_steps = 200  # 1試行のstep数\n",
        "num_consecutive_iterations = 100  # 学習完了評価に使用する平均試行回数\n",
        "num_episodes = 1000  # 総試行回数\n",
        "\n",
        "total_reward_vec = np.array([])  # 各試行の報酬を格納\n",
        "\n",
        "LEARNING_RATE = 1e-4 # 学習率\n",
        "GAMMA = 0.99 # 割引率\n",
        "EPSILON = 0.02 # ε-greedy法のε\n",
        "\n",
        "batch_size = 32 # バッチサイズ\n",
        "train_num = 0\n",
        "\n",
        "net = QNetwork(env.observation_space.shape[0], env.action_space.n)\n",
        "if use_cuda:\n",
        "  net = net.cuda()\n",
        "optimizer = optim.Adam(net.parameters(), lr=LEARNING_RATE)\n",
        "buffer = Buffer(batch_size)"
      ],
      "metadata": {
        "id": "AOwT7JoEpJBT"
      },
      "execution_count": 18,
      "outputs": []
    },
    {
      "cell_type": "markdown",
      "metadata": {
        "id": "kfrffImFQAKv"
      },
      "source": [
        "## 学習のメイン関数\n",
        "Q-Networkのメイン関数です．\n",
        "ここまでの設定に従い，Q-Newtworkの学習を行います．\n",
        "以下のような流れのプログラムを作成します．\n",
        "1. 環境を初期化し，初期状態を獲得\n",
        "2. 獲得した初期状態から行動を選択（$\\epsilon$-greedy法を用いた行動選択）\n",
        "3. 環境に対してエージェントが行動（遷移情報の獲得）\n",
        "4. バッチ数，経験を獲得したら損失関数の計算\n",
        "5. 誤差逆伝播法を用いてネットワークの更新\n",
        "6. 指定したステップ数，2～5を繰り返す"
      ]
    },
    {
      "cell_type": "code",
      "source": [
        "# グラフ描画用の配列\n",
        "record_episode = []\n",
        "record_reward = []\n",
        "\n",
        "ts = time.time()\n",
        "for episode in range(num_episodes):  # 試行数分繰り返す\n",
        "    # 環境の初期化\n",
        "    observation = env.reset(seed=seed)\n",
        "    state = observation\n",
        "    episode_reward = 0\n",
        "\n",
        "    for t in range(max_number_of_steps):  # 1試行のループ\n",
        "        action = get_action_qn(observation, net, episode, EPSILON) # 行動の選択\n",
        "\n",
        "        observation, reward, done, info = env.step(action)\n",
        "        next_state = observation\n",
        "\n",
        "        # 報酬設計\n",
        "        if done:\n",
        "            if t < 195:\n",
        "                reward = -200  # 倒れたら罰則\n",
        "            else:\n",
        "                reward = 1  # 立ったまま終了時は罰則はなし\n",
        "        else:\n",
        "            reward = 1  # 各ステップで立ってたら報酬追加\n",
        "\n",
        "        episode_reward += reward  # 報酬を追加\n",
        "\n",
        "        exp = Experience(state, action, reward, done, next_state)\n",
        "        buffer.append(exp)\n",
        "        state = next_state\n",
        "\n",
        "        if train_num > batch_size:\n",
        "            optimizer.zero_grad()\n",
        "            batch = buffer.sample(batch_size)\n",
        "            loss_t = calc_loss(batch, net)\n",
        "            loss_t.backward()\n",
        "            optimizer.step()\n",
        "\n",
        "        train_num += 1\n",
        "\n",
        "        # 終了時の処理\n",
        "        if done:\n",
        "            total_reward_vec = np.append(total_reward_vec, episode_reward)  # 報酬を記録\n",
        "            record_reward.append(total_reward_vec[-100:].mean()) # グラフ描画用に記録\n",
        "            record_episode.append(episode+1)\n",
        "            if (episode+1)%10==0:\n",
        "              print('Episode {0}: {1} steps, reward {2}, mean reward {3:.3f}, time {4}'.format(episode+1, t+1, episode_reward, total_reward_vec[-100:].mean(), datetime.timedelta(seconds = time.time() - ts)))\n",
        "            break"
      ],
      "metadata": {
        "id": "PdnVmRQopGpw",
        "outputId": "be638a2d-b8ef-4157-fb74-f32d3b113302",
        "colab": {
          "base_uri": "https://localhost:8080/"
        }
      },
      "execution_count": 19,
      "outputs": [
        {
          "output_type": "stream",
          "name": "stdout",
          "text": [
            "Episode 10: 27 steps, reward -174, mean reward -189.300, time 0:00:01.099934\n",
            "Episode 20: 48 steps, reward -153, mean reward -183.500, time 0:00:01.833999\n",
            "Episode 30: 16 steps, reward -185, mean reward -184.533, time 0:00:02.252843\n",
            "Episode 40: 14 steps, reward -187, mean reward -183.900, time 0:00:02.856854\n",
            "Episode 50: 10 steps, reward -191, mean reward -184.880, time 0:00:03.205404\n",
            "Episode 60: 9 steps, reward -192, mean reward -184.700, time 0:00:03.840201\n",
            "Episode 70: 14 steps, reward -187, mean reward -185.486, time 0:00:04.336443\n",
            "Episode 80: 9 steps, reward -192, mean reward -186.200, time 0:00:04.677326\n",
            "Episode 90: 10 steps, reward -191, mean reward -186.244, time 0:00:05.130938\n",
            "Episode 100: 10 steps, reward -191, mean reward -183.500, time 0:00:06.562182\n",
            "Episode 110: 14 steps, reward -187, mean reward -183.180, time 0:00:06.975224\n",
            "Episode 120: 15 steps, reward -186, mean reward -183.630, time 0:00:07.847648\n",
            "Episode 130: 18 steps, reward -183, mean reward -183.370, time 0:00:09.268670\n",
            "Episode 140: 9 steps, reward -192, mean reward -184.140, time 0:00:10.021168\n",
            "Episode 150: 9 steps, reward -192, mean reward -184.220, time 0:00:10.305229\n",
            "Episode 160: 9 steps, reward -192, mean reward -184.450, time 0:00:10.599439\n",
            "Episode 170: 10 steps, reward -191, mean reward -183.750, time 0:00:10.933999\n",
            "Episode 180: 15 steps, reward -186, mean reward -183.630, time 0:00:11.144067\n",
            "Episode 190: 16 steps, reward -185, mean reward -181.660, time 0:00:11.794419\n",
            "Episode 200: 11 steps, reward -190, mean reward -184.240, time 0:00:12.109840\n",
            "Episode 210: 13 steps, reward -188, mean reward -183.570, time 0:00:12.526571\n",
            "Episode 220: 37 steps, reward -164, mean reward -181.880, time 0:00:13.198971\n",
            "Episode 230: 9 steps, reward -192, mean reward -182.250, time 0:00:13.456825\n",
            "Episode 240: 10 steps, reward -191, mean reward -182.150, time 0:00:13.688983\n",
            "Episode 250: 36 steps, reward -165, mean reward -180.110, time 0:00:14.280803\n",
            "Episode 260: 9 steps, reward -192, mean reward -177.880, time 0:00:14.981510\n",
            "Episode 270: 50 steps, reward -151, mean reward -177.110, time 0:00:15.461694\n",
            "Episode 280: 46 steps, reward -155, mean reward -174.280, time 0:00:16.205578\n",
            "Episode 290: 12 steps, reward -189, mean reward -174.260, time 0:00:16.856386\n",
            "Episode 300: 44 steps, reward -157, mean reward -174.160, time 0:00:17.181875\n",
            "Episode 310: 10 steps, reward -191, mean reward -172.950, time 0:00:17.831687\n",
            "Episode 320: 97 steps, reward -104, mean reward -172.530, time 0:00:18.587774\n",
            "Episode 330: 31 steps, reward -170, mean reward -169.400, time 0:00:19.414123\n",
            "Episode 340: 106 steps, reward -95, mean reward -163.940, time 0:00:20.789185\n",
            "Episode 350: 26 steps, reward -175, mean reward -160.680, time 0:00:22.284601\n",
            "Episode 360: 29 steps, reward -172, mean reward -160.170, time 0:00:23.111801\n",
            "Episode 370: 50 steps, reward -151, mean reward -154.350, time 0:00:24.668525\n",
            "Episode 380: 171 steps, reward -30, mean reward -149.260, time 0:00:26.362883\n",
            "Episode 390: 111 steps, reward -90, mean reward -146.110, time 0:00:27.588782\n",
            "Episode 400: 103 steps, reward -98, mean reward -139.610, time 0:00:30.183319\n",
            "Episode 410: 43 steps, reward -158, mean reward -134.080, time 0:00:31.909783\n",
            "Episode 430: 62 steps, reward -139, mean reward -125.240, time 0:00:37.462477\n",
            "Episode 440: 120 steps, reward -81, mean reward -120.170, time 0:00:39.834682\n",
            "Episode 450: 116 steps, reward -85, mean reward -112.650, time 0:00:42.383033\n",
            "Episode 460: 84 steps, reward -117, mean reward -112.390, time 0:00:45.618219\n",
            "Episode 470: 122 steps, reward -79, mean reward -110.230, time 0:00:48.364330\n",
            "Episode 480: 101 steps, reward -100, mean reward -105.430, time 0:00:51.377709\n",
            "Episode 490: 84 steps, reward -117, mean reward -98.670, time 0:00:53.622204\n",
            "Episode 520: 132 steps, reward -69, mean reward -94.750, time 0:01:03.226186\n",
            "Episode 530: 179 steps, reward -22, mean reward -83.900, time 0:01:06.310389\n",
            "Episode 540: 38 steps, reward -163, mean reward -82.810, time 0:01:08.621039\n",
            "Episode 550: 33 steps, reward -168, mean reward -89.290, time 0:01:09.330030\n",
            "Episode 560: 126 steps, reward -75, mean reward -94.530, time 0:01:10.638623\n",
            "Episode 570: 183 steps, reward -18, mean reward -88.600, time 0:01:13.616616\n",
            "Episode 590: 177 steps, reward -24, mean reward -88.210, time 0:01:21.146244\n",
            "Episode 600: 139 steps, reward -62, mean reward -88.490, time 0:01:24.441763\n",
            "Episode 610: 106 steps, reward -95, mean reward -85.900, time 0:01:26.844612\n",
            "Episode 620: 127 steps, reward -74, mean reward -85.420, time 0:01:29.240331\n",
            "Episode 630: 113 steps, reward -88, mean reward -84.040, time 0:01:31.690687\n",
            "Episode 640: 28 steps, reward -173, mean reward -92.230, time 0:01:32.368689\n",
            "Episode 650: 36 steps, reward -165, mean reward -104.280, time 0:01:33.102566\n",
            "Episode 660: 32 steps, reward -169, mean reward -115.810, time 0:01:33.867145\n",
            "Episode 670: 200 steps, reward 200, mean reward -112.180, time 0:01:35.113349\n",
            "Episode 720: 57 steps, reward -144, mean reward -108.860, time 0:01:50.788422\n",
            "Episode 730: 130 steps, reward -71, mean reward -112.140, time 0:01:53.386719\n",
            "Episode 740: 102 steps, reward -99, mean reward -112.840, time 0:01:55.699262\n",
            "Episode 750: 113 steps, reward -88, mean reward -113.800, time 0:01:58.910551\n",
            "Episode 760: 120 steps, reward -81, mean reward -115.450, time 0:02:00.936418\n",
            "Episode 770: 116 steps, reward -85, mean reward -109.240, time 0:02:03.205549\n",
            "Episode 780: 126 steps, reward -75, mean reward -100.030, time 0:02:05.519803\n",
            "Episode 790: 124 steps, reward -77, mean reward -90.540, time 0:02:07.937142\n",
            "Episode 800: 164 steps, reward -37, mean reward -78.800, time 0:02:11.153951\n",
            "Episode 810: 167 steps, reward -34, mean reward -75.040, time 0:02:14.237761\n",
            "Episode 820: 161 steps, reward -40, mean reward -69.390, time 0:02:17.386761\n",
            "Episode 870: 31 steps, reward -170, mean reward -68.460, time 0:02:35.170978\n",
            "Episode 880: 31 steps, reward -170, mean reward -78.360, time 0:02:35.740685\n",
            "Episode 890: 11 steps, reward -190, mean reward -84.950, time 0:02:36.640308\n",
            "Episode 900: 11 steps, reward -190, mean reward -94.670, time 0:02:36.847810\n",
            "Episode 910: 16 steps, reward -185, mean reward -105.120, time 0:02:37.091497\n",
            "Episode 920: 119 steps, reward -82, mean reward -106.780, time 0:02:39.051133\n",
            "Episode 930: 125 steps, reward -76, mean reward -107.100, time 0:02:41.399536\n",
            "Episode 940: 123 steps, reward -78, mean reward -108.900, time 0:02:43.778945\n",
            "Episode 950: 127 steps, reward -74, mean reward -113.180, time 0:02:46.397851\n",
            "Episode 960: 132 steps, reward -69, mean reward -116.960, time 0:02:48.815686\n",
            "Episode 970: 137 steps, reward -64, mean reward -116.190, time 0:02:51.306651\n",
            "Episode 980: 149 steps, reward -52, mean reward -104.640, time 0:02:54.029195\n",
            "Episode 990: 175 steps, reward -26, mean reward -93.480, time 0:02:57.137182\n",
            "Episode 1000: 189 steps, reward -12, mean reward -77.030, time 0:03:00.700141\n"
          ]
        }
      ]
    },
    {
      "cell_type": "markdown",
      "source": [
        "## 学習時の平均スコアの推移\n",
        "横軸エピソード数，縦軸平均スコアとしたグラフを描画してみます．\n"
      ],
      "metadata": {
        "id": "k4V7XyRAJmXj"
      }
    },
    {
      "cell_type": "code",
      "source": [
        "import matplotlib.pyplot as plt\n",
        "\n",
        "fig = plt.figure()\n",
        "plt.plot(record_episode, record_reward, color=\"red\")\n",
        "plt.grid()\n",
        "plt.xlabel(\"episode\")\n",
        "plt.ylabel(\"mean reward\")\n",
        "plt.savefig(\"./q-network_episode_per_reward.png\")\n",
        "plt.show()\n",
        "plt.clf()\n",
        "plt.close()"
      ],
      "metadata": {
        "id": "KnWPN5rppDCV",
        "outputId": "87e2a883-3b04-458c-f584-f1ebe4179abc",
        "colab": {
          "base_uri": "https://localhost:8080/",
          "height": 449
        }
      },
      "execution_count": 20,
      "outputs": [
        {
          "output_type": "display_data",
          "data": {
            "text/plain": [
              "<Figure size 640x480 with 1 Axes>"
            ],
            "image/png": "[encoded data removed]"
          },
          "metadata": {}
        }
      ]
    },
    {
      "cell_type": "code",
      "source": [
        "from google.colab import files\n",
        "\n",
        "files.download(\"./q-network_episode_per_reward.png\")"
      ],
      "metadata": {
        "id": "H5qcKsztpEjv",
        "outputId": "cd003c77-5524-4c41-ea24-75e5430d4904",
        "colab": {
          "base_uri": "https://localhost:8080/",
          "height": 17
        }
      },
      "execution_count": 21,
      "outputs": [
        {
          "output_type": "display_data",
          "data": {
            "text/plain": [
              "<IPython.core.display.Javascript object>"
            ],
            "application/javascript": [
              "\n",
              "    async function download(id, filename, size) {\n",
              "      if (!google.colab.kernel.accessAllowed) {\n",
              "        return;\n",
              "      }\n",
              "      const div = document.createElement('div');\n",
              "      const label = document.createElement('label');\n",
              "      label.textContent = `Downloading \"${filename}\": `;\n",
              "      div.appendChild(label);\n",
              "      const progress = document.createElement('progress');\n",
              "      progress.max = size;\n",
              "      div.appendChild(progress);\n",
              "      document.body.appendChild(div);\n",
              "\n",
              "      const buffers = [];\n",
              "      let downloaded = 0;\n",
              "\n",
              "      const channel = await google.colab.kernel.comms.open(id);\n",
              "      // Send a message to notify the kernel that we're ready.\n",
              "      channel.send({})\n",
              "\n",
              "      for await (const message of channel.messages) {\n",
              "        // Send a message to notify the kernel that we're ready.\n",
              "        channel.send({})\n",
              "        if (message.buffers) {\n",
              "          for (const buffer of message.buffers) {\n",
              "            buffers.push(buffer);\n",
              "            downloaded += buffer.byteLength;\n",
              "            progress.value = downloaded;\n",
              "          }\n",
              "        }\n",
              "      }\n",
              "      const blob = new Blob(buffers, {type: 'application/binary'});\n",
              "      const a = document.createElement('a');\n",
              "      a.href = window.URL.createObjectURL(blob);\n",
              "      a.download = filename;\n",
              "      div.appendChild(a);\n",
              "      a.click();\n",
              "      div.remove();\n",
              "    }\n",
              "  "
            ]
          },
          "metadata": {}
        },
        {
          "output_type": "display_data",
          "data": {
            "text/plain": [
              "<IPython.core.display.Javascript object>"
            ],
            "application/javascript": [
              "download(\"download_1065aa14-c260-47ff-940a-7eed8524d78c\", \"q-network_episode_per_reward.png\", 26125)"
            ]
          },
          "metadata": {}
        }
      ]
    },
    {
      "cell_type": "markdown",
      "metadata": {
        "id": "u3iQMt8MonQI"
      },
      "source": [
        "## 学習結果を可視化\n",
        "学習したネットワーク（エージェント）を確認してみます．\\\n",
        "ここでは，学習時と同様の処理を行い，Gym-Notebook-Wrapper (gnwrapper)を用いて学習済みエージェントによるゲームプレイを可視化します．\n",
        "学習時と異なるのは，$\\epsilon$-greedy法は用いず，常にQ値が最も高い行動を選択します．\n",
        "指定したステップ数，フレームを獲得したら終了します．"
      ]
    },
    {
      "cell_type": "code",
      "source": [
        "import gnwrapper\n",
        "\n",
        "env = gnwrapper.Monitor(env,directory=\"./\") # 環境の作成\n",
        "\n",
        "done = False\n",
        "t = 0\n",
        "state = env.reset(seed=seed)\n",
        "\n",
        "while not done and t < 200:\n",
        "  state_a = np.array([state], copy=None)\n",
        "  state_v = torch.tensor(state_a).float()\n",
        "  if use_cuda:\n",
        "    state_v = state_v.cuda()\n",
        "  q_vals_v = net(state_v)\n",
        "  _, act_v = torch.max(q_vals_v, dim=1)\n",
        "  action = int(act_v.item())\n",
        "\n",
        "  new_state, reward, done, info = env.step(action)\n",
        "  state = new_state\n",
        "  t += 1\n",
        "\n",
        "env.display()"
      ],
      "metadata": {
        "id": "0nMXTQOroqGm",
        "outputId": "b2de0e01-424b-4115-8f4c-8544c703a375",
        "colab": {
          "base_uri": "https://localhost:8080/",
          "height": 633
        }
      },
      "execution_count": 22,
      "outputs": [
        {
          "output_type": "stream",
          "name": "stderr",
          "text": [
            "/usr/local/lib/python3.12/dist-packages/gym/wrappers/record_video.py:41: UserWarning: \u001b[33mWARN: Overwriting existing videos at /content folder (try specifying a different `video_folder` for the `RecordVideo` wrapper if this is not desired)\u001b[0m\n",
            "  logger.warn(\n",
            "/usr/local/lib/python3.12/dist-packages/gym/wrappers/monitoring/video_recorder.py:115: DeprecationWarning: \u001b[33mWARN: `env.metadata[\"video.frames_per_second\"] is marked as deprecated and will be replaced with `env.metadata[\"render_fps\"]` see https://github.com/openai/gym/pull/2654 for more details\u001b[0m\n",
            "  logger.deprecation(\n",
            "/usr/local/lib/python3.12/dist-packages/gym/wrappers/monitoring/video_recorder.py:341: DeprecationWarning: Use shutil.which instead of find_executable\n",
            "  if distutils.spawn.find_executable(\"avconv\") is not None:\n",
            "/usr/local/lib/python3.12/dist-packages/gym/wrappers/monitoring/video_recorder.py:421: DeprecationWarning: distutils Version classes are deprecated. Use packaging.version instead.\n",
            "  if distutils.version.LooseVersion(\n",
            "/usr/local/lib/python3.12/dist-packages/jupyter_client/session.py:203: DeprecationWarning: datetime.datetime.utcnow() is deprecated and scheduled for removal in a future version. Use timezone-aware objects to represent datetimes in UTC: datetime.datetime.now(datetime.UTC).\n",
            "  return datetime.utcnow().replace(tzinfo=utc)\n"
          ]
        },
        {
          "output_type": "display_data",
          "data": {
            "text/plain": [
              "'rl-video-episode-0.mp4'"
            ],
            "application/vnd.google.colaboratory.intrinsic+json": {
              "type": "string"
            }
          },
          "metadata": {}
        },
        {
          "output_type": "display_data",
          "data": {
            "text/plain": [
              "<IPython.core.display.HTML object>"
            ],
            "text/html": [
              "\n",
              "            <video alt=\"rl-video-episode-0.mp4\" controls>\n",
              "            <source src=\"data:video/mp4;base64,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\" type=\"video/mp4\" />\n",
              "            </video>\n",
              "            "
            ]
          },
          "metadata": {}
        }
      ]
    },
    {
      "cell_type": "markdown",
      "metadata": {
        "id": "ttgAMbF5odix"
      },
      "source": [
        "# 課題\n",
        "\n",
        "1. Q-tableを用いた学習方法において，テーブルを作成する際の「状態の分割数」を変えて実験してみましょう．\n",
        "\n",
        "2. 強化学習特有のパラメータを変えて実験してみましょう．\n",
        "  * 強化学習特有のパラメータとして，割引率 `GAMMA` や$\\epsilon$-greedy法の`EPSILON`があります．\n",
        "\n",
        "3. 報酬の値を変更して実験してみましょう．\n",
        " * Q-Tableを用いる学習の場合は「Q学習メインプログラム」内の報酬設計，Q-Networkの場合は「学習のメイン関数」の報酬設計にある報酬の値を変更します．"
      ]
    }
  ],
  "metadata": {
    "accelerator": "GPU",
    "colab": {
      "provenance": [],
      "gpuType": "T4"
    },
    "kernelspec": {
      "display_name": "Python 3",
      "name": "python3"
    },
    "language_info": {
      "name": "python"
    }
  },
  "nbformat": 4,
  "nbformat_minor": 0
}