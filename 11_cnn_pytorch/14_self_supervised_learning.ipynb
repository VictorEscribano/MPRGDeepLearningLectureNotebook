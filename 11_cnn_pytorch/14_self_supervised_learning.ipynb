{
 "cells": [
  {
   "cell_type": "markdown",
   "metadata": {
    "id": "HpXJ4V8D2Cc_"
   },
   "source": [
    "# 自己教師あり学習\n",
    "\n",
    "---\n",
    "\n",
    "深層学習ネットワーク (Deep Neural Network, DNN) は，大量のラベルありデータを用いて学習を行うことで高い認識性能を発揮します．\\\n",
    "しかし，教師ラベルは人手によって付与を行うため，データ数に応じて人的・時間的コストが増加します．\\\n",
    "また，問題設定によって必要となるラベル情報が異なります．\\\n",
    "例としてセマンティックセグメンテーションは，画像に対して１ピクセルごとのラベル付けを必要とします．\\\n",
    "これらのことから，多くの場合では理想的なデータセット（大量のラベルありデータ）を用意するのは困難です．\\\n",
    "このような問題を解決する学習方法の１つとして「自己教師あり学習」があります．\n",
    "\n",
    "<img src=\"https://dl.dropboxusercontent.com/s/cw3nd3iq0ggb01g/sup.png\" width = 55%>\n",
    "\n",
    "自己教師あり学習（Self-supervised Learning）は，ラベルなしデータのみを用いたネットワークの事前学習方法です．\\\n",
    "ラベルなしデータに対して，独自の問題 (Pretext task) を設計することで疑似的な教師ラベルを作成し，ネットワークの学習を行います．\\\n",
    "自己教師あり学習後のネットワークは，事前学習モデルとして解きたいタスクへ転移学習・fine-tuningされます．\\\n",
    "自己教師あり学習では，転移学習・fine-tuning先のタスクを「下流タスク (Downstream task)」と呼びます．\n",
    "\n",
    "<img src=\"https://dl.dropboxusercontent.com/s/6qlgcye8hr4blaq/self_sup.png\" width = 55%>\n",
    "\n",
    "自己教師あり学習として様々なPretext taskやPretext taskの学習方法が提案されていますが，ここではContrastive Learningという枠組みについて紹介します．"
   ]
  },
  {
   "cell_type": "markdown",
   "metadata": {
    "id": "xYc1x_5sNcOI"
   },
   "source": [
    "# Contrastive Learning\n",
    "\n",
    "Contrastive Learningは，「元画像が同じペアを見つける」というPretext taskに対して元画像が同じ特徴量を近づけ，異なる特徴量を離すように学習する手法です．\\\n",
    "Contrastive Learningでは，近づける関係にあるペアを「ポジティブペア」，離す関係にあるペアを「ネガティブペア」と呼びます．\\\n",
    "今回はContrastive Learningの中でも「Simple Framework for Contrastive Learning (SimCLR)」という手法について紹介すると共に，簡単な問題設定から実際に学習を行います．\n",
    "\n",
    "<img src=\"https://dl.dropboxusercontent.com/s/r7yrz62wtt0g7iw/semi_sup_CR.png\" width = 55%>"
   ]
  },
  {
   "cell_type": "markdown",
   "metadata": {
    "id": "68eUqPV3NcOI"
   },
   "source": [
    "# SimCLR\n",
    "\n",
    "SimCLRの学習の流れは以下のようになります．\n",
    "\n",
    "1. ミニバッチを作成し，各データへデータ増幅を適用することでPretext taskを作成\n",
    "2. 各データをネットワークに入力して特徴量を抽出\n",
    "3. 全ての特徴量間で類似度を計算してポジティブペア・ネガティブペアの関係に基づいて損失を計算\n",
    "4. 損失値が小さくなるようにネットワークを学習\n",
    "\n",
    "<img src=\"https://dl.dropboxusercontent.com/s/rte7jfpzb3md7tg/SimCLR_2.png\" width = 55%>"
   ]
  },
  {
   "cell_type": "markdown",
   "metadata": {
    "id": "vJlzf7mYNcOI"
   },
   "source": [
    "## Pretext taskの作成\n",
    "ミニバッチ内のデータに対してデータ増幅を適用して，1サンプルにつき2サンプルのデータを作成することで，「元画像が同じペア（ポジティブペア）」を作成します．\\\n",
    "また，ポジティブペア以外のデータとの関係をネガティブペアとします．\n",
    "\n",
    "SimCLRでは，データ増幅として「ランダムクロップ」と「色変換」を適用します．\\\n",
    "各変換は，元画像が同じペアを探す際に異なる問題を解くことを促します．\n",
    "\n",
    "ランダムクロップは，「同一位置の予測問題」と「近接位置の予測問題」を作成します．\\\n",
    "色変換は，「色の予測問題」を作成します．\\\n",
    "また，ランダムクロップと色変換を組み合わせることで，位置の予測問題を色情報に基づいて解くことを抑制します．\n",
    "\n",
    "<img src=\"https://dl.dropboxusercontent.com/s/8785c0qxjpqaqor/data_aug.png.png\" width = 70%>"
   ]
  },
  {
   "cell_type": "markdown",
   "metadata": {
    "id": "X401GI2xNcOJ"
   },
   "source": [
    "## ネットワーク構造\n",
    "SimCLRにおけるネットワーク構造は，「自己教師あり学習により学習を行いたいネットワーク」と「2層のMLP」から構成されます．\\\n",
    "自己教師あり学習では，自己教師あり学習により学習を行いたいネットワークを「エンコーダ」と呼びます．\\\n",
    "自己教師あり学習後は，エンコーダのみを下流タスクへ利用します．\n",
    "\n",
    "エンコーダは，本来の構造から出力層を取り除いた形とし，自己教師あり学習によって入力層から中間層の学習が行われます．\\\n",
    "また，MLPの出力特徴量を用いて損失計算を行うことで，エンコーダの出力特徴量がPretext taskに特化した特徴量とならないことを促します．"
   ]
  },
  {
   "cell_type": "markdown",
   "metadata": {
    "id": "H8s9d9b_NcOJ"
   },
   "source": [
    "## 損失式\n",
    "ミニバッチサイズをNサンプルとした場合，Pretext task作成後のデータ数は2Nサンプルとなります．\\\n",
    "そのため，1サンプルにつき1組のポジティブペアと(2N-2)組のネガティブペアがあります．\n",
    "\n",
    "特徴量間の類似度としてコサイン類似度を使用し，以下の式から損失を計算します．\\\n",
    "このとき，$z_i$は基準となるデータの特徴量，$z_j$はポジティブペアの特徴量，$T$は温度パラメータ，$N$はバッチサイズを表します．\\\n",
    "SimCLRでは，この損失式をNT-Xent（Normalized Temperature-scaled CROSS entropy）損失と呼びます．\\\n",
    "このNT-Xent損失を基準となるデータを変えて計算を行い，その平均値を最終的な損失とします．\n",
    "\n",
    "<img src=\"https://dl.dropboxusercontent.com/s/zztz70av6dgmwdj/SimCLR_loss.png\" width = 55%>\n",
    "\n",
    "この損失式を式変形すると以下のようになります．\\\n",
    "ポジティブペアの類似度が分母，ネガティブペアの類似度が分子となることがわかります．\\\n",
    "コサイン類似度は，-1から＋1の範囲の指標であり，値が１に近いほど類似度が高いことを表します．\\\n",
    "logは，括弧の中の値が１の場合に０となります．\\\n",
    "そのため，損失値を小さくするために，分母（ポジティブペアの類似度）を大きく，分子（ネガティブペアの類似度）を小さくするような学習が行われます．\n",
    "\n",
    "<img src=\"https://dl.dropboxusercontent.com/s/6v0hob1q5r6szl9/SimCLR_loss2.png\" width = 55%>"
   ]
  },
  {
   "cell_type": "markdown",
   "metadata": {
    "id": "Jq8iq2LCNcOJ"
   },
   "source": [
    "## 学習の評価\n",
    "自己教師あり学習の論文内では，大きく以下の2つの実験から学習後のエンコーダの評価を行います．\n",
    "\n",
    "1. 自己教師あり学習により獲得した特徴量を評価\\\n",
    "・線形評価：自己教師あり学習に用いたデータセットを用いて，出力層を教師あり学習した場合の認識性能から評価\\\n",
    "・K-NN評価：自己教師あり学習に用いたデータセットを用いて，エンコーダの出力特徴量からK-NN法を適用した場合の認識性能から評価\n",
    "2. 下流タスクへの転移性を評価\\\n",
    "・転移学習：自己教師あり学習と異なるデータセットを用いて，出力層を教師あり学習した場合の認識性能から評価\\\n",
    "・fine-tuning：自己教師あり学習と異なるデータセットを用いて，エンコーダと出力層を教師あり学習した場合の認識性能から評価\n",
    "\n",
    "「1. 自己教師あり学習により獲得した特徴量を評価」では，入力層と中間層は自己教師あり学習でのみ学習を行なっています．\\\n",
    "そのため，良い特徴量を抽出できていない場合は認識性能が低くなるため，間接的に自己教師あり学習した入力層と中間層を評価していると言えます．"
   ]
  },
  {
   "cell_type": "markdown",
   "metadata": {
    "id": "qzQjzxih2CdA"
   },
   "source": [
    "# 畳み込みニューラルネットワークの自己教師付き学習\n",
    "クラス分類問題において，自己教師あり学習 (SimCLR) によって畳み込みニューラルネットワーク (CNN) を学習し，fine-tuningと転移学習により評価を行います．\\\n",
    "今回は，CIFAR-100で自己教師あり学習したCNNを，CIFAR-10でfine-tuningと転移学習します．\n",
    "\n",
    "プログラムの構成は以下の通りです．\n",
    "1. データセットの定義　　　：ラベルなしデータのデータセットを定義します．\n",
    "2. ネットワークの定義　　　：エンコーダ (CNN) + MLPを定義します．\n",
    "3. 損失設計の定義　　　　　：NT-Xent損失を定義します．\n",
    "4. 自己教師あり学習　　　　：自己教師あり学習によりネットワークを学習します．\n",
    "5. 乱数初期化したネットワークの学習　　　：乱数で初期化したネットワークを教師あり学習します．\n",
    "6. 自己教師あり学習したネットワークの学習：自己教師あり学習したネットワークをfine-tuning・転移学習します．\n",
    "\n",
    "５と６の結果を比較することで，自己教師あり学習の有無による精度の違いを比較します．"
   ]
  },
  {
   "cell_type": "markdown",
   "metadata": {
    "id": "8Lpmx0gO2CdA"
   },
   "source": [
    "## モジュールの読み込み"
   ]
  },
  {
   "cell_type": "code",
   "execution_count": 1,
   "metadata": {
    "id": "VkOJk9mW2CdB"
   },
   "outputs": [],
   "source": [
    "import math\n",
    "import matplotlib.pyplot as plt\n",
    "from time import time\n",
    "from sklearn.model_selection import StratifiedShuffleSplit\n",
    "\n",
    "import torch\n",
    "import torch.nn as nn\n",
    "import torch.nn.functional as F\n",
    "import torchvision\n",
    "import torchvision.transforms as transforms\n",
    "from torch import optim\n",
    "from torch.utils.data import SubsetRandomSampler, Subset, Dataset"
   ]
  },
  {
   "cell_type": "markdown",
   "metadata": {
    "id": "GPuOra882CdC"
   },
   "source": [
    "## データセットの準備"
   ]
  },
  {
   "cell_type": "markdown",
   "metadata": {
    "id": "TlrNwkXU2CdC"
   },
   "source": [
    "### データ増幅の定義\n",
    "Contrastive Learningを行うには，教師なしデータ１サンプルにつき，データ増幅を適用した２サンプル（ポジティブペア）の画像を必要とします．\\\n",
    "今回は，この挙動を自作のデータ増幅クラスによって実現します．\\\n",
    "また，データ増幅後の2Nサンプルのデータは，損失計算を簡単にするためにNサンプルずつの2つのTensorとして返すように設定します．"
   ]
  },
  {
   "cell_type": "code",
   "execution_count": 2,
   "metadata": {
    "id": "mP9BaWl12CdC"
   },
   "outputs": [],
   "source": [
    "# 自己教師あり学習におけるデータ増幅(自作のデータ増幅クラス)\n",
    "class TransformsSimCLR:\n",
    "    def __init__(self):\n",
    "        c_w = 0.5   # color_jitterの強さの調整\n",
    "        color_jitter = transforms.ColorJitter(0.8*c_w, 0.8*c_w, 0.8*c_w, 0.2*c_w)  # ランダムに明るさ,コントラスト,彩度,色相を変化\n",
    "        self.train_transform = transforms.Compose([\n",
    "            transforms.RandomResizedCrop(32, scale=(0.2, 1.)),  # ランダムにクロップして32×32のサイズで出力\n",
    "            transforms.RandomApply([color_jitter], p=0.8),  # 80%の確率でcolor_jitterを適用\n",
    "            transforms.RandomGrayscale(p=0.2),  # 20%の確率でグレースケール化を適用\n",
    "            transforms.RandomHorizontalFlip(),  # ランダムに左右反転\n",
    "            transforms.ToTensor(),  # 画像をtensor化\n",
    "            transforms.Normalize((0.4914, 0.4822, 0.4465), (0.2470, 0.2435, 0.2616)),\n",
    "        ])\n",
    "\n",
    "    def __call__(self, x):\n",
    "        # 1つの画像に対して２つのデータ増幅を適用した画像を取得\n",
    "        q = self.train_transform(x)\n",
    "        k = self.train_transform(x)\n",
    "        return [q, k]\n",
    "\n",
    "ssl_transform = TransformsSimCLR()"
   ]
  },
  {
   "cell_type": "markdown",
   "metadata": {
    "id": "0bx-_wKYNcOU"
   },
   "source": [
    "### データセットの定義\n",
    "自己教師あり学習に使用するデータセットを定義します．"
   ]
  },
  {
   "cell_type": "code",
   "execution_count": 3,
   "metadata": {
    "colab": {
     "base_uri": "https://localhost:8080/",
     "height": 138,
     "referenced_widgets": [
      "6e0947fa7bad4b2cae2b4aa09f4ecaf7",
      "ee3795016a6b499d9f0bbe57efdd058a",
      "f423634827844f9595ceac78410dab9d",
      "6d706aa25de740f48e6e07805a3657ac",
      "861eef61304b4514b065199250c14834",
      "9a5eeceb72e043dfb69f80931a94090a",
      "4b3de3aadd284a8c8cc10ffbbbd2e3c2",
      "4b990ad419d847f9b5a51584e9ea7d4f",
      "b44381e2091d4626a097667478719c07",
      "084c9ce83646445bb1934c09c7edf0e1",
      "13f88eb28dcf458582fae9c4bcbe504b"
     ]
    },
    "id": "5BeXhEE1NcOU",
    "outputId": "b19728ec-f752-4035-f7b1-e3b2db55f83a"
   },
   "outputs": [
    {
     "name": "stdout",
     "output_type": "stream",
     "text": [
      "Files already downloaded and verified\n"
     ]
    }
   ],
   "source": [
    "BATCH_SIZE = 256\n",
    "\n",
    "unsup_trainset = torchvision.datasets.CIFAR100(root=\"./dataset/CIFAR-100\", train=True,  download=True, transform=ssl_transform)\n",
    "unsup_loader   = torch.utils.data.DataLoader(unsup_trainset,\n",
    "                                             batch_size=BATCH_SIZE,\n",
    "                                             shuffle=True,\n",
    "                                             num_workers=16,\n",
    "                                             pin_memory=True,\n",
    "                                             drop_last=True)"
   ]
  },
  {
   "cell_type": "markdown",
   "metadata": {
    "id": "uQ-oBfYoct9W"
   },
   "source": [
    "### データの可視化\n",
    "定義したデータ増幅と自作データ増幅クラスによって，1つのラベルなしデータからどのようなポジティブペアが作成されるのかを確認します．"
   ]
  },
  {
   "cell_type": "code",
   "execution_count": 4,
   "metadata": {
    "colab": {
     "base_uri": "https://localhost:8080/",
     "height": 287
    },
    "id": "kydSU88e2CdD",
    "outputId": "4003bbf6-d762-4a19-fa2e-8b9c81001903"
   },
   "outputs": [
    {
     "name": "stderr",
     "output_type": "stream",
     "text": [
      "Clipping input data to the valid range for imshow with RGB data ([0..1] for floats or [0..255] for integers).\n",
      "Clipping input data to the valid range for imshow with RGB data ([0..1] for floats or [0..255] for integers).\n"
     ]
    },
    {
     "data": {
      "image/png": "[encoded data removed]",
      "text/plain": [
       "<Figure size 800x400 with 2 Axes>"
      ]
     },
     "metadata": {},
     "output_type": "display_data"
    }
   ],
   "source": [
    "tmp = unsup_loader.__iter__()\n",
    "(image_i, image_y), _ = next(tmp)\n",
    "\n",
    "# データの可視化\n",
    "fig, (ax1, ax2) = plt.subplots(ncols=2, figsize=(8,4))\n",
    "\n",
    "ax1.imshow(image_i[0].permute(1,2,0))\n",
    "ax2.imshow(image_y[0].permute(1,2,0))\n",
    "\n",
    "fig.show()"
   ]
  },
  {
   "cell_type": "markdown",
   "metadata": {
    "id": "PdPXvYKZ2CdD"
   },
   "source": [
    "## ネットワークの準備"
   ]
  },
  {
   "cell_type": "markdown",
   "metadata": {
    "id": "JWXNl_9A2CdD"
   },
   "source": [
    "### ネットワークの定義\n",
    "畳み込みニューラルネットワークの定義をします．\\\n",
    "今回は，11.knowledge_distillation，12.deep_mutual_learning，13.半教師付き学習で使用したネットワークと同様のものを利用します．"
   ]
  },
  {
   "cell_type": "code",
   "execution_count": 5,
   "metadata": {
    "id": "Ns6Yv3lK2CdD"
   },
   "outputs": [],
   "source": [
    "class CNN(nn.Module):\n",
    "    def __init__(self, widen_factor=1):\n",
    "        super().__init__()\n",
    "        self.conv1 = nn.Conv2d(3, 16*widen_factor, kernel_size=3, stride=1, padding=1)\n",
    "        self.conv2 = nn.Conv2d(16*widen_factor, 32*widen_factor, kernel_size=3, stride=1, padding=1)\n",
    "        self.l1 = nn.Linear(8*8*32*widen_factor, 1024*widen_factor)\n",
    "        self.l2 = nn.Linear(1024*widen_factor, 1024*widen_factor)\n",
    "        self.l3 = nn.Linear(1024*widen_factor, 10)\n",
    "        self.act = nn.ReLU()\n",
    "        self.pool = nn.MaxPool2d(2, 2)\n",
    "\n",
    "    def forward(self, x):\n",
    "        h = self.pool(self.act(self.conv1(x)))\n",
    "        h = self.pool(self.act(self.conv2(h)))\n",
    "        h = h.view(h.size()[0], -1)\n",
    "        h = self.act(self.l1(h))\n",
    "        h = self.act(self.l2(h))\n",
    "        h = self.l3(h)\n",
    "        return h"
   ]
  },
  {
   "cell_type": "markdown",
   "metadata": {
    "id": "f7_D6lBect9Z"
   },
   "source": [
    "### エンコーダ＋MLPの定義\n",
    "学習対象のネットワークから出力層を取り除いた形のエンコーダとMLPから構成されるネットワークを定義します．\\\n",
    "今回は，学習対象のネットワークの「2層の畳み込み層＋3層の全結合層」における3層目の全結合層を出力層と捉えて，「2層の畳み込み層＋2層の全結合層」を自己教師あり学習により学習します．\n",
    "\n",
    "まず，学習対象のネットワークの3層目の全結合層を，入力値をそのまま出力値とする層に置き換えます．\\\n",
    "次に，2層のMLPを定義します．\\\n",
    "また，各データの特徴量は，損失計算を簡単にするためにNサンプルずつの2つのTensorとして返します．"
   ]
  },
  {
   "cell_type": "code",
   "execution_count": 6,
   "metadata": {
    "id": "hlKSoszs2CdD"
   },
   "outputs": [],
   "source": [
    "# 入力をそのまま出力とする層の定義\n",
    "class Identity(nn.Module):\n",
    "    def __init__(self):\n",
    "        super(Identity, self).__init__()\n",
    "\n",
    "    def forward(self, x):\n",
    "        return x\n",
    "\n",
    "# MLPを含めたネットワークの定義\n",
    "class SimCLR(nn.Module):\n",
    "    def __init__(self, encoder, projection_dim=128):\n",
    "        super(SimCLR, self).__init__()\n",
    "        self.encoder    = encoder     # ネットワーク\n",
    "        self.n_features = encoder.l3.in_features  # ネットワークの３層目の全結合層の入力サイズ\n",
    "        self.encoder.l3 = Identity()  # ネットワークの3層目の全結合層を変更（入力値をそのまま返すように変更）\n",
    "\n",
    "        # MLPの定義\n",
    "        self.projection_dim = projection_dim  # MLPの出力サイズ\n",
    "        self.projector = nn.Sequential( nn.Linear(self.n_features, self.n_features, bias=False),\n",
    "                                        nn.ReLU(),\n",
    "                                        nn.Linear(self.n_features, self.projection_dim, bias=False) )\n",
    "\n",
    "    def forward(self, x_i, x_j):\n",
    "        # ネットワークへ入力\n",
    "        h_i = self.encoder(x_i)\n",
    "        h_j = self.encoder(x_j)\n",
    "        # ネットワークの出力した特徴量をMLPへ入力\n",
    "        z_i = self.projector(h_i)\n",
    "        z_j = self.projector(h_j)\n",
    "        # ネットワークによる特徴量とMLPによる特徴量を出力するように設計\n",
    "        return z_i, z_j"
   ]
  },
  {
   "cell_type": "markdown",
   "metadata": {
    "id": "7l6kK-4K2CdD"
   },
   "source": [
    "## 損失関数の定義\n",
    "NT-Xent (Normalized Temperature-scaled CROSS entropy) 損失を実装します．\n",
    "損失式は以下のようになります．\n",
    "\n",
    "<img src=\"https://dl.dropboxusercontent.com/s/zztz70av6dgmwdj/SimCLR_loss.png\" width = 40%>\n",
    "\n",
    "このとき，この損失式は１つのデータ$z_i$に対する損失値を計算するものでした．\\\n",
    "基準とするデータ$z_i$によって分母の構成が変わるため，データ毎にこの損失式を計算する必要があります．\\\n",
    "プログラム上では，この損失式をforward関数内で３段階の工程から実現しています．\\\n",
    "ここでは例として，ミニバッチサイズを３として解説します．\n",
    "\n",
    "データ増幅適用前のデータを(A, B, C)，データ増幅適用後のデータを(A1, A2, B1, B2, C1, C2)とします．\\\n",
    "自作データ増幅クラスとSimCLRクラスの設定から，最終的なネットワークの出力特徴量は，(A1, B1, C1)と(A2, B2, C2)の２つに分かれます．\n",
    "\n",
    "---\n",
    "１段階目では，全ての特徴量間の類似度を計算します．\\\n",
    "まず，２つに分かれている特徴量のTensorを結合します．\\\n",
    "結合は，「torch.cat」で行い，第一引数に結合したいTensor「(z_i, z_j)」を指定します．\\\n",
    "このとき，第一引数の１つ目に指定したTensor「z_i」の一番後ろに２つ目に指定したTensor「z_j」が結合されます．\\\n",
    "そのため，結合した後の特徴量の順番は，(A1，B1，C1，A2，B2，C2)となります．\\\n",
    "次に「self.similarity_f(z.unsqueeze(1), z.unsqueeze(0)) / self.temperature」で全ての特徴量間のコサイン類似度を計算します．\\\n",
    "これによって損失式内の「${\\rm sim}()/T$」が計算されます．\\\n",
    "ここで作成されるTensorは，以下のような形で特徴量間の類似度が格納されています．\n",
    "\n",
    "<img src=\"https://dl.dropboxusercontent.com/s/pzsr045caryivm1/loss_1.png\" width = 55%>\n",
    "\n",
    "---\n",
    "２段階目では，損失計算に必要な類似度のみを取り出します．\\\n",
    "ポジティブペアの類似度は，(A1, A2)，(B1, B2)，(C1, C2)，(A2, A1)，(B2, B1)，(C2, C1)です．\\\n",
    "ポジティブペアの類似度の格納位置を確認すると，左上から右下にかけて斜めに格納されています．\\\n",
    "「torch.diag」を利用することで，第一引数で指定したTensorから，第二引数で指定した位置を基準として左上から右下にかけて斜めにTensor内の類似度を取り出します．\\\n",
    "第二引数によってどのように取り出し位置が変化するのかを各色で表します．\\\n",
    "Tensorの要素指定は「0」から始まるため，ミニバッチサイズと同じ値を指定することで，取り出したい要素を指定できます．\n",
    "\n",
    "<img src=\"https://dl.dropboxusercontent.com/s/ztw8u2ya3b2y1lz/loss_2.png.png\" width = 58%>\n",
    "\n",
    "取り出した２つのTensor torch.diag(sim, 3)とtorch.diag(sim, -3)は，「torch.cat」によって１つのTensorにします．\\\n",
    "結合した後の類似度の順番は ( (A1, A2)，(B1, B2)，(C1, C2)，(A2, A1)，(B2, B1)，(C2, C1) ) となります．\n",
    "\n",
    "次に「sim[self.mask].reshape(N, -1)」によって，全ての類似度を収納したTensorからポジティブペアの類似度や損失計算に不要な同じ特徴量間の類似度（例：A1とA1の類似度）を削除します．\\\n",
    "これにより，このTensorはネガティブペアの類似度のみを格納したTensorとなります．\n",
    "\n",
    "最後に「torch.cat((positive_samples, negative_samples), dim=1)」によってポジティブペアの類似度とネガティブペアの類似度を１つのTensorにします．\\\n",
    "作成されたTensorは以下のような形となります．\\\n",
    "(0,0)，(1,0)，(2,0)といった縦の０番目の要素がポジティブペアの類似度（オレンジ背景），０番目以外の要素がネガティブペアの類似度（白背景）となっています．\\\n",
    "これにより，０番目の要素を取り出すことでNT-Xent損失の分子にあたる「${\\rm sim}(z_i,z_j)/T$」，０～４番目の要素を取り出すことで分母にあたる「${\\rm sim}(z_i,z_k)/T$」の計算結果を取り出すことができます．\n",
    "\n",
    "<img src=\"https://dl.dropboxusercontent.com/s/g4izlda80i14696/loss_3.png.png.png\" width = 55%>\n",
    "\n",
    "---\n",
    "３段階目では，損失計算を行います．\\\n",
    "損失計算には「nn.CrossEntropyLoss()」を利用します．\n",
    "このクラスは，クロスエントロピー損失を計算します．\\\n",
    "クロスエントロピー損失の式は以下の通りです．\n",
    "\n",
    "\\begin{equation}\n",
    "E=-\\sum_i^{nclass} t_i \\log y_i\n",
    "\\end{equation}\n",
    "\n",
    "そのため，NT-Xent損失の式と見比べてどの計算に利用するのか疑問に思うかもしれません．\\\n",
    "「nn.CrossEntropyLoss()」クラスは，上記のようなクロスエントロピー損失のみを計算するクラスではなく，ソフトマックス関数の計算を内包したクラスです．\n",
    "そのため，数式で表すと以下のようになります．\n",
    "\n",
    "\\begin{equation}\n",
    "E=-\\log(\\frac{\\exp(y_{label})}{\\sum_i^{nclass} \\exp(y_i)})\n",
    "\\end{equation}\n",
    "\n",
    "このとき，$y_{label}$は正解クラス（第二引数により指定されたクラス）の確率値を表します．\\\n",
    "２段階目で作成したTensorは，０番目の要素がポジティブペアの類似度（NT-Xent損失の分子）であるため，第二引数として０を指定することでNT-Xent損失が計算されます．\\\n",
    "「torch.zeros(N).to(positive_samples.cuda()).long()」ではNT-Xent損失における基準となるデータ「$z_i$」の数分の０を指定するTensorを作成し，「self.criterion(logits, labels)」では損失を計算しています．\\\n",
    "このとき，「nn.CrossEntropyLoss(reduction=\"sum\")」とinit関数で宣言しているため，基準となるデータ数分の損失値の総和となっています．\\\n",
    "今回は，平均値を最終的な損失とするため，データ数で除算します．\n",
    "\n"
   ]
  },
  {
   "cell_type": "code",
   "execution_count": 7,
   "metadata": {
    "id": "05aiTXn_2CdD"
   },
   "outputs": [],
   "source": [
    "class NT_Xent(nn.Module):\n",
    "    def __init__(self, batch_size=128, temperature=1):\n",
    "        super(NT_Xent, self).__init__()\n",
    "        self.batch_size  = batch_size  # ミニバッチサイズ\n",
    "        self.temperature = temperature  # 温度パラメータ\n",
    "\n",
    "        self.mask = self.mask_correlated_samples(batch_size)  # マスクの作成\n",
    "        self.criterion    = nn.CrossEntropyLoss(reduction=\"sum\")  # クロスエントロピー(softmaxを内包)\n",
    "        self.similarity_f = nn.CosineSimilarity(dim=2)  # コサイン類似度\n",
    "\n",
    "    # 同一特徴量間の類似度とポジティブペアの類似度を削除するためのマスクの作成\n",
    "    def mask_correlated_samples(self, batch_size):\n",
    "        N    = 2 * batch_size\n",
    "        mask = torch.ones((N, N), dtype=bool)\n",
    "        mask = mask.fill_diagonal_(0)  # 同一特徴量間の類似度が入っている位置の値を0に\n",
    "        for i in range(batch_size):\n",
    "            mask[i, batch_size+i] = 0  # ポジティブペアの類似度が入っている位置の値を0に\n",
    "            mask[batch_size+i, i] = 0  # ポジティブペアの類似度が入っている位置の値を0に\n",
    "        return mask\n",
    "\n",
    "    def forward(self, z_i, z_j):\n",
    "        # ------ 1 --------------------------------------------------------------------------\n",
    "        N = 2 * self.batch_size\n",
    "        z = torch.cat((z_i, z_j), dim=0)  # ネットワークの２つの出力を1つのTensorに\n",
    "        sim = self.similarity_f(z.unsqueeze(1), z.unsqueeze(0)) / self.temperature  # 全ての特徴量間の類似度を計算\n",
    "\n",
    "        # ------ 2 --------------------------------------------------------------------------\n",
    "        sim_i_j = torch.diag(sim,  self.batch_size)  # ポジティブペアの類似度(i->j))を抽出\n",
    "        sim_j_i = torch.diag(sim, -self.batch_size)  # ポジティブペアの類似度(j->i))を抽出\n",
    "        positive_samples = torch.cat((sim_i_j, sim_j_i), dim=0).reshape(N, 1)  # ポジティブペアの類似度を1つのTensorに\n",
    "\n",
    "        negative_samples = sim[self.mask].reshape(N, -1)  # ネガティブペアの類似度のみのTensorを作成\n",
    "\n",
    "        logits = torch.cat((positive_samples, negative_samples), dim=1)  # ポジティブペアとネガティブペアの類似度を1つのテンソルに\n",
    "\n",
    "        # ------ 3 --------------------------------------------------------------------------\n",
    "        labels = torch.zeros(N).to(positive_samples.cuda()).long()  # ポジティブペアの類似度の位置を表すTensorを作成\n",
    "\n",
    "        loss = self.criterion(logits, labels)  # 損失計算（総和）\n",
    "        loss /= N  # データ数で除算（平均）\n",
    "        return loss"
   ]
  },
  {
   "cell_type": "markdown",
   "metadata": {
    "id": "HizwoyXf0-ag"
   },
   "source": [
    "## 学習条件の設定\n",
    "ミニバッチサイズが大きい場合，１epochあたりのiteration数（ネットワークの更新回数）が少なくなります．\\\n",
    "そのため，一般的には，学習率や学習回数を大きく設定します．\\\n",
    "そこで，SimCLRではミニバッチサイズに合わせて学習率を調整しています．\\\n",
    "また，学習率が大きい場合，学習が不安定になります．\\\n",
    "そこで，最適化方法としてLARS (Layerwise Adaptive Rate Scaling)，学習率の調整テクニックとしてWarmupを利用します．\n",
    "\n",
    "LARSは，ネットワークの層ごとに勾配の大きさに合わせて重みパラメータの更新量を調整する最適化方法です．\\\n",
    "Warmupは，学習初期から高い学習率とするのではなく，学習初期は小さな値として徐々に一定の値まで向上させるテクニックです．\\\n",
    "また，自己教師あり学習では，コサイン関数に基づいて学習率の減衰が行われます．\n",
    "\n",
    "今回は，LARSは自作のクラス，Warmupとコサイン関数に基づいた学習率の調整は自作の関数により実現します．"
   ]
  },
  {
   "cell_type": "code",
   "execution_count": 8,
   "metadata": {},
   "outputs": [],
   "source": [
    "class LARS(optim.Optimizer):\n",
    "    def __init__(self, params, lr, weight_decay=0, momentum=0.9, eta=0.001, weight_decay_filter=False, lars_adaptation_filter=False):\n",
    "        defaults = dict(\n",
    "            lr=lr, weight_decay=weight_decay, momentum=momentum, eta=eta, \n",
    "            weight_decay_filter=weight_decay_filter, lars_adaptation_filter=lars_adaptation_filter\n",
    "        )\n",
    "        super().__init__(params, defaults)\n",
    "\n",
    "    def exclude_bias_and_norm(self, p):\n",
    "        return p.ndim == 1\n",
    "\n",
    "    @torch.no_grad()\n",
    "    def step(self):\n",
    "        for g in self.param_groups:\n",
    "            for p in g['params']:\n",
    "                dp = p.grad\n",
    "\n",
    "                if dp is None:\n",
    "                    continue\n",
    "\n",
    "                if not g['weight_decay_filter'] or not self.exclude_bias_and_norm(p):\n",
    "                    dp = dp.add(p, alpha=g['weight_decay'])\n",
    "\n",
    "                if not g['lars_adaptation_filter'] or not self.exclude_bias_and_norm(p):\n",
    "                    param_norm = torch.norm(p)\n",
    "                    update_norm = torch.norm(dp)\n",
    "                    one = torch.ones_like(param_norm)\n",
    "                    q = torch.where(param_norm > 0.,\n",
    "                                    torch.where(update_norm > 0,\n",
    "                                                (g['eta'] * param_norm / update_norm), one), one)\n",
    "                    dp = dp.mul(q)\n",
    "\n",
    "                param_state = self.state[p]\n",
    "                if 'mu' not in param_state:\n",
    "                    param_state['mu'] = torch.zeros_like(p)\n",
    "                mu = param_state['mu']\n",
    "                mu.mul_(g['momentum']).add_(dp)\n",
    "\n",
    "                p.add_(mu, alpha=-g['lr'])"
   ]
  },
  {
   "cell_type": "code",
   "execution_count": 9,
   "metadata": {
    "id": "yxu8R_5rNcOV"
   },
   "outputs": [],
   "source": [
    "def adjust_learning_rate(optimizer, init_lr, epoch, max_epoch, warmup_epoch):\n",
    "    if epoch <= warmup_epoch:\n",
    "        # Warmupによる学習率の増幅\n",
    "        cur_lr = init_lr * (epoch/warmup_epoch)\n",
    "    else:\n",
    "        # コサイン関数に基づいた学習率の減衰\n",
    "        cur_lr = init_lr * 0.5 * (1. + math.cos(math.pi * (epoch-warmup_epoch) / (max_epoch-warmup_epoch)))\n",
    "\n",
    "    # optimizerに格納されている学習率の値の変更\n",
    "    for param_group in optimizer.param_groups:\n",
    "        if 'fix_lr' in param_group and param_group['fix_lr']:\n",
    "            param_group['lr'] = init_lr\n",
    "        else:\n",
    "            param_group['lr'] = cur_lr"
   ]
  },
  {
   "cell_type": "markdown",
   "metadata": {
    "id": "alyybHHZNcOW"
   },
   "source": [
    "今回は，学習回数を100 epoch，Warmupの期間を10 epochとします．\\\n",
    "Google colaboratory上では1 epochあたり約1分弱（100 epochで約2時間）の時間がかかります．\\\n",
    "そのため，学習回数は適宜調整して実行してください．"
   ]
  },
  {
   "cell_type": "code",
   "execution_count": 10,
   "metadata": {
    "id": "zgriDGQOTGYJ"
   },
   "outputs": [],
   "source": [
    "# ネットワークの用意\n",
    "encoder = CNN(widen_factor=1)  # ネットワークの定義\n",
    "net = SimCLR(encoder)  # MLPを含めたネットワークの定義\n",
    "\n",
    "# 学習回数の設定\n",
    "NUM_EPOCH = 100\n",
    "\n",
    "# Warmupの期間の設定\n",
    "WARMUP_EPOCH = 10\n",
    "\n",
    "# 学習率の設定\n",
    "LR = 0.3*(BATCH_SIZE/256)\n",
    "\n",
    "# 自己教師あり学習の損失式の設定\n",
    "criterion = NT_Xent(BATCH_SIZE, 0.5)\n",
    "\n",
    "# 最適化方法の設定\n",
    "optimizer = LARS(\n",
    "    net.parameters(), lr=LR, weight_decay=1e-5, momentum=0.9, eta=0.001, \n",
    "    weight_decay_filter=False, lars_adaptation_filter=False\n",
    ")"
   ]
  },
  {
   "cell_type": "markdown",
   "metadata": {
    "id": "r6yLJvmTca31"
   },
   "source": [
    "### 学習率の推移の可視化\n",
    "Warmupとコサイン関数に基づいた調整により，どのように学習率がどのように変化するのかを可視化します．"
   ]
  },
  {
   "cell_type": "code",
   "execution_count": 11,
   "metadata": {
    "colab": {
     "base_uri": "https://localhost:8080/",
     "height": 279
    },
    "id": "OQ1EPwuQcfty",
    "outputId": "a57d7fb7-5f45-46f9-a866-e97bdfcf4c56"
   },
   "outputs": [
    {
     "data": {
      "image/png": "[encoded data removed]",
      "text/plain": [
       "<Figure size 800x400 with 1 Axes>"
      ]
     },
     "metadata": {},
     "output_type": "display_data"
    }
   ],
   "source": [
    "import numpy as np\n",
    "\n",
    "# 学習率の推移の可視化\n",
    "def print_lr(LR, NUM_EPOCH):\n",
    "    model = torch.nn.Linear(10, 3) # 仮のネットワークを作成\n",
    "\n",
    "    # 可視化したい条件\n",
    "    lr_list = list()\n",
    "    optimizer = LARS(\n",
    "        model.parameters(), lr=LR, weight_decay=1e-5, momentum=0.9, eta=0.001, \n",
    "        weight_decay_filter=False, lars_adaptation_filter=False\n",
    "    )\n",
    "\n",
    "    # 学習率の取得\n",
    "    for epoch in range(1, NUM_EPOCH+1):\n",
    "        adjust_learning_rate(optimizer, LR, epoch, NUM_EPOCH, WARMUP_EPOCH)\n",
    "        pg = optimizer.param_groups[0]\n",
    "        lr_list.append(pg['lr'])\n",
    "        optimizer.step()\n",
    "        #scheduler.step()\n",
    "\n",
    "    # 学習率の推移を描画\n",
    "    plt.figure(figsize=(8, 4))\n",
    "    plt.plot([i+1 for i in range(len(lr_list))], lr_list)\n",
    "    # 10 epoch刻みで縦線を描画\n",
    "    plt.vlines([10*i for i in range(int((NUM_EPOCH/10)+1))], 0, np.array(lr_list).max(), \"green\", linestyles='dashed')\n",
    "    # x軸とy軸のラベルを描画\n",
    "    plt.xlabel('epoch')\n",
    "    plt.ylabel('lr')\n",
    "    plt.show()\n",
    "\n",
    "# 学習率の推移の確認\n",
    "print_lr(LR, NUM_EPOCH)"
   ]
  },
  {
   "cell_type": "markdown",
   "metadata": {
    "id": "OvcU3vH-1JTP"
   },
   "source": [
    "## ネットワークの学習\n",
    "ネットワークを自己教師あり学習します．"
   ]
  },
  {
   "cell_type": "code",
   "execution_count": 12,
   "metadata": {
    "colab": {
     "base_uri": "https://localhost:8080/"
    },
    "id": "AfVDPUaj2CdD",
    "outputId": "56606623-bd95-43ce-bdce-f22f48b34146"
   },
   "outputs": [
    {
     "name": "stdout",
     "output_type": "stream",
     "text": [
      "epoch: 5,                mean loss: 5.263,                elapsed_time :69.03\n",
      "epoch: 10,                mean loss: 5.16,                elapsed_time :133.4\n",
      "epoch: 15,                mean loss: 5.1,                elapsed_time :199.58\n",
      "epoch: 20,                mean loss: 5.065,                elapsed_time :264.03\n",
      "epoch: 25,                mean loss: 5.037,                elapsed_time :327.45\n",
      "epoch: 30,                mean loss: 5.014,                elapsed_time :393.22\n",
      "epoch: 35,                mean loss: 4.997,                elapsed_time :458.35\n",
      "epoch: 40,                mean loss: 4.981,                elapsed_time :523.1\n",
      "epoch: 45,                mean loss: 4.971,                elapsed_time :588.72\n",
      "epoch: 50,                mean loss: 4.959,                elapsed_time :653.63\n",
      "epoch: 55,                mean loss: 4.95,                elapsed_time :718.42\n",
      "epoch: 60,                mean loss: 4.94,                elapsed_time :784.51\n",
      "epoch: 65,                mean loss: 4.937,                elapsed_time :849.53\n",
      "epoch: 70,                mean loss: 4.932,                elapsed_time :913.46\n",
      "epoch: 75,                mean loss: 4.927,                elapsed_time :979.05\n",
      "epoch: 80,                mean loss: 4.921,                elapsed_time :1042.81\n",
      "epoch: 85,                mean loss: 4.92,                elapsed_time :1107.18\n",
      "epoch: 90,                mean loss: 4.917,                elapsed_time :1170.85\n",
      "epoch: 95,                mean loss: 4.919,                elapsed_time :1235.65\n",
      "epoch: 100,                mean loss: 4.916,                elapsed_time :1301.19\n"
     ]
    }
   ],
   "source": [
    "# ネットワークをGPUへ\n",
    "net = net.cuda()\n",
    "\n",
    "# ネットワークを学習モードへ変更\n",
    "net.train()\n",
    "\n",
    "start = time()\n",
    "for epoch in range(1, NUM_EPOCH+1):\n",
    "    # ログ用の設定\n",
    "    sum_loss = 0.0\n",
    "\n",
    "    # 学習率の調整\n",
    "    adjust_learning_rate(optimizer, LR, epoch, NUM_EPOCH, 10)\n",
    "\n",
    "    for (image_i, image_y), _ in unsup_loader:\n",
    "        # ラベルなしデータをGPUへ\n",
    "        image_i = image_i.cuda()\n",
    "        image_y = image_y.cuda()\n",
    "\n",
    "        # ラベルなしデータをネットワークへ入力\n",
    "        z_i, z_j = net(image_i, image_y)\n",
    "\n",
    "        # 損失の計算\n",
    "        loss = criterion(z_i, z_j)\n",
    "\n",
    "        # パラメータの更新\n",
    "        net.zero_grad()\n",
    "        loss.backward()\n",
    "        optimizer.step()\n",
    "\n",
    "        # ログ用に損失値を取得\n",
    "        sum_loss += loss.item()\n",
    "\n",
    "    # ログの表示\n",
    "    if (epoch%5 == 0) or (epoch == NUM_EPOCH):\n",
    "        print(f\"epoch: {epoch},\\\n",
    "                mean loss: {round(sum_loss/len(unsup_loader), 3)},\\\n",
    "                elapsed_time :{round(time()-start, 2)}\")"
   ]
  },
  {
   "cell_type": "markdown",
   "metadata": {
    "id": "G2qnV17HNcOW"
   },
   "source": [
    "## 自己教師あり学習したネットワークの保存"
   ]
  },
  {
   "cell_type": "code",
   "execution_count": 13,
   "metadata": {
    "id": "XAWqCwfGNcOW"
   },
   "outputs": [],
   "source": [
    "torch.save(net.encoder.to('cpu').state_dict(), './cifar100_pre_train.pth')"
   ]
  },
  {
   "cell_type": "markdown",
   "metadata": {
    "id": "R2Pf4VNhNcOW"
   },
   "source": [
    "## 自己教師あり学習したネットワークの評価"
   ]
  },
  {
   "cell_type": "markdown",
   "metadata": {
    "id": "p8rcAGIfNcOX"
   },
   "source": [
    "### データセットの用意\n",
    "下流タスクとして使用するデータセットを定義します．\\\n",
    "今回は，下流タスクとしてランダムに選んだ1,000サンプルのデータから学習します．"
   ]
  },
  {
   "cell_type": "code",
   "execution_count": 14,
   "metadata": {
    "colab": {
     "base_uri": "https://localhost:8080/",
     "height": 101,
     "referenced_widgets": [
      "c40b085b3d3349e88fd45b995107f498",
      "27018c26614c4e6794bf8a128fd25c41",
      "f63326f318f2453fb7268619ac326aab",
      "c273b568f817436f89c2c2dde06a95a5",
      "507698b71c7242eab1e15e64ccd7a454",
      "2f6a6d3721b140ff879b77d80d9bc542",
      "8815f5f93b4c43c7a314d7d93ea77f7a",
      "2cca9ccbf8204b249782f978b408f72c",
      "c36bd147b6134248bd8b7d5b0be0bb19",
      "671dd49d9b834c2e97b375f95bb26e25",
      "b475a1854e584023a2da3fe6805c5420"
     ]
    },
    "id": "rxLyfdQ9NcOX",
    "outputId": "e301bbd6-c48c-4934-8a3d-69116eeec5f0"
   },
   "outputs": [
    {
     "name": "stdout",
     "output_type": "stream",
     "text": [
      "Downloading https://www.cs.toronto.edu/~kriz/cifar-10-python.tar.gz to ./dataset/CIFAR-10/cifar-10-python.tar.gz\n"
     ]
    },
    {
     "name": "stderr",
     "output_type": "stream",
     "text": [
      "100%|██████████████████████████████████████████████████████████████████████████████████████████████████████████████████████████████████████████████████████████████████████████████████████████████████████████████████████████████████████████████████████████████████████| 170498071/170498071 [00:11<00:00, 15235642.73it/s]\n"
     ]
    },
    {
     "name": "stdout",
     "output_type": "stream",
     "text": [
      "Extracting ./dataset/CIFAR-10/cifar-10-python.tar.gz to ./dataset/CIFAR-10\n",
      "Files already downloaded and verified\n"
     ]
    }
   ],
   "source": [
    "# 学習用データに対するデータ増幅\n",
    "train_transform = transforms.Compose([\n",
    "    transforms.ToTensor(),\n",
    "    transforms.Normalize((0.4914, 0.4822, 0.4465), (0.2470, 0.2435, 0.2616)),\n",
    "])\n",
    "\n",
    "# 評価用データに対するデータ増幅\n",
    "test_transform = transforms.Compose([\n",
    "    transforms.ToTensor(),\n",
    "    transforms.Normalize((0.4914, 0.4822, 0.4465), (0.2470, 0.2435, 0.2616)),\n",
    "])\n",
    "\n",
    "# 学習用データ\n",
    "trainset = torchvision.datasets.CIFAR10(root=\"./dataset/CIFAR-10\", train=True,  download=True, transform=train_transform)\n",
    "\n",
    "# 評価用データ\n",
    "testset  = torchvision.datasets.CIFAR10(root=\"./dataset/CIFAR-10\", train=False, download=True, transform=test_transform)"
   ]
  },
  {
   "cell_type": "code",
   "execution_count": 15,
   "metadata": {
    "id": "7M5mUmd1NcOX"
   },
   "outputs": [],
   "source": [
    "# StratifiedShuffleSplit：データをシャッフルして分割\n",
    "sss = StratifiedShuffleSplit(n_splits=1, test_size=1000, random_state=0)\n",
    "\n",
    "# list(range(len(total_trainset)))：データidのリスト，total_trainset.targets：データidに対応するラベル\n",
    "sss = sss.split(list(range(len(trainset))), trainset.targets)\n",
    "\n",
    "# 分割後のデータidを取得\n",
    "_, label_idx = next(sss)"
   ]
  },
  {
   "cell_type": "code",
   "execution_count": 16,
   "metadata": {
    "id": "TirRDkMMNcOX"
   },
   "outputs": [],
   "source": [
    "# 学習用データセットを作成\n",
    "train_subset = Subset(trainset, label_idx)\n",
    "labels = [trainset.targets[idx] for idx in label_idx]\n",
    "train_subset.train_labels = labels"
   ]
  },
  {
   "cell_type": "code",
   "execution_count": 17,
   "metadata": {
    "colab": {
     "base_uri": "https://localhost:8080/"
    },
    "id": "BmCG9JLfNcOX",
    "outputId": "7bcebeb8-93b1-4505-9121-f7b2455b2d1c"
   },
   "outputs": [
    {
     "name": "stdout",
     "output_type": "stream",
     "text": [
      "データ数\n",
      "教師ありデータ： 1000\n"
     ]
    }
   ],
   "source": [
    "print(\"データ数\")\n",
    "print(\"教師ありデータ：\", len(train_subset))"
   ]
  },
  {
   "cell_type": "code",
   "execution_count": 18,
   "metadata": {
    "colab": {
     "base_uri": "https://localhost:8080/"
    },
    "id": "QiyVIPwbNcOX",
    "outputId": "3d7bb8fb-8626-4a2e-dea8-926d396a38ac"
   },
   "outputs": [],
   "source": [
    "# 学習用データのDataloader\n",
    "train_loader = torch.utils.data.DataLoader(train_subset,\n",
    "                                           batch_size=16,\n",
    "                                           shuffle=True,\n",
    "                                           num_workers=16,\n",
    "                                           pin_memory=True,\n",
    "                                           drop_last=True)\n",
    "\n",
    "# 評価用データのDataloader\n",
    "test_loader  = torch.utils.data.DataLoader(testset,\n",
    "                                           batch_size=16,\n",
    "                                           shuffle=False,\n",
    "                                           num_workers=16,\n",
    "                                           pin_memory=True,\n",
    "                                           drop_last=False)"
   ]
  },
  {
   "cell_type": "markdown",
   "metadata": {
    "id": "_kTkHNWMNcOX"
   },
   "source": [
    "### 乱数により初期化したネットワーク\n",
    "自己教師あり学習による事前学習した場合の結果と比較するために，乱数により初期化したネットワークを教師あり学習します．\\\n",
    "また，５epochごとに評価用データを用いてネットワークの評価を行います．"
   ]
  },
  {
   "cell_type": "code",
   "execution_count": 19,
   "metadata": {
    "colab": {
     "base_uri": "https://localhost:8080/"
    },
    "id": "Ovcv4vU7NcOX",
    "outputId": "3b5d4059-676e-4b55-eb5f-7c8df5019de4"
   },
   "outputs": [
    {
     "name": "stdout",
     "output_type": "stream",
     "text": [
      "epoch: 1,            mean loss: 2.269,            mean accuracy: 0.14,            elapsed_time :1.35\n",
      "epoch: 2,            mean loss: 2.061,            mean accuracy: 0.25,            elapsed_time :2.56\n",
      "epoch: 3,            mean loss: 1.903,            mean accuracy: 0.32,            elapsed_time :3.91\n",
      "epoch: 4,            mean loss: 1.728,            mean accuracy: 0.37,            elapsed_time :5.25\n",
      "epoch: 5,            mean loss: 1.62,            mean accuracy: 0.4,            elapsed_time :6.59\n",
      "test accuracy: 0.3599\n",
      "epoch: 6,            mean loss: 1.41,            mean accuracy: 0.48,            elapsed_time :10.54\n",
      "epoch: 7,            mean loss: 1.213,            mean accuracy: 0.55,            elapsed_time :11.85\n",
      "epoch: 8,            mean loss: 1.032,            mean accuracy: 0.63,            elapsed_time :13.2\n",
      "epoch: 9,            mean loss: 0.717,            mean accuracy: 0.74,            elapsed_time :14.46\n",
      "epoch: 10,            mean loss: 0.526,            mean accuracy: 0.83,            elapsed_time :15.76\n",
      "test accuracy: 0.3922\n",
      "epoch: 11,            mean loss: 0.372,            mean accuracy: 0.86,            elapsed_time :19.55\n",
      "epoch: 12,            mean loss: 0.293,            mean accuracy: 0.9,            elapsed_time :20.87\n",
      "epoch: 13,            mean loss: 0.242,            mean accuracy: 0.92,            elapsed_time :22.2\n",
      "epoch: 14,            mean loss: 0.121,            mean accuracy: 0.96,            elapsed_time :23.54\n",
      "epoch: 15,            mean loss: 0.14,            mean accuracy: 0.95,            elapsed_time :24.84\n",
      "test accuracy: 0.3941\n",
      "epoch: 16,            mean loss: 0.104,            mean accuracy: 0.96,            elapsed_time :28.67\n",
      "epoch: 17,            mean loss: 0.098,            mean accuracy: 0.96,            elapsed_time :29.94\n",
      "epoch: 18,            mean loss: 0.079,            mean accuracy: 0.97,            elapsed_time :31.29\n",
      "epoch: 19,            mean loss: 0.095,            mean accuracy: 0.96,            elapsed_time :32.67\n",
      "epoch: 20,            mean loss: 0.028,            mean accuracy: 0.98,            elapsed_time :34.05\n",
      "test accuracy: 0.3969\n",
      "epoch: 21,            mean loss: 0.043,            mean accuracy: 0.98,            elapsed_time :38.01\n",
      "epoch: 22,            mean loss: 0.132,            mean accuracy: 0.96,            elapsed_time :39.34\n",
      "epoch: 23,            mean loss: 0.07,            mean accuracy: 0.97,            elapsed_time :40.69\n",
      "epoch: 24,            mean loss: 0.019,            mean accuracy: 0.99,            elapsed_time :41.99\n",
      "epoch: 25,            mean loss: 0.005,            mean accuracy: 0.99,            elapsed_time :43.36\n",
      "test accuracy: 0.3979\n",
      "epoch: 26,            mean loss: 0.001,            mean accuracy: 0.99,            elapsed_time :47.2\n",
      "epoch: 27,            mean loss: 0.0,            mean accuracy: 0.99,            elapsed_time :48.5\n",
      "epoch: 28,            mean loss: 0.0,            mean accuracy: 0.99,            elapsed_time :49.89\n",
      "epoch: 29,            mean loss: 0.0,            mean accuracy: 0.99,            elapsed_time :51.21\n",
      "epoch: 30,            mean loss: 0.0,            mean accuracy: 0.99,            elapsed_time :52.58\n",
      "test accuracy: 0.4096\n"
     ]
    }
   ],
   "source": [
    "# ネットワークの設定\n",
    "sup_net = CNN(widen_factor=1)\n",
    "\n",
    "# 最適化方法の設定\n",
    "optimizer = torch.optim.SGD(sup_net.parameters(), lr=0.01, momentum=0.9)\n",
    "\n",
    "# 損失式の設定\n",
    "criterion = torch.nn.CrossEntropyLoss()\n",
    "\n",
    "# エポック数の設定\n",
    "NUM_EPOCH = 30\n",
    "\n",
    "# ネットワークをGPUへ\n",
    "sup_net = sup_net.cuda()\n",
    "\n",
    "start = time()\n",
    "for epoch in range(1, NUM_EPOCH+1):\n",
    "    # ネットワークの学習 ----------------------------------------------------------\n",
    "    # ネットワークを学習モードへ変更\n",
    "    sup_net.train()\n",
    "\n",
    "    # ログ用の設定\n",
    "    sum_loss = 0.0\n",
    "    count = 0\n",
    "\n",
    "    for image, label in train_loader:\n",
    "        # 学習用データをGPUへ\n",
    "        image = image.cuda()\n",
    "        label = label.cuda()\n",
    "\n",
    "        # 学習用データをネットワークへ入力\n",
    "        logits = sup_net(image)\n",
    "\n",
    "        # 損失の計算\n",
    "        loss = criterion(logits, label)\n",
    "\n",
    "        # パラメータの更新\n",
    "        sup_net.zero_grad()\n",
    "        loss.backward()\n",
    "        optimizer.step()\n",
    "\n",
    "        # ログ用に損失値と正解したデータ数を取得\n",
    "        sum_loss += loss.item()\n",
    "        pred   = torch.argmax(logits, dim=1)\n",
    "        count += torch.sum(pred == label)\n",
    "\n",
    "    # ログの表示\n",
    "    print(f\"epoch: {epoch},\\\n",
    "            mean loss: {round(sum_loss/len(train_loader), 3)},\\\n",
    "            mean accuracy: {round(count.item()/len(train_loader.dataset), 2)},\\\n",
    "            elapsed_time :{round(time()-start, 2)}\")\n",
    "\n",
    "    # ネットワークの評価 ----------------------------------------------------------\n",
    "    if (epoch%5 == 0) or (epoch == NUM_EPOCH):  # 5 epoch毎に評価\n",
    "        # ネットワークを評価モードへ変更\n",
    "        sup_net.eval()\n",
    "\n",
    "        # 評価の実行\n",
    "        count = 0\n",
    "        with torch.no_grad():\n",
    "            for image, label in test_loader:\n",
    "                # 評価用データをGPUへ\n",
    "                image = image.cuda()\n",
    "                label = label.cuda()\n",
    "\n",
    "                # 評価用データをネットワークへ入力\n",
    "                logits = sup_net(image)\n",
    "\n",
    "                # 正解したデータ数を取得\n",
    "                pred = torch.argmax(logits, dim=1)\n",
    "                count += torch.sum(pred == label)\n",
    "\n",
    "        # 評価結果の表示\n",
    "        print(f\"test accuracy: {count.item()/len(test_loader.dataset)}\")"
   ]
  },
  {
   "cell_type": "markdown",
   "metadata": {
    "id": "Bl2oehfINcOY"
   },
   "source": [
    "### 自己教師あり学習により事前学習したネットワーク\n",
    "自己教師あり学習により事前学習したネットワークを学習します．\n",
    "\n",
    "自己教師あり学習は，学習に多くの時間を必要とするため，いくつかの自己教師あり学習した重みパラメータを用意しました．\n",
    "使用したい場合は，以下のプログラムから重みパラメータのダウンロードを行い，次の「自己教師あり学習した重みパラメータの指定」のPATHを変更して実行してください．\n"
   ]
  },
  {
   "cell_type": "code",
   "execution_count": 20,
   "metadata": {
    "id": "vkD33kf7NcOY"
   },
   "outputs": [],
   "source": [
    "import requests\n",
    "\n",
    "# ネットワーク：widen_factor=1, エポック数：300, ミニバッチサイズ：256\n",
    "#res = requests.get(\"https://www.dropbox.com/s/ux6f8gz88bzg9qe/cifar100_wf1_300epoch_256batch.pth?dl=1\")\n",
    "#with open(f\"cifar100_wf1_300epoch_256batch.pth\", 'wb') as f:\n",
    "#    f.write(res.content)\n",
    "\n",
    "# ネットワーク：widen_factor=1, エポック数：300, ミニバッチサイズ：512\n",
    "#res = requests.get(\"https://www.dropbox.com/s/e31vr8o57zyqlfe/cifar100_wf1_300epoch_512batch.pth?dl=1\")\n",
    "#with open(f\"cifar100_wf1_300epoch_512batch.pth\", 'wb') as f:\n",
    "#    f.write(res.content)\n",
    "\n",
    "# ネットワーク：widen_factor=1, エポック数：100, ミニバッチサイズ：1024\n",
    "#res = requests.get(\"https://www.dropbox.com/s/a6h9n4m8007biwm/cifar100_wf1_100epoch_1024batch.pth?dl=1\")\n",
    "#with open(f\"cifar100_wf1_100epoch_1024batch.pth\", 'wb') as f:\n",
    "#    f.write(res.content)\n",
    "\n",
    "# ネットワーク：widen_factor=1, エポック数：300, ミニバッチサイズ：1024\n",
    "#res = requests.get(\"https://www.dropbox.com/s/oi1p4kwd1mjij53/cifar100_wf1_300epoch_1024batch.pth?dl=1\")\n",
    "#with open(f\"cifar100_wf1_300epoch_1024batch.pth\", 'wb') as f:\n",
    "#    f.write(res.content)\n",
    "\n",
    "# ネットワーク：widen_factor=1, エポック数：1000, ミニバッチサイズ：1024\n",
    "#res = requests.get(\"https://www.dropbox.com/s/u46wsbgtgwqr7k2/cifar100_wf1_1000epoch_1024batch.pth?dl=1\")\n",
    "#with open(f\"cifar100_wf1_1000epoch_1024batch.pth\", 'wb') as f:\n",
    "#    f.write(res.content)"
   ]
  },
  {
   "cell_type": "markdown",
   "metadata": {
    "id": "GFAknQX2NcOY"
   },
   "source": [
    "#### 自己教師あり学習した重みパラメータの指定"
   ]
  },
  {
   "cell_type": "code",
   "execution_count": 21,
   "metadata": {
    "id": "TiXEpPm2NcOY"
   },
   "outputs": [],
   "source": [
    "weight_path = './cifar100_pre_train.pth'"
   ]
  },
  {
   "cell_type": "markdown",
   "metadata": {
    "id": "vjqK1j2bNcOY"
   },
   "source": [
    "#### fine-tuning"
   ]
  },
  {
   "cell_type": "code",
   "execution_count": 29,
   "metadata": {
    "colab": {
     "base_uri": "https://localhost:8080/"
    },
    "id": "hFAWjwWQNcOY",
    "outputId": "469c817b-e0f5-4a36-dd06-42a7f84df350"
   },
   "outputs": [
    {
     "name": "stdout",
     "output_type": "stream",
     "text": [
      "_IncompatibleKeys(missing_keys=['l3.weight', 'l3.bias'], unexpected_keys=[])\n",
      "epoch: 1,            mean loss: 2.284,            mean accuracy: 0.18,            elapsed_time :1.27\n",
      "epoch: 2,            mean loss: 2.131,            mean accuracy: 0.3,            elapsed_time :2.64\n",
      "epoch: 3,            mean loss: 1.901,            mean accuracy: 0.31,            elapsed_time :3.99\n",
      "epoch: 4,            mean loss: 1.728,            mean accuracy: 0.4,            elapsed_time :5.33\n",
      "epoch: 5,            mean loss: 1.594,            mean accuracy: 0.42,            elapsed_time :6.68\n",
      "test accuracy: 0.3837\n",
      "epoch: 6,            mean loss: 1.458,            mean accuracy: 0.47,            elapsed_time :10.69\n",
      "epoch: 7,            mean loss: 1.332,            mean accuracy: 0.51,            elapsed_time :12.08\n",
      "epoch: 8,            mean loss: 1.241,            mean accuracy: 0.55,            elapsed_time :13.44\n",
      "epoch: 9,            mean loss: 1.122,            mean accuracy: 0.6,            elapsed_time :14.83\n",
      "epoch: 10,            mean loss: 0.969,            mean accuracy: 0.65,            elapsed_time :16.13\n",
      "test accuracy: 0.427\n",
      "epoch: 11,            mean loss: 0.837,            mean accuracy: 0.69,            elapsed_time :20.09\n",
      "epoch: 12,            mean loss: 0.659,            mean accuracy: 0.76,            elapsed_time :21.48\n",
      "epoch: 13,            mean loss: 0.586,            mean accuracy: 0.81,            elapsed_time :22.89\n",
      "epoch: 14,            mean loss: 0.384,            mean accuracy: 0.89,            elapsed_time :24.22\n",
      "epoch: 15,            mean loss: 0.242,            mean accuracy: 0.93,            elapsed_time :25.65\n",
      "test accuracy: 0.434\n",
      "epoch: 16,            mean loss: 0.152,            mean accuracy: 0.95,            elapsed_time :29.56\n",
      "epoch: 17,            mean loss: 0.078,            mean accuracy: 0.98,            elapsed_time :30.95\n",
      "epoch: 18,            mean loss: 0.059,            mean accuracy: 0.98,            elapsed_time :32.38\n",
      "epoch: 19,            mean loss: 0.028,            mean accuracy: 0.99,            elapsed_time :33.73\n",
      "epoch: 20,            mean loss: 0.021,            mean accuracy: 0.99,            elapsed_time :35.1\n",
      "test accuracy: 0.4466\n",
      "epoch: 21,            mean loss: 0.009,            mean accuracy: 0.99,            elapsed_time :39.03\n",
      "epoch: 22,            mean loss: 0.006,            mean accuracy: 0.99,            elapsed_time :40.44\n",
      "epoch: 23,            mean loss: 0.004,            mean accuracy: 0.99,            elapsed_time :41.85\n",
      "epoch: 24,            mean loss: 0.003,            mean accuracy: 0.99,            elapsed_time :43.23\n",
      "epoch: 25,            mean loss: 0.003,            mean accuracy: 0.99,            elapsed_time :44.65\n",
      "test accuracy: 0.4484\n",
      "epoch: 26,            mean loss: 0.002,            mean accuracy: 0.99,            elapsed_time :48.59\n",
      "epoch: 27,            mean loss: 0.002,            mean accuracy: 0.99,            elapsed_time :49.97\n",
      "epoch: 28,            mean loss: 0.002,            mean accuracy: 0.99,            elapsed_time :51.35\n",
      "epoch: 29,            mean loss: 0.002,            mean accuracy: 0.99,            elapsed_time :52.73\n",
      "epoch: 30,            mean loss: 0.002,            mean accuracy: 0.99,            elapsed_time :54.04\n",
      "test accuracy: 0.4499\n"
     ]
    }
   ],
   "source": [
    "# ネットワークの設定\n",
    "ssl_net = CNN(widen_factor=1)  # ネットワークの用意\n",
    "msg = ssl_net.load_state_dict(torch.load(weight_path), strict=False)  # 重みパラメータの読み込み\n",
    "print(msg)\n",
    "\n",
    "# 最適化方法の設定\n",
    "optimizer = torch.optim.SGD(ssl_net.parameters(), lr=0.003, momentum=0.9)\n",
    "criterion = torch.nn.CrossEntropyLoss()\n",
    "\n",
    "# エポック数の設定\n",
    "NUM_EPOCH = 30\n",
    "\n",
    "# ネットワークをGPUへ\n",
    "ssl_net = ssl_net.cuda()\n",
    "\n",
    "start = time()\n",
    "for epoch in range(1, NUM_EPOCH+1):\n",
    "    # ネットワークの学習 ----------------------------------------------------------\n",
    "    # ネットワークを学習モードへ変更\n",
    "    ssl_net.train()\n",
    "\n",
    "    # ログ用の設定\n",
    "    sum_loss = 0.0\n",
    "    count = 0\n",
    "\n",
    "    for image, label in train_loader:\n",
    "        # 学習用データをGPUへ\n",
    "        image = image.cuda()\n",
    "        label = label.cuda()\n",
    "\n",
    "        # 学習用データをネットワークへ入力\n",
    "        logits = ssl_net(image)\n",
    "\n",
    "        # 損失の計算\n",
    "        loss = criterion(logits, label)\n",
    "\n",
    "        # パラメータの更新\n",
    "        ssl_net.zero_grad()\n",
    "        loss.backward()\n",
    "        optimizer.step()\n",
    "\n",
    "        # ログ用に損失値と正解したデータ数を取得\n",
    "        sum_loss += loss.item()\n",
    "        pred   = torch.argmax(logits, dim=1)\n",
    "        count += torch.sum(pred == label)\n",
    "\n",
    "    # ログの表示\n",
    "    print(f\"epoch: {epoch},\\\n",
    "            mean loss: {round(sum_loss/len(train_loader), 3)},\\\n",
    "            mean accuracy: {round(count.item()/len(train_loader.dataset), 2)},\\\n",
    "            elapsed_time :{round(time()-start, 2)}\")\n",
    "\n",
    "\n",
    "    # ネットワークの評価 ----------------------------------------------------------\n",
    "    if (epoch%5 == 0) or (epoch == NUM_EPOCH):  # 5 epoch毎に評価\n",
    "        # ネットワークを評価モードへ変更\n",
    "        ssl_net.eval()\n",
    "\n",
    "        # 評価の実行\n",
    "        count = 0\n",
    "        with torch.no_grad():\n",
    "            for image, label in test_loader:\n",
    "                # 評価用データをGPUへ\n",
    "                image = image.cuda()\n",
    "                label = label.cuda()\n",
    "\n",
    "                # 評価用データをネットワークへ入力\n",
    "                logits = ssl_net(image)\n",
    "\n",
    "                # 正解したデータ数を取得\n",
    "                pred = torch.argmax(logits, dim=1)\n",
    "                count += torch.sum(pred == label)\n",
    "\n",
    "        # 評価結果の表示\n",
    "        print(f\"test accuracy: {count.item()/len(test_loader.dataset)}\")"
   ]
  },
  {
   "cell_type": "markdown",
   "metadata": {
    "id": "Ml_a45JR2CdD"
   },
   "source": [
    "#### 転移学習"
   ]
  },
  {
   "cell_type": "code",
   "execution_count": 30,
   "metadata": {
    "id": "l64RbEtSNcOY"
   },
   "outputs": [],
   "source": [
    "# 出力層のみのネットワーク\n",
    "class LogisticRegression(nn.Module):\n",
    "    def __init__(self, n_features, n_classes):\n",
    "        super(LogisticRegression, self).__init__()\n",
    "        self.model = nn.Linear(n_features, n_classes)\n",
    "\n",
    "    def forward(self, x):\n",
    "        return self.model(x)"
   ]
  },
  {
   "cell_type": "code",
   "execution_count": 35,
   "metadata": {
    "colab": {
     "base_uri": "https://localhost:8080/"
    },
    "id": "xk4PrHsnNcOY",
    "outputId": "16a16adc-c8fc-4e76-8bd3-6ce01e5dafde"
   },
   "outputs": [
    {
     "name": "stdout",
     "output_type": "stream",
     "text": [
      "epoch: 1,            mean loss: 2.319,            mean accuracy: 0.28,            elapsed_time : 1.39\n",
      "epoch: 2,            mean loss: 1.533,            mean accuracy: 0.47,            elapsed_time : 2.75\n",
      "epoch: 3,            mean loss: 1.341,            mean accuracy: 0.54,            elapsed_time : 4.12\n",
      "epoch: 4,            mean loss: 1.103,            mean accuracy: 0.61,            elapsed_time : 5.52\n",
      "epoch: 5,            mean loss: 0.905,            mean accuracy: 0.69,            elapsed_time : 6.86\n",
      "test accuracy: 0.4178\n",
      "epoch: 6,            mean loss: 0.817,            mean accuracy: 0.71,            elapsed_time : 10.88\n",
      "epoch: 7,            mean loss: 0.782,            mean accuracy: 0.72,            elapsed_time : 12.31\n",
      "epoch: 8,            mean loss: 0.704,            mean accuracy: 0.75,            elapsed_time : 13.58\n",
      "epoch: 9,            mean loss: 0.532,            mean accuracy: 0.82,            elapsed_time : 14.9\n",
      "epoch: 10,            mean loss: 0.527,            mean accuracy: 0.82,            elapsed_time : 16.18\n",
      "test accuracy: 0.4183\n",
      "epoch: 11,            mean loss: 0.463,            mean accuracy: 0.85,            elapsed_time : 20.24\n",
      "epoch: 12,            mean loss: 0.407,            mean accuracy: 0.88,            elapsed_time : 21.58\n",
      "epoch: 13,            mean loss: 0.36,            mean accuracy: 0.89,            elapsed_time : 22.94\n",
      "epoch: 14,            mean loss: 0.366,            mean accuracy: 0.89,            elapsed_time : 24.28\n",
      "epoch: 15,            mean loss: 0.439,            mean accuracy: 0.86,            elapsed_time : 25.57\n",
      "test accuracy: 0.4224\n",
      "epoch: 16,            mean loss: 0.274,            mean accuracy: 0.93,            elapsed_time : 29.49\n",
      "epoch: 17,            mean loss: 0.249,            mean accuracy: 0.94,            elapsed_time : 30.83\n",
      "epoch: 18,            mean loss: 0.213,            mean accuracy: 0.95,            elapsed_time : 32.24\n",
      "epoch: 19,            mean loss: 0.198,            mean accuracy: 0.96,            elapsed_time : 33.63\n",
      "epoch: 20,            mean loss: 0.161,            mean accuracy: 0.97,            elapsed_time : 35.03\n",
      "test accuracy: 0.4481\n",
      "epoch: 21,            mean loss: 0.169,            mean accuracy: 0.96,            elapsed_time : 39.03\n",
      "epoch: 22,            mean loss: 0.143,            mean accuracy: 0.98,            elapsed_time : 40.38\n",
      "epoch: 23,            mean loss: 0.124,            mean accuracy: 0.98,            elapsed_time : 41.57\n",
      "epoch: 24,            mean loss: 0.116,            mean accuracy: 0.98,            elapsed_time : 42.91\n",
      "epoch: 25,            mean loss: 0.11,            mean accuracy: 0.99,            elapsed_time : 44.2\n",
      "test accuracy: 0.4433\n",
      "epoch: 26,            mean loss: 0.102,            mean accuracy: 0.99,            elapsed_time : 48.09\n",
      "epoch: 27,            mean loss: 0.114,            mean accuracy: 0.98,            elapsed_time : 49.41\n",
      "epoch: 28,            mean loss: 0.085,            mean accuracy: 0.99,            elapsed_time : 50.82\n",
      "epoch: 29,            mean loss: 0.088,            mean accuracy: 0.99,            elapsed_time : 52.19\n",
      "epoch: 30,            mean loss: 0.08,            mean accuracy: 0.99,            elapsed_time : 53.55\n",
      "test accuracy: 0.4404\n"
     ]
    }
   ],
   "source": [
    "# ネットワークの設定\n",
    "encoder = CNN(widen_factor=1)  # ネットワークの用意\n",
    "encoder.l3 = Identity()  # ネットワークの3層目の全結合層を変更（入力値をそのまま返すように変更）\n",
    "encoder.load_state_dict(torch.load(weight_path))  # 重みパラメータの読み込み\n",
    "\n",
    "net_fc = LogisticRegression(encoder.l2.out_features, 10)  # 出力層のみネットワークの用意\n",
    "\n",
    "# 最適化方法の設定\n",
    "optimizer = torch.optim.Adam(net_fc.parameters(), lr=0.1)\n",
    "criterion = torch.nn.CrossEntropyLoss()\n",
    "\n",
    "# エポック数の設定\n",
    "NUM_EPOCH = 30\n",
    "\n",
    "# ネットワークと出力層をGPUへ\n",
    "encoder = encoder.cuda()\n",
    "net_fc  = net_fc.cuda()\n",
    "\n",
    "# ネットワークを評価モードへ変更\n",
    "encoder.eval()\n",
    "\n",
    "start = time()\n",
    "for epoch in range(1, NUM_EPOCH+1):\n",
    "    # 出力層の学習 ---------------------------------------------------------------\n",
    "    # 出力層を学習用モードへ変更\n",
    "    net_fc.train()\n",
    "\n",
    "    # ログ用の設定\n",
    "    sum_loss = 0.0\n",
    "    count = 0\n",
    "\n",
    "    for image, label in train_loader:\n",
    "        # 学習用データをGPUへ\n",
    "        image = image.cuda()\n",
    "        label = label.cuda()\n",
    "\n",
    "        # 学習用データをネットワークへ入力\n",
    "        with torch.no_grad():\n",
    "            h = encoder(image)\n",
    "\n",
    "        # ネットワークの抽出した特徴量を出力層へ入力\n",
    "        h = h.detach()  # 計算グラフのカット\n",
    "        y = net_fc(h)\n",
    "\n",
    "        # 損失の計算\n",
    "        loss = criterion(y, label)\n",
    "\n",
    "        # パラメータの更新\n",
    "        net_fc.zero_grad()\n",
    "        loss.backward()\n",
    "        optimizer.step()\n",
    "\n",
    "        # ログ用に損失値と正解したデータ数を取得\n",
    "        sum_loss += loss.item()\n",
    "        pred   = torch.argmax(y, dim=1)\n",
    "        count += torch.sum(pred == label)\n",
    "\n",
    "    # ログの表示\n",
    "    print(f\"epoch: {epoch},\\\n",
    "            mean loss: {round(sum_loss/len(train_loader), 3)},\\\n",
    "            mean accuracy: {round(count.item()/len(train_loader.dataset), 2)},\\\n",
    "            elapsed_time : {round(time()-start, 2)}\")\n",
    "\n",
    "    # ネットワーク+出力層の評価 ----------------------------------------------------\n",
    "    if (epoch%5 == 0) or (epoch == NUM_EPOCH):  # 5 epoch毎に評価\n",
    "        # ネットワークを評価モードへ変更\n",
    "        net_fc.eval()\n",
    "\n",
    "        # 評価の実行\n",
    "        count = 0\n",
    "        with torch.no_grad():\n",
    "            for image, label in test_loader:\n",
    "                # 評価用データをGPUへ\n",
    "                image = image.cuda()\n",
    "                label = label.cuda()\n",
    "\n",
    "                # 評価用データをネットワーク+出力層へ入力\n",
    "                h = encoder(image)\n",
    "                y = net_fc(h)\n",
    "\n",
    "                # 正解したデータ数を取得\n",
    "                pred = torch.argmax(y, dim=1)\n",
    "                count += torch.sum(pred == label)\n",
    "\n",
    "        # 評価結果の表示\n",
    "        print(f\"test accuracy: {count.item()/len(test_loader.dataset)}\")"
   ]
  },
  {
   "cell_type": "markdown",
   "metadata": {
    "id": "5_wcKMudNcOZ"
   },
   "source": [
    "# 課題\n",
    "1. 自己教師あり学習の学習回数（エポック数）を変更してみましょう\n",
    "2. 自己教師あり学習のミニバッチサイズを変更してみましょう\n",
    "3. 下流タスクのデータ数を変更してみましょう"
   ]
  },
  {
   "cell_type": "markdown",
   "metadata": {
    "id": "AJzjjOaKNcOZ"
   },
   "source": []
  }
 ],
 "metadata": {
  "accelerator": "GPU",
  "colab": {
   "provenance": []
  },
  "kernelspec": {
   "display_name": "Python 3 (ipykernel)",
   "language": "python",
   "name": "python3"
  },
  "language_info": {
   "codemirror_mode": {
    "name": "ipython",
    "version": 3
   },
   "file_extension": ".py",
   "mimetype": "text/x-python",
   "name": "python",
   "nbconvert_exporter": "python",
   "pygments_lexer": "ipython3",
   "version": "3.8.10"
  },
  "vscode": {
   "interpreter": {
    "hash": "31f2aee4e71d21fbe5cf8b01ff0e069b9275f58929596ceb00d14d90e3e16cd6"
   }
  },
  "widgets": {
   "application/vnd.jupyter.widget-state+json": {
    "084c9ce83646445bb1934c09c7edf0e1": {
     "model_module": "@jupyter-widgets/base",
     "model_module_version": "1.2.0",
     "model_name": "LayoutModel",
     "state": {
      "_model_module": "@jupyter-widgets/base",
      "_model_module_version": "1.2.0",
      "_model_name": "LayoutModel",
      "_view_count": null,
      "_view_module": "@jupyter-widgets/base",
      "_view_module_version": "1.2.0",
      "_view_name": "LayoutView",
      "align_content": null,
      "align_items": null,
      "align_self": null,
      "border": null,
      "bottom": null,
      "display": null,
      "flex": null,
      "flex_flow": null,
      "grid_area": null,
      "grid_auto_columns": null,
      "grid_auto_flow": null,
      "grid_auto_rows": null,
      "grid_column": null,
      "grid_gap": null,
      "grid_row": null,
      "grid_template_areas": null,
      "grid_template_columns": null,
      "grid_template_rows": null,
      "height": null,
      "justify_content": null,
      "justify_items": null,
      "left": null,
      "margin": null,
      "max_height": null,
      "max_width": null,
      "min_height": null,
      "min_width": null,
      "object_fit": null,
      "object_position": null,
      "order": null,
      "overflow": null,
      "overflow_x": null,
      "overflow_y": null,
      "padding": null,
      "right": null,
      "top": null,
      "visibility": null,
      "width": null
     }
    },
    "13f88eb28dcf458582fae9c4bcbe504b": {
     "model_module": "@jupyter-widgets/controls",
     "model_module_version": "1.5.0",
     "model_name": "DescriptionStyleModel",
     "state": {
      "_model_module": "@jupyter-widgets/controls",
      "_model_module_version": "1.5.0",
      "_model_name": "DescriptionStyleModel",
      "_view_count": null,
      "_view_module": "@jupyter-widgets/base",
      "_view_module_version": "1.2.0",
      "_view_name": "StyleView",
      "description_width": ""
     }
    },
    "27018c26614c4e6794bf8a128fd25c41": {
     "model_module": "@jupyter-widgets/controls",
     "model_module_version": "1.5.0",
     "model_name": "HTMLModel",
     "state": {
      "_dom_classes": [],
      "_model_module": "@jupyter-widgets/controls",
      "_model_module_version": "1.5.0",
      "_model_name": "HTMLModel",
      "_view_count": null,
      "_view_module": "@jupyter-widgets/controls",
      "_view_module_version": "1.5.0",
      "_view_name": "HTMLView",
      "description": "",
      "description_tooltip": null,
      "layout": "IPY_MODEL_2f6a6d3721b140ff879b77d80d9bc542",
      "placeholder": "​",
      "style": "IPY_MODEL_8815f5f93b4c43c7a314d7d93ea77f7a",
      "value": "100%"
     }
    },
    "2cca9ccbf8204b249782f978b408f72c": {
     "model_module": "@jupyter-widgets/base",
     "model_module_version": "1.2.0",
     "model_name": "LayoutModel",
     "state": {
      "_model_module": "@jupyter-widgets/base",
      "_model_module_version": "1.2.0",
      "_model_name": "LayoutModel",
      "_view_count": null,
      "_view_module": "@jupyter-widgets/base",
      "_view_module_version": "1.2.0",
      "_view_name": "LayoutView",
      "align_content": null,
      "align_items": null,
      "align_self": null,
      "border": null,
      "bottom": null,
      "display": null,
      "flex": null,
      "flex_flow": null,
      "grid_area": null,
      "grid_auto_columns": null,
      "grid_auto_flow": null,
      "grid_auto_rows": null,
      "grid_column": null,
      "grid_gap": null,
      "grid_row": null,
      "grid_template_areas": null,
      "grid_template_columns": null,
      "grid_template_rows": null,
      "height": null,
      "justify_content": null,
      "justify_items": null,
      "left": null,
      "margin": null,
      "max_height": null,
      "max_width": null,
      "min_height": null,
      "min_width": null,
      "object_fit": null,
      "object_position": null,
      "order": null,
      "overflow": null,
      "overflow_x": null,
      "overflow_y": null,
      "padding": null,
      "right": null,
      "top": null,
      "visibility": null,
      "width": null
     }
    },
    "2f6a6d3721b140ff879b77d80d9bc542": {
     "model_module": "@jupyter-widgets/base",
     "model_module_version": "1.2.0",
     "model_name": "LayoutModel",
     "state": {
      "_model_module": "@jupyter-widgets/base",
      "_model_module_version": "1.2.0",
      "_model_name": "LayoutModel",
      "_view_count": null,
      "_view_module": "@jupyter-widgets/base",
      "_view_module_version": "1.2.0",
      "_view_name": "LayoutView",
      "align_content": null,
      "align_items": null,
      "align_self": null,
      "border": null,
      "bottom": null,
      "display": null,
      "flex": null,
      "flex_flow": null,
      "grid_area": null,
      "grid_auto_columns": null,
      "grid_auto_flow": null,
      "grid_auto_rows": null,
      "grid_column": null,
      "grid_gap": null,
      "grid_row": null,
      "grid_template_areas": null,
      "grid_template_columns": null,
      "grid_template_rows": null,
      "height": null,
      "justify_content": null,
      "justify_items": null,
      "left": null,
      "margin": null,
      "max_height": null,
      "max_width": null,
      "min_height": null,
      "min_width": null,
      "object_fit": null,
      "object_position": null,
      "order": null,
      "overflow": null,
      "overflow_x": null,
      "overflow_y": null,
      "padding": null,
      "right": null,
      "top": null,
      "visibility": null,
      "width": null
     }
    },
    "4b3de3aadd284a8c8cc10ffbbbd2e3c2": {
     "model_module": "@jupyter-widgets/controls",
     "model_module_version": "1.5.0",
     "model_name": "DescriptionStyleModel",
     "state": {
      "_model_module": "@jupyter-widgets/controls",
      "_model_module_version": "1.5.0",
      "_model_name": "DescriptionStyleModel",
      "_view_count": null,
      "_view_module": "@jupyter-widgets/base",
      "_view_module_version": "1.2.0",
      "_view_name": "StyleView",
      "description_width": ""
     }
    },
    "4b990ad419d847f9b5a51584e9ea7d4f": {
     "model_module": "@jupyter-widgets/base",
     "model_module_version": "1.2.0",
     "model_name": "LayoutModel",
     "state": {
      "_model_module": "@jupyter-widgets/base",
      "_model_module_version": "1.2.0",
      "_model_name": "LayoutModel",
      "_view_count": null,
      "_view_module": "@jupyter-widgets/base",
      "_view_module_version": "1.2.0",
      "_view_name": "LayoutView",
      "align_content": null,
      "align_items": null,
      "align_self": null,
      "border": null,
      "bottom": null,
      "display": null,
      "flex": null,
      "flex_flow": null,
      "grid_area": null,
      "grid_auto_columns": null,
      "grid_auto_flow": null,
      "grid_auto_rows": null,
      "grid_column": null,
      "grid_gap": null,
      "grid_row": null,
      "grid_template_areas": null,
      "grid_template_columns": null,
      "grid_template_rows": null,
      "height": null,
      "justify_content": null,
      "justify_items": null,
      "left": null,
      "margin": null,
      "max_height": null,
      "max_width": null,
      "min_height": null,
      "min_width": null,
      "object_fit": null,
      "object_position": null,
      "order": null,
      "overflow": null,
      "overflow_x": null,
      "overflow_y": null,
      "padding": null,
      "right": null,
      "top": null,
      "visibility": null,
      "width": null
     }
    },
    "507698b71c7242eab1e15e64ccd7a454": {
     "model_module": "@jupyter-widgets/base",
     "model_module_version": "1.2.0",
     "model_name": "LayoutModel",
     "state": {
      "_model_module": "@jupyter-widgets/base",
      "_model_module_version": "1.2.0",
      "_model_name": "LayoutModel",
      "_view_count": null,
      "_view_module": "@jupyter-widgets/base",
      "_view_module_version": "1.2.0",
      "_view_name": "LayoutView",
      "align_content": null,
      "align_items": null,
      "align_self": null,
      "border": null,
      "bottom": null,
      "display": null,
      "flex": null,
      "flex_flow": null,
      "grid_area": null,
      "grid_auto_columns": null,
      "grid_auto_flow": null,
      "grid_auto_rows": null,
      "grid_column": null,
      "grid_gap": null,
      "grid_row": null,
      "grid_template_areas": null,
      "grid_template_columns": null,
      "grid_template_rows": null,
      "height": null,
      "justify_content": null,
      "justify_items": null,
      "left": null,
      "margin": null,
      "max_height": null,
      "max_width": null,
      "min_height": null,
      "min_width": null,
      "object_fit": null,
      "object_position": null,
      "order": null,
      "overflow": null,
      "overflow_x": null,
      "overflow_y": null,
      "padding": null,
      "right": null,
      "top": null,
      "visibility": null,
      "width": null
     }
    },
    "671dd49d9b834c2e97b375f95bb26e25": {
     "model_module": "@jupyter-widgets/base",
     "model_module_version": "1.2.0",
     "model_name": "LayoutModel",
     "state": {
      "_model_module": "@jupyter-widgets/base",
      "_model_module_version": "1.2.0",
      "_model_name": "LayoutModel",
      "_view_count": null,
      "_view_module": "@jupyter-widgets/base",
      "_view_module_version": "1.2.0",
      "_view_name": "LayoutView",
      "align_content": null,
      "align_items": null,
      "align_self": null,
      "border": null,
      "bottom": null,
      "display": null,
      "flex": null,
      "flex_flow": null,
      "grid_area": null,
      "grid_auto_columns": null,
      "grid_auto_flow": null,
      "grid_auto_rows": null,
      "grid_column": null,
      "grid_gap": null,
      "grid_row": null,
      "grid_template_areas": null,
      "grid_template_columns": null,
      "grid_template_rows": null,
      "height": null,
      "justify_content": null,
      "justify_items": null,
      "left": null,
      "margin": null,
      "max_height": null,
      "max_width": null,
      "min_height": null,
      "min_width": null,
      "object_fit": null,
      "object_position": null,
      "order": null,
      "overflow": null,
      "overflow_x": null,
      "overflow_y": null,
      "padding": null,
      "right": null,
      "top": null,
      "visibility": null,
      "width": null
     }
    },
    "6d706aa25de740f48e6e07805a3657ac": {
     "model_module": "@jupyter-widgets/controls",
     "model_module_version": "1.5.0",
     "model_name": "HTMLModel",
     "state": {
      "_dom_classes": [],
      "_model_module": "@jupyter-widgets/controls",
      "_model_module_version": "1.5.0",
      "_model_name": "HTMLModel",
      "_view_count": null,
      "_view_module": "@jupyter-widgets/controls",
      "_view_module_version": "1.5.0",
      "_view_name": "HTMLView",
      "description": "",
      "description_tooltip": null,
      "layout": "IPY_MODEL_084c9ce83646445bb1934c09c7edf0e1",
      "placeholder": "​",
      "style": "IPY_MODEL_13f88eb28dcf458582fae9c4bcbe504b",
      "value": " 169001437/169001437 [00:06&lt;00:00, 29578091.70it/s]"
     }
    },
    "6e0947fa7bad4b2cae2b4aa09f4ecaf7": {
     "model_module": "@jupyter-widgets/controls",
     "model_module_version": "1.5.0",
     "model_name": "HBoxModel",
     "state": {
      "_dom_classes": [],
      "_model_module": "@jupyter-widgets/controls",
      "_model_module_version": "1.5.0",
      "_model_name": "HBoxModel",
      "_view_count": null,
      "_view_module": "@jupyter-widgets/controls",
      "_view_module_version": "1.5.0",
      "_view_name": "HBoxView",
      "box_style": "",
      "children": [
       "IPY_MODEL_ee3795016a6b499d9f0bbe57efdd058a",
       "IPY_MODEL_f423634827844f9595ceac78410dab9d",
       "IPY_MODEL_6d706aa25de740f48e6e07805a3657ac"
      ],
      "layout": "IPY_MODEL_861eef61304b4514b065199250c14834"
     }
    },
    "861eef61304b4514b065199250c14834": {
     "model_module": "@jupyter-widgets/base",
     "model_module_version": "1.2.0",
     "model_name": "LayoutModel",
     "state": {
      "_model_module": "@jupyter-widgets/base",
      "_model_module_version": "1.2.0",
      "_model_name": "LayoutModel",
      "_view_count": null,
      "_view_module": "@jupyter-widgets/base",
      "_view_module_version": "1.2.0",
      "_view_name": "LayoutView",
      "align_content": null,
      "align_items": null,
      "align_self": null,
      "border": null,
      "bottom": null,
      "display": null,
      "flex": null,
      "flex_flow": null,
      "grid_area": null,
      "grid_auto_columns": null,
      "grid_auto_flow": null,
      "grid_auto_rows": null,
      "grid_column": null,
      "grid_gap": null,
      "grid_row": null,
      "grid_template_areas": null,
      "grid_template_columns": null,
      "grid_template_rows": null,
      "height": null,
      "justify_content": null,
      "justify_items": null,
      "left": null,
      "margin": null,
      "max_height": null,
      "max_width": null,
      "min_height": null,
      "min_width": null,
      "object_fit": null,
      "object_position": null,
      "order": null,
      "overflow": null,
      "overflow_x": null,
      "overflow_y": null,
      "padding": null,
      "right": null,
      "top": null,
      "visibility": null,
      "width": null
     }
    },
    "8815f5f93b4c43c7a314d7d93ea77f7a": {
     "model_module": "@jupyter-widgets/controls",
     "model_module_version": "1.5.0",
     "model_name": "DescriptionStyleModel",
     "state": {
      "_model_module": "@jupyter-widgets/controls",
      "_model_module_version": "1.5.0",
      "_model_name": "DescriptionStyleModel",
      "_view_count": null,
      "_view_module": "@jupyter-widgets/base",
      "_view_module_version": "1.2.0",
      "_view_name": "StyleView",
      "description_width": ""
     }
    },
    "9a5eeceb72e043dfb69f80931a94090a": {
     "model_module": "@jupyter-widgets/base",
     "model_module_version": "1.2.0",
     "model_name": "LayoutModel",
     "state": {
      "_model_module": "@jupyter-widgets/base",
      "_model_module_version": "1.2.0",
      "_model_name": "LayoutModel",
      "_view_count": null,
      "_view_module": "@jupyter-widgets/base",
      "_view_module_version": "1.2.0",
      "_view_name": "LayoutView",
      "align_content": null,
      "align_items": null,
      "align_self": null,
      "border": null,
      "bottom": null,
      "display": null,
      "flex": null,
      "flex_flow": null,
      "grid_area": null,
      "grid_auto_columns": null,
      "grid_auto_flow": null,
      "grid_auto_rows": null,
      "grid_column": null,
      "grid_gap": null,
      "grid_row": null,
      "grid_template_areas": null,
      "grid_template_columns": null,
      "grid_template_rows": null,
      "height": null,
      "justify_content": null,
      "justify_items": null,
      "left": null,
      "margin": null,
      "max_height": null,
      "max_width": null,
      "min_height": null,
      "min_width": null,
      "object_fit": null,
      "object_position": null,
      "order": null,
      "overflow": null,
      "overflow_x": null,
      "overflow_y": null,
      "padding": null,
      "right": null,
      "top": null,
      "visibility": null,
      "width": null
     }
    },
    "b44381e2091d4626a097667478719c07": {
     "model_module": "@jupyter-widgets/controls",
     "model_module_version": "1.5.0",
     "model_name": "ProgressStyleModel",
     "state": {
      "_model_module": "@jupyter-widgets/controls",
      "_model_module_version": "1.5.0",
      "_model_name": "ProgressStyleModel",
      "_view_count": null,
      "_view_module": "@jupyter-widgets/base",
      "_view_module_version": "1.2.0",
      "_view_name": "StyleView",
      "bar_color": null,
      "description_width": ""
     }
    },
    "b475a1854e584023a2da3fe6805c5420": {
     "model_module": "@jupyter-widgets/controls",
     "model_module_version": "1.5.0",
     "model_name": "DescriptionStyleModel",
     "state": {
      "_model_module": "@jupyter-widgets/controls",
      "_model_module_version": "1.5.0",
      "_model_name": "DescriptionStyleModel",
      "_view_count": null,
      "_view_module": "@jupyter-widgets/base",
      "_view_module_version": "1.2.0",
      "_view_name": "StyleView",
      "description_width": ""
     }
    },
    "c273b568f817436f89c2c2dde06a95a5": {
     "model_module": "@jupyter-widgets/controls",
     "model_module_version": "1.5.0",
     "model_name": "HTMLModel",
     "state": {
      "_dom_classes": [],
      "_model_module": "@jupyter-widgets/controls",
      "_model_module_version": "1.5.0",
      "_model_name": "HTMLModel",
      "_view_count": null,
      "_view_module": "@jupyter-widgets/controls",
      "_view_module_version": "1.5.0",
      "_view_name": "HTMLView",
      "description": "",
      "description_tooltip": null,
      "layout": "IPY_MODEL_671dd49d9b834c2e97b375f95bb26e25",
      "placeholder": "​",
      "style": "IPY_MODEL_b475a1854e584023a2da3fe6805c5420",
      "value": " 170498071/170498071 [00:05&lt;00:00, 32304414.11it/s]"
     }
    },
    "c36bd147b6134248bd8b7d5b0be0bb19": {
     "model_module": "@jupyter-widgets/controls",
     "model_module_version": "1.5.0",
     "model_name": "ProgressStyleModel",
     "state": {
      "_model_module": "@jupyter-widgets/controls",
      "_model_module_version": "1.5.0",
      "_model_name": "ProgressStyleModel",
      "_view_count": null,
      "_view_module": "@jupyter-widgets/base",
      "_view_module_version": "1.2.0",
      "_view_name": "StyleView",
      "bar_color": null,
      "description_width": ""
     }
    },
    "c40b085b3d3349e88fd45b995107f498": {
     "model_module": "@jupyter-widgets/controls",
     "model_module_version": "1.5.0",
     "model_name": "HBoxModel",
     "state": {
      "_dom_classes": [],
      "_model_module": "@jupyter-widgets/controls",
      "_model_module_version": "1.5.0",
      "_model_name": "HBoxModel",
      "_view_count": null,
      "_view_module": "@jupyter-widgets/controls",
      "_view_module_version": "1.5.0",
      "_view_name": "HBoxView",
      "box_style": "",
      "children": [
       "IPY_MODEL_27018c26614c4e6794bf8a128fd25c41",
       "IPY_MODEL_f63326f318f2453fb7268619ac326aab",
       "IPY_MODEL_c273b568f817436f89c2c2dde06a95a5"
      ],
      "layout": "IPY_MODEL_507698b71c7242eab1e15e64ccd7a454"
     }
    },
    "ee3795016a6b499d9f0bbe57efdd058a": {
     "model_module": "@jupyter-widgets/controls",
     "model_module_version": "1.5.0",
     "model_name": "HTMLModel",
     "state": {
      "_dom_classes": [],
      "_model_module": "@jupyter-widgets/controls",
      "_model_module_version": "1.5.0",
      "_model_name": "HTMLModel",
      "_view_count": null,
      "_view_module": "@jupyter-widgets/controls",
      "_view_module_version": "1.5.0",
      "_view_name": "HTMLView",
      "description": "",
      "description_tooltip": null,
      "layout": "IPY_MODEL_9a5eeceb72e043dfb69f80931a94090a",
      "placeholder": "​",
      "style": "IPY_MODEL_4b3de3aadd284a8c8cc10ffbbbd2e3c2",
      "value": "100%"
     }
    },
    "f423634827844f9595ceac78410dab9d": {
     "model_module": "@jupyter-widgets/controls",
     "model_module_version": "1.5.0",
     "model_name": "FloatProgressModel",
     "state": {
      "_dom_classes": [],
      "_model_module": "@jupyter-widgets/controls",
      "_model_module_version": "1.5.0",
      "_model_name": "FloatProgressModel",
      "_view_count": null,
      "_view_module": "@jupyter-widgets/controls",
      "_view_module_version": "1.5.0",
      "_view_name": "ProgressView",
      "bar_style": "success",
      "description": "",
      "description_tooltip": null,
      "layout": "IPY_MODEL_4b990ad419d847f9b5a51584e9ea7d4f",
      "max": 169001437,
      "min": 0,
      "orientation": "horizontal",
      "style": "IPY_MODEL_b44381e2091d4626a097667478719c07",
      "value": 169001437
     }
    },
    "f63326f318f2453fb7268619ac326aab": {
     "model_module": "@jupyter-widgets/controls",
     "model_module_version": "1.5.0",
     "model_name": "FloatProgressModel",
     "state": {
      "_dom_classes": [],
      "_model_module": "@jupyter-widgets/controls",
      "_model_module_version": "1.5.0",
      "_model_name": "FloatProgressModel",
      "_view_count": null,
      "_view_module": "@jupyter-widgets/controls",
      "_view_module_version": "1.5.0",
      "_view_name": "ProgressView",
      "bar_style": "success",
      "description": "",
      "description_tooltip": null,
      "layout": "IPY_MODEL_2cca9ccbf8204b249782f978b408f72c",
      "max": 170498071,
      "min": 0,
      "orientation": "horizontal",
      "style": "IPY_MODEL_c36bd147b6134248bd8b7d5b0be0bb19",
      "value": 170498071
     }
    }
   }
  }
 },
 "nbformat": 4,
 "nbformat_minor": 4
}
