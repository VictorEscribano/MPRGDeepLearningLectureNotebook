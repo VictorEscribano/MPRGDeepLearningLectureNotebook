{
  "cells": [
    {
      "cell_type": "markdown",
      "metadata": {
        "id": "view-in-github",
        "colab_type": "text"
      },
      "source": [
        "<a href=\"https://colab.research.google.com/github/machine-perception-robotics-group/MPRGDeepLearningLectureNotebook/blob/master/02_dnn_simple_pytorch/MNIST_CNN_v3.ipynb\" target=\"_parent\"><img src=\"https://colab.research.google.com/assets/colab-badge.svg\" alt=\"Open In Colab\"/></a>"
      ]
    },
    {
      "cell_type": "markdown",
      "metadata": {
        "id": "xP6-w6Uxb6jR"
      },
      "source": [
        "# CNNによる画像認識（MNIST, PyTorch実装）\n",
        "\n",
        "\n",
        "---\n",
        "## 目的\n",
        "PyTorch実装による畳み込みニューラルネットワーク（CNN）を用いてMNISTデータセットに対する文字認識を行う．\n",
        "評価はConfusion Matrixにより各クラスの認識率を用いて行う．\n",
        "\n",
        "また，GPUを用いたネットワークの計算を行う．"
      ]
    },
    {
      "cell_type": "markdown",
      "metadata": {
        "id": "5rQGfxWYK_4O"
      },
      "source": [
        "## 準備\n",
        "\n",
        "### Google Colaboratoryの設定確認・変更\n",
        "本チュートリアルではPyTorchを利用してニューラルネットワークの実装を確認，学習および評価を行います．\n",
        "**GPUを用いて処理を行うために，上部のメニューバーの「ランタイム」→「ランタイムのタイプを変更」からハードウェアアクセラレータをGPUにしてください．**"
      ]
    },
    {
      "cell_type": "markdown",
      "metadata": {
        "id": "RsGSLNkYQmkG"
      },
      "source": [
        "## モジュールのインポート\n",
        "はじめに必要なモジュールをインポートする．"
      ]
    },
    {
      "cell_type": "code",
      "execution_count": null,
      "metadata": {
        "id": "SLeGt2xaNFOB"
      },
      "outputs": [],
      "source": [
        "from time import time   # 時間計測を行うモジュール\n",
        "\n",
        "import numpy as np      # Pythonで配列を扱うためのモジュール\n",
        "import torch            # 深層学習のモジュール（PyTorch）\n",
        "import torch.nn as nn\n",
        "\n",
        "import torchvision      # PyTorchで画像認識に使用するネットワークやデータセットを利用するためのモジュール\n",
        "import torchvision.transforms as transforms\n",
        "\n",
        "import torchsummary     # PyTorchで作成したネットワークモデルの詳細を表示するモジュール"
      ]
    },
    {
      "cell_type": "markdown",
      "metadata": {
        "id": "FjrYHYpuLbrx"
      },
      "source": [
        "### GPUの確認\n",
        "GPUを使用した計算が可能かどうかを確認します．\n",
        "\n",
        "`Use CUDA: True`と表示されれば，GPUを使用した計算をPyTorchで行うことが可能です．\n",
        "Falseとなっている場合は，上記の「Google Colaboratoryの設定確認・変更」に記載している手順にしたがって，設定を変更した後に，モジュールのインポートから始めてください．"
      ]
    },
    {
      "cell_type": "code",
      "execution_count": null,
      "metadata": {
        "id": "6wYHKJ-WLbry"
      },
      "outputs": [],
      "source": [
        "use_cuda = torch.cuda.is_available()\n",
        "print('Use CUDA:', use_cuda)"
      ]
    },
    {
      "cell_type": "markdown",
      "metadata": {
        "id": "Ue60y-upamyo"
      },
      "source": [
        "## データセットの読み込みと確認\n",
        "学習データ（MNIST Dataset）を読み込みます．"
      ]
    },
    {
      "cell_type": "code",
      "execution_count": null,
      "metadata": {
        "id": "n7zpMk-4axYm"
      },
      "outputs": [],
      "source": [
        "train_data = torchvision.datasets.MNIST(root=\"./\", train=True, transform=transforms.ToTensor(), download=True)\n",
        "test_data = torchvision.datasets.MNIST(root=\"./\", train=False, transform=transforms.ToTensor(), download=True)\n",
        "\n",
        "### 読み込んだデータの情報を表示して確認してみます\n",
        "# 画像・ラベルデータのデータタイプ（型）\n",
        "print(type(train_data.data), type(train_data.targets))\n",
        "print(type(test_data.data), type(test_data.targets))\n",
        "# 画像・ラベルの配列サイズ\n",
        "print(train_data.data.size(), train_data.targets.size())\n",
        "print(test_data.data.size(), test_data.targets.size())"
      ]
    },
    {
      "cell_type": "markdown",
      "metadata": {
        "id": "G418kZOgToXR"
      },
      "source": [
        "## ネットワークモデルの定義\n",
        "\n",
        "畳み込みニューラルネットワークを定義します．\n",
        "\n",
        "ここでは，畳み込み層1層，全結合層1層から構成されるネットワークとします．\n",
        "\n",
        "畳み込み層は入力チャンネル数が1，出力する特徴マップ数が4，畳み込むフィルタサイズが3x3です．\n",
        "全結合層は入力ユニット数は`14*14*4`とし，出力は10としています．\n",
        "また，活性化関数として`self.act`にシグモイド関数を定義します．\n",
        "さらに，プーリング処理を行うための`self.pool`を定義します．\n",
        "ここでは，maxpoolingを使用します．\n",
        "これらの各層の構成を`__init__`関数で定義します．\n",
        "\n",
        "次に，`forward`関数では，定義した層を接続して処理するように記述します．\n",
        "`forward`関数の引数`x`は入力データです．\n",
        "それを`__init__`関数で定義した`conv1`に入力し，その出力を活性化関数である`self.act`に与えます．\n",
        "そして，その出力を`self.pool`に与えて，プーリング処理結果を`h`として出力します．\n",
        "\n",
        "畳み込みを適用した後の特徴マップを全結合層へと入力して，識別結果を出力します．\n",
        "まず．畳み込みによって得られた特徴マップの形状（チャンネルx縦x横）を1次元の配列へと変換します．\n",
        "ここで，`view()`を用いることで，`h`の配列を操作します．引数として，変換したい配列のサイズを入力します．\n",
        "まず一つ目の引数の`h.size()[0]`で，`h`の1次元目のサイズを取得し，変換後の配列の1次元目のサイズとして指定します．\n",
        "二つ目の引数の`-1`で任意のサイズを指定します．\n",
        "これにより，`h`を（バッチ数x任意の長さのデータ）の形状へ変換します．\n",
        "変換した`h`を全結合層へと入力することで，最終的にクラススコアを返します．"
      ]
    },
    {
      "cell_type": "code",
      "execution_count": null,
      "metadata": {
        "id": "8FJhkBJnTuPd"
      },
      "outputs": [],
      "source": [
        "class CNN(nn.Module):\n",
        "    def __init__(self):\n",
        "        super().__init__()\n",
        "        self.conv1 = nn.Conv2d(1, 4, kernel_size=3, stride=1, padding=1)\n",
        "        self.l1 = nn.Linear(14*14*4, 10)\n",
        "        self.act = nn.Sigmoid()\n",
        "        self.pool = nn.MaxPool2d(2, 2)\n",
        "\n",
        "    def forward(self, x):                       # 入力画像サイズ: [batch, 1, 28, 28]\n",
        "        h = self.pool(self.act(self.conv1(x)))  # 出力される特徴マップサイズ: [batch, 4, 14, 14]\n",
        "        # 特徴マップの配列サイズを [batch, channel, height, width] --> [batch, channel * height * width] に変更\n",
        "        h = h.view(h.size()[0], -1)\n",
        "        h = self.l1(h)\n",
        "        return h"
      ]
    },
    {
      "cell_type": "markdown",
      "metadata": {
        "id": "ijVjOGVhb6vs"
      },
      "source": [
        "## ネットワークの作成\n",
        "上のプログラムで定義したネットワークを作成します．\n",
        "\n",
        "`CNN`クラスを呼び出して，ネットワークモデルを定義します．\n",
        "また，GPUを使う場合（`use_cuda == True`）には，ネットワークモデルをGPUメモリ上に配置します．\n",
        "これにより，GPUを用いた演算が可能となります．\n",
        "\n",
        "学習を行う際の最適化方法としてモーメンタムSGD(モーメンタム付き確率的勾配降下法）を利用します．\n",
        "また，学習率を0.01，モーメンタムを0.9として引数に与えます．\n",
        "\n",
        "最後に，定義したネットワークの詳細情報を`torchsummary.summary()`関数を用いて表示します．"
      ]
    },
    {
      "cell_type": "code",
      "execution_count": null,
      "metadata": {
        "id": "SyfYfpXvb62g"
      },
      "outputs": [],
      "source": [
        "### ネットワークの作成\n",
        "model = CNN()\n",
        "if use_cuda:      # GPUが使用できる場合は\n",
        "    model.cuda()  # ネットワークの演算をGPUで行うように設定変更 (デフォルトはCPU)\n",
        "\n",
        "### 最適化手法の設定 lr: 学習率, momentum: モーメンタム (慣性項のパラメータ)\n",
        "optimizer = torch.optim.SGD(model.parameters(), lr=0.01, momentum=0.9)\n",
        "\n",
        "### 定義したモデルの情報を表示\n",
        "if use_cuda:\n",
        "    torchsummary.summary(model, (1, 28, 28), device='cuda')  # GPUで演算する設定の場合\n",
        "else:\n",
        "    torchsummary.summary(model, (1, 28, 28), device='cpu')   # CPUで演算する設定の場合"
      ]
    },
    {
      "cell_type": "markdown",
      "metadata": {
        "id": "lhbw4THgb680"
      },
      "source": [
        "## 学習\n",
        "読み込んだMNISTデータセットと作成したネットワークを用いて，学習を行います．\n",
        "\n",
        "1回の誤差を算出するデータ数（ミニバッチサイズ）を100，学習エポック数を10とします．\n",
        "\n",
        "次にデータローダーを定義します．\n",
        "データローダーでは，上で読み込んだデータセット（`train_data`）を用いて，for文で指定したミニバッチサイズでデータを読み込むオブジェクトを作成します．\n",
        "この時，`shuffle=True`と設定することで，読み込むデータを毎回ランダムに指定します．\n",
        "\n",
        "次に，誤差関数を設定します．\n",
        "今回は，分類問題をあつかうため，クロスエントロピー誤差を計算するための`CrossEntropyLoss`を`criterion`として定義します．\n",
        "\n",
        "学習を開始します．\n",
        "\n",
        "各更新において，学習用データと教師データをそれぞれ`image`と`label`とします．\n",
        "学習モデルにimageを与えて各クラスの確率yを取得します．\n",
        "各クラスの確率yと教師ラベルtとの誤差を`criterion`で算出します．\n",
        "また，認識精度も算出します．\n",
        "そして，誤差をbackward関数で逆伝播し，ネットワークの更新を行います．"
      ]
    },
    {
      "cell_type": "code",
      "execution_count": null,
      "metadata": {
        "id": "UsBaxg2Wb7Dp"
      },
      "outputs": [],
      "source": [
        "# ミニバッチサイズ・エポック数の設定\n",
        "batch_size = 100\n",
        "epoch_num = 10\n",
        "\n",
        "# データローダーの設定\n",
        "train_loader = torch.utils.data.DataLoader(train_data, batch_size=batch_size, shuffle=True)\n",
        "\n",
        "# 誤差関数の設定 (必要に応じて誤差関数の計算もGPUで行うように設定変更)\n",
        "criterion = nn.CrossEntropyLoss()\n",
        "if use_cuda:\n",
        "    criterion.cuda()\n",
        "\n",
        "# ネットワークを学習モードへ変更\n",
        "model.train()\n",
        "\n",
        "# 学習の実行\n",
        "train_start = time()\n",
        "for epoch in range(1, epoch_num+1):   # epochのforループ\n",
        "    # 1 epochの学習中の誤差・学習画像が正解した数をカウントする変数を初期化\n",
        "    sum_loss = 0.0\n",
        "    count = 0\n",
        "\n",
        "    for image, label in train_loader:  # 1 epoch内のforループ (iterationのループ)\n",
        "\n",
        "        if use_cuda:  # GPUで計算する場合は，データもGPUメモリ上へ移動させる\n",
        "            image = image.cuda()\n",
        "            label = label.cuda()\n",
        "\n",
        "        y = model(image)  # データの入力と結果の出力\n",
        "\n",
        "        # 誤差計算とbackpropagation, パラメータの更新\n",
        "        loss = criterion(y, label)\n",
        "        model.zero_grad()\n",
        "        loss.backward()\n",
        "        optimizer.step()\n",
        "\n",
        "        # 学習経過を確認するための処理\n",
        "        sum_loss += loss.item()\n",
        "        pred = torch.argmax(y, dim=1)\n",
        "        count += torch.sum(pred == label)\n",
        "\n",
        "    # 1 epoch終了時点での誤差の平均値，学習データに対する認識精度, 学習開始からの経過時間を表示\n",
        "    print(\"epoch: {}, mean loss: {}, mean accuracy: {}, elapsed time: {}\".format(epoch, sum_loss/len(train_loader), count.item()/len(train_data), time() - train_start))"
      ]
    },
    {
      "cell_type": "markdown",
      "metadata": {
        "id": "f5oxc_C-b6g9"
      },
      "source": [
        "## テスト\n",
        "\n",
        "学習したネットワークを用いて，テストデータに対する認識率の確認を行います．\n",
        "\n",
        "`model.eval()`を適用することで，ネットワーク演算を評価モードへ変更します．\n",
        "これにより，学習時と評価時で挙動が異なる演算（dropout等）を変更することが可能です．\n",
        "また，`torch.no_grad()`を適用することで，学習時には必要になる勾配情報を保持することなく演算を行います．"
      ]
    },
    {
      "cell_type": "code",
      "execution_count": null,
      "metadata": {
        "id": "eDwQ-iJtjSaL"
      },
      "outputs": [],
      "source": [
        "# データローダーの準備\n",
        "test_loader = torch.utils.data.DataLoader(test_data, batch_size=100, shuffle=False)\n",
        "\n",
        "# ネットワークを評価モードへ変更\n",
        "model.eval()\n",
        "\n",
        "# 評価の実行\n",
        "count = 0\n",
        "with torch.no_grad():  # 勾配を計算しない設定にする (loss.backwardをしても勾配情報が計算されない)\n",
        "    for image, label in test_loader:\n",
        "\n",
        "        if use_cuda:\n",
        "            image = image.cuda()\n",
        "            label = label.cuda()\n",
        "            \n",
        "        y = model(image)\n",
        "\n",
        "        pred = torch.argmax(y, dim=1)\n",
        "        count += torch.sum(pred == label)\n",
        "\n",
        "print(\"test accuracy: {}\".format(count.item() / 10000.))"
      ]
    },
    {
      "cell_type": "markdown",
      "metadata": {
        "id": "RO9gksBuj0qm"
      },
      "source": [
        "## 課題\n",
        "\n",
        "\n",
        "### 1. ネットワークの構造を変更し，認識精度の変化を確認しましょう．\n",
        "\n",
        "**ヒント：ネットワーク構造の変更としては，次のようなものが考えられます．**\n",
        "* 中間層のユニット数\n",
        "* 層の数\n",
        "* 活性化関数\n",
        "  * `nn.Tanh()`や`nn.ReLU()`, `nn.LeakyReLU()`などが考えられます．\n",
        "  * その他のPyTorchで使用できる活性化関数は[こちらページ](https://pytorch.org/docs/stable/nn.html#non-linear-activations-weighted-sum-nonlinearity)にまとめられています．\n",
        "\n",
        "※ ネットワーク構造を変更した際には，`torchsummary.summary(***)`を使用し，ネットワーク構造を変更した際のパラメータ数の変化を確認してみましょう．"
      ]
    }
  ],
  "metadata": {
    "accelerator": "GPU",
    "colab": {
      "provenance": [],
      "include_colab_link": true
    },
    "kernelspec": {
      "display_name": "Python 3",
      "language": "python",
      "name": "python3"
    },
    "language_info": {
      "codemirror_mode": {
        "name": "ipython",
        "version": 3
      },
      "file_extension": ".py",
      "mimetype": "text/x-python",
      "name": "python",
      "nbconvert_exporter": "python",
      "pygments_lexer": "ipython3",
      "version": "3.7.9"
    },
    "gpuClass": "standard"
  },
  "nbformat": 4,
  "nbformat_minor": 0
}