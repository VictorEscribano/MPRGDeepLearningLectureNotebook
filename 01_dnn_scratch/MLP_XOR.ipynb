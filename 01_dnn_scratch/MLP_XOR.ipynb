{
  "cells": [
    {
      "cell_type": "markdown",
      "metadata": {
        "id": "view-in-github",
        "colab_type": "text"
      },
      "source": [
        "<a href=\"https://colab.research.google.com/github/machine-perception-robotics-group/MPRGDeepLearningLectureNotebook/blob/master/01_dnn_scratch/MLP_XOR.ipynb\" target=\"_parent\"><img src=\"https://colab.research.google.com/assets/colab-badge.svg\" alt=\"Open In Colab\"/></a>"
      ]
    },
    {
      "cell_type": "markdown",
      "metadata": {
        "id": "jeE4UpKGn6ZX"
      },
      "source": [
        "# MLPによるXOR回路の作成\n",
        "\n",
        "---\n",
        "\n",
        "MLPでXOR出力ができるように学習してみよう！\n",
        "\n",
        "まずはライブラリ（numpyとmatplotlib）をimportし、入力データxとその教師ラベルy_trainを設定します．"
      ]
    },
    {
      "cell_type": "code",
      "execution_count": null,
      "metadata": {
        "id": "Ad0pITKlq5X6"
      },
      "outputs": [],
      "source": [
        "import numpy as np\n",
        "import matplotlib.pyplot as plt"
      ]
    },
    {
      "cell_type": "code",
      "execution_count": null,
      "metadata": {
        "id": "pFdIG9Tkq5YB"
      },
      "outputs": [],
      "source": [
        "# 入力データと教師ラベル\n",
        "x = np.asarray([[0,0],[1,0],[0,1],[1,1]], dtype=np.float)\n",
        "y_train = np.asarray([0, 1, 1, 0], dtype=np.float)"
      ]
    },
    {
      "cell_type": "markdown",
      "metadata": {
        "id": "iZy0LU6oq5YE"
      },
      "source": [
        "## ネットワークモデルの定義\n",
        "MLPを定義します．\n",
        "\n",
        "まずはじめに，ネットワークの定義に必要なシグモイド関数を定義します．"
      ]
    },
    {
      "cell_type": "code",
      "execution_count": null,
      "metadata": {
        "id": "0cJ2pIC0q5YE"
      },
      "outputs": [],
      "source": [
        "# シグモイド関数の定義\n",
        "def sigmoid(x):\n",
        "    return 1 / (1 + np.exp(-x))\n",
        "\n",
        "def sigmoid_grad(x):\n",
        "    return (1.0 - sigmoid(x)) * sigmoid(x)"
      ]
    },
    {
      "cell_type": "markdown",
      "metadata": {
        "id": "wHDkHmvKq5YG"
      },
      "source": [
        "上で定義した関数を用いてネットワークモデルを作成します．\n",
        "ここでは，入力層，中間層，出力層から構成される多層パーセプトロンを定義することとし，1サンプルのデータを入力して結果を出力するようなネットワークを定義します．\n",
        "\n",
        "入力層と中間層のユニット数は引数として与え，それぞれ`input_size`，`hidden_size`とします．\n",
        "出力層サイズはユニット数は1に固定します．\n",
        "そして，`__init__`関数を用いて，ネットワークのパラメータを初期化します．\n",
        "`w1`および`w2`は各層の重みで，`b1`および`b2`はバイアスを表しています．\n",
        "重みは`randn`関数で，標準正規分布に従った乱数で生成した値を保有する配列を生成します．\n",
        "バイアスは`zeros`関数を用いて，要素が全て0の配列を生成します．\n",
        "\n",
        "そして，`forward`関数で，データを入力して結果を出力するための演算を定義します．\n",
        "\n",
        "次に，`backward`関数ではパラメータの更新量を計算します．\n",
        "まず，ネットワークの出力結果と教師ラベルから，誤差`dy`を算出します．\n",
        "その後，連鎖律に基づいて，出力層から順番に勾配を計算していきます．\n",
        "このとき，パラメータの更新量を`self.grads`へ保存しておきます．\n",
        "\n",
        "また，`update_parameters`関数で，更新量をもとにパラメータの更新を行う関数を定義します．ここでは，`backward`関数によって計算した勾配と更新量（`lr`）によって，現在のパラメータを更新します．"
      ]
    },
    {
      "cell_type": "code",
      "execution_count": null,
      "metadata": {
        "id": "HkmIaqnrq5YG"
      },
      "outputs": [],
      "source": [
        "# MLPの定義\n",
        "class MLP:\n",
        "    \n",
        "    def __init__(self, input_size, hidden_size, w_std=0.01):\n",
        "        self.w1 = w_std * np.random.randn(input_size, hidden_size)\n",
        "        self.b1 = np.zeros(hidden_size)\n",
        "        self.w2 = w_std * np.random.randn(hidden_size, 1)\n",
        "        self.b2 = np.zeros(1)        \n",
        "        self.grads = {}\n",
        "\n",
        "    def forward(self, x):\n",
        "        self.h1 = np.dot(x, self.w1) + self.b1\n",
        "        self.h2 = sigmoid(self.h1)\n",
        "        self.h3 = np.dot(self.h2, self.w2) + self.b2\n",
        "        self.y = sigmoid(self.h3)\n",
        "        return self.y\n",
        "\n",
        "    def backward(self, x, t): \n",
        "        self.grads = {}\n",
        "\n",
        "        dy = -1 * (t - self.y)\n",
        "        d_h3 = sigmoid_grad(self.h3) * dy\n",
        "        self.grads['w2'] = np.dot(self.h2.T, d_h3)\n",
        "        self.grads['b2'] = np.sum(d_h3, axis=0)\n",
        "\n",
        "        d_h2 = np.dot(d_h3, self.w2.T)\n",
        "        d_h1 = sigmoid_grad(self.h1) * d_h2\n",
        "        self.grads['w1'] = np.dot(x.T, d_h1)\n",
        "        self.grads['b1'] = np.sum(d_h1, axis=0)\n",
        "\n",
        "    def update_parameters(self, lr=0.1):\n",
        "        self.w1 -= lr * self.grads['w1']\n",
        "        self.b1 -= lr * self.grads['b1']\n",
        "        self.w2 -= lr * self.grads['w2']\n",
        "        self.b2 -= lr * self.grads['b2']"
      ]
    },
    {
      "cell_type": "markdown",
      "metadata": {
        "id": "S9lct56O4ms5"
      },
      "source": [
        "入力層２（`input_size = 2`）、中間層２（`hidden_size = 2`）となるMLPのモデルを作成します。\n",
        "重みとバイアスの初期値を設定する際に、標準偏差1.0（`w_std=1.0`）の乱数を設定します。\n",
        "定義した`display_model_parameters`関数により初期値を表示して，重みとバイアスのそれぞれの値を確認しましょう．"
      ]
    },
    {
      "cell_type": "code",
      "execution_count": null,
      "metadata": {
        "id": "pIjpJfKNq5YJ"
      },
      "outputs": [],
      "source": [
        "# モデルのパラメータを表示\n",
        "def display_model_parameters(model):\n",
        "  print(\"w1:\", model.w1)\n",
        "  print(\"b1:\", model.b1)\n",
        "  print(\"w2:\", model.w2)\n",
        "  print(\"b2:\", model.b2)\n",
        "\n",
        "# モデルの作成\n",
        "input_size = 2\n",
        "hidden_size = 2\n",
        "model = MLP(input_size=input_size, hidden_size=hidden_size, w_std=1.0)\n",
        "\n",
        "# モデルパラメータの初期値を表示\n",
        "display_model_parameters(model)"
      ]
    },
    {
      "cell_type": "markdown",
      "metadata": {
        "id": "i6OA5TV0q5YL"
      },
      "source": [
        "## MLPの学習\n",
        "作成したネットワークを用いて，学習を行います．\n",
        "ここでは1サンプルずつデータを入力た場合のその出力結果と教師ラベルから誤差を算出し，パラメータの更新を行います．\n",
        "\n",
        "各更新において，学習用データと教師データをそれぞれ`input`と`label`とします．\n",
        "学習モデルに`input`を与えて，分類結果である`y_pred`を取得します．\n",
        "取得した`y_pred`は精度および誤差を算出するための関数へと入力され，値を保存します．\n",
        "次に，誤差を`backward`関数で逆伝播し，`update_parameters`\n",
        "\n",
        "学習終了後の重みとバイアスの値がどのように変化したかを確認しましょう．"
      ]
    },
    {
      "cell_type": "code",
      "execution_count": null,
      "metadata": {
        "id": "6WGrddJGq5YM"
      },
      "outputs": [],
      "source": [
        "# 学習パラメータの設定\n",
        "num_train_data = 4\n",
        "epoch_num = 1000\n",
        "learning_rate = 1.0\n",
        "\n",
        "epoch_list = []\n",
        "train_loss_list = []\n",
        "train_accuracy_list = []\n",
        "\n",
        "iteration = 0\n",
        "for epoch in range(1, epoch_num + 1, 1):\n",
        "    sum_loss = 0.0\n",
        "    \n",
        "    for i in range(0, num_train_data, 1):\n",
        "        input = x[i:i+1]\n",
        "        label = y_train[i:i+1]\n",
        "\n",
        "        y_pred = model.forward(input)\n",
        "\n",
        "        sum_loss += np.sum(np.power(y_pred - label, 2))\n",
        "\n",
        "        model.backward(input, label.reshape(-1, 1))\n",
        "        model.update_parameters(lr=learning_rate)\n",
        "\n",
        "    # 学習途中のlossの保存\n",
        "    epoch_list.append(epoch)\n",
        "    train_loss_list.append(sum_loss)\n",
        "    print(\"epoch: {}, loss: {}\".format(epoch, sum_loss))\n",
        "\n",
        "# モデルのパラメータを表示\n",
        "display_model_parameters(model)"
      ]
    },
    {
      "cell_type": "markdown",
      "metadata": {
        "id": "Cvhwd_ZAfgBw"
      },
      "source": [
        "## 学習推移のグラフ化\n",
        "\n",
        "上の学習プログラムで保存しておいた誤差をグラフ化します．\n"
      ]
    },
    {
      "cell_type": "code",
      "execution_count": null,
      "metadata": {
        "id": "YPcggZkldwxa"
      },
      "outputs": [],
      "source": [
        "plt.figure()\n",
        "plt.plot(epoch_list, train_loss_list, label='loss (train)')\n",
        "plt.xlabel(\"epoch\")     # x軸ラベル\n",
        "plt.ylabel(\"loss\")      # y軸ラベル\n",
        "plt.legend()            # 凡例\n",
        "plt.show()"
      ]
    },
    {
      "cell_type": "markdown",
      "metadata": {
        "id": "cf6kft0015HJ"
      },
      "source": [
        "# 出力の表示\n",
        "x1とx2の値を生成し，出力結果を可視化します．"
      ]
    },
    {
      "cell_type": "code",
      "execution_count": null,
      "metadata": {
        "id": "b0YqDK-SeBtu"
      },
      "outputs": [],
      "source": [
        "# x1とx2の生成\n",
        "x1 = np.linspace(0, 1, 101)  # [0 0.1 ... 1.0]\n",
        "x2 = np.linspace(0, 1, 101)  # [0 0.1 ... 1.0]\n",
        "X1, X2 = np.meshgrid(x1, x2)\n",
        "\n",
        "# 入力x1とx2の出力を計算しvalに代入\n",
        "val = []\n",
        "\n",
        "for v in x2:\n",
        "  for u in x1:\n",
        "    input = u, v\n",
        "    val.append(model.forward(input))\n",
        "\n",
        "val = np.asarray(val)\n",
        "val = val.reshape(X1.shape)\n",
        "\n",
        "# 等高線表示(PDFにセーブ)     \n",
        "fig, ax = plt.subplots(figsize=(7,6))\n",
        "surf = ax.contourf(X1, X2, val, 20, cmap='viridis')\n",
        "fig.colorbar(surf)\n",
        "ax.set_xlabel(\"x1\")\n",
        "ax.set_ylabel(\"x2\")\n",
        "plt.savefig(\"MLP-2D.pdf\")\n",
        "plt.show()\n",
        "\n",
        "# 3D表示 (PDFにセーブ)  \n",
        "fig = plt.figure(figsize=(6,6))\n",
        "ax = fig.add_subplot(projection='3d')\n",
        "ax.plot_surface(X1, X2, val, cmap='viridis') \n",
        "ax.set_xlabel(\"x1\")\n",
        "ax.set_ylabel(\"x2\")\n",
        "plt.savefig(\"MLP-3D.pdf\")\n",
        "plt.show()"
      ]
    },
    {
      "cell_type": "markdown",
      "metadata": {
        "id": "Sc8hpBa-3SP6"
      },
      "source": [
        "## 課題\n",
        "1. 重みの初期値のの標準偏差を変更し学習できるか試してみよう\n",
        "2. XNORの出力を学習するように変更してみよう\n",
        "3. 以下の真理値表となる半加算器（X,Y：2入力、C,S：2出力）を作成してみよう\n",
        "\n",
        "|  X  |  Y  |  C  |  S  |\n",
        "| ---- | ---- | ---- | ---- |\n",
        "|  0  |  0  |  0  |  0  |\n",
        "|  0  |  1  |  0  |  1  |\n",
        "|  1  |  0  |  0  |  1  |\n",
        "|  1  |  1  |  1  |  0  |\n"
      ]
    }
  ],
  "metadata": {
    "colab": {
      "name": "MLP_XOR.ipynb",
      "provenance": [],
      "include_colab_link": true
    },
    "kernelspec": {
      "display_name": "Python 3",
      "language": "python",
      "name": "python3"
    },
    "language_info": {
      "codemirror_mode": {
        "name": "ipython",
        "version": 3
      },
      "file_extension": ".py",
      "mimetype": "text/x-python",
      "name": "python",
      "nbconvert_exporter": "python",
      "pygments_lexer": "ipython3",
      "version": "3.5.2"
    }
  },
  "nbformat": 4,
  "nbformat_minor": 0
}