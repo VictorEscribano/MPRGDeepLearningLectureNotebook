{
  "cells": [
    {
      "cell_type": "markdown",
      "metadata": {
        "id": "view-in-github",
        "colab_type": "text"
      },
      "source": [
        "<a href=\"https://colab.research.google.com/github/machine-perception-robotics-group/MPRGDeepLearningLectureNotebook/blob/master/01_dnn_scratch/Perceptron_AND.ipynb\" target=\"_parent\"><img src=\"https://colab.research.google.com/assets/colab-badge.svg\" alt=\"Open In Colab\"/></a>"
      ]
    },
    {
      "cell_type": "markdown",
      "metadata": {
        "id": "jeE4UpKGn6ZX"
      },
      "source": [
        "# 単純パーセプトロンによるAND回路の作成\n",
        "\n",
        "---\n",
        "\n",
        "単純パーセプトロンでAND出力ができるように学習してみよう！\n",
        "\n",
        "まずはライブラリ（numpyとmatplotlib）をimportし、入力データxとその教師ラベルy_trainを設定します．"
      ]
    },
    {
      "cell_type": "code",
      "execution_count": null,
      "metadata": {
        "id": "Ad0pITKlq5X6"
      },
      "outputs": [],
      "source": [
        "import numpy as np\n",
        "import matplotlib.pyplot as plt"
      ]
    },
    {
      "cell_type": "code",
      "execution_count": null,
      "metadata": {
        "id": "pFdIG9Tkq5YB"
      },
      "outputs": [],
      "source": [
        "# 入力データと教師ラベル\n",
        "x = np.asarray([[0,0],[1,0],[0,1],[1,1]], dtype=np.float)\n",
        "y_train = np.asarray([0, 0, 0, 1], dtype=np.float)"
      ]
    },
    {
      "cell_type": "markdown",
      "metadata": {
        "id": "iZy0LU6oq5YE"
      },
      "source": [
        "## ネットワークモデルの定義\n",
        "単純パーセプトロンを定義します．\n",
        "\n",
        "まずはじめに，ネットワークの定義に必要なシグモイド関数を定義します．"
      ]
    },
    {
      "cell_type": "code",
      "execution_count": null,
      "metadata": {
        "id": "0cJ2pIC0q5YE"
      },
      "outputs": [],
      "source": [
        "# シグモイド関数の定義\n",
        "def sigmoid(x):\n",
        "    return 1 / (1 + np.exp(-x))\n",
        "\n",
        "def sigmoid_grad(x):\n",
        "    return (1.0 - sigmoid(x)) * sigmoid(x)"
      ]
    },
    {
      "cell_type": "markdown",
      "metadata": {
        "id": "wHDkHmvKq5YG"
      },
      "source": [
        "上で定義したシグモイド関数を用いてネットワークモデルを作成します．\n",
        "ここでは，入力層，出力層から構成される単純パーセプトロンを定義することとし，1サンプルのデータを入力して結果を出力するようなネットワークを定義します．\n",
        "\n",
        "入力層のユニット数は引数として与え，`input_size`とします．\n",
        "そして，`__init__`関数を用いて，ネットワークのパラメータを初期化します．\n",
        "`w`は重みで，`b`はバイアスを表しています．\n",
        "重みは`randn`関数で，標準正規分布に従った乱数で生成した値を保有する配列を生成します．\n",
        "バイアスは`zeros`関数を用いて，要素が全て0の配列を生成します．\n",
        "\n",
        "そして，`forward`関数で，データを入力して結果を出力するための演算を定義します．\n",
        "\n",
        "次に，`backward`関数ではパラメータの更新量を計算します．\n",
        "まず，ネットワークの出力結果と教師ラベルから，誤差`dy`を算出します．\n",
        "その後，勾配を計算し，パラメータの更新量を`self.grads`へ保存しておきます．\n",
        "\n",
        "また，`update_parameters`関数で，更新量をもとにパラメータの更新を行う関数を定義します．ここでは，`backward`関数によって計算した勾配と更新量（`lr`）によって，現在のパラメータを更新します．\n"
      ]
    },
    {
      "cell_type": "code",
      "execution_count": null,
      "metadata": {
        "id": "HkmIaqnrq5YG"
      },
      "outputs": [],
      "source": [
        "# 単純パーセプトロンの定義\n",
        "class Perceptron:\n",
        "    \n",
        "    def __init__(self, input_size, w_std=0.01):\n",
        "        self.w = w_std * np.random.randn(input_size, 1)\n",
        "        self.b = 0.0   \n",
        "        self.grads = {}\n",
        "\n",
        "    def forward(self, x):\n",
        "        self.h = np.dot(x, self.w) + self.b\n",
        "        self.y = sigmoid(self.h)\n",
        "        return self.y\n",
        "\n",
        "    def backward(self, x, t): \n",
        "        self.grads = {}\n",
        "\n",
        "        d_h = -1 * (t - self.y) * sigmoid_grad(self.h)\n",
        "        self.grads['w'] = np.dot(x.T, d_h)\n",
        "        self.grads['b'] = np.sum(d_h, axis=0)\n",
        "\n",
        "    def update_parameters(self, lr=0.1):\n",
        "        self.w -= lr * self.grads['w']\n",
        "        self.b -= lr * self.grads['b']"
      ]
    },
    {
      "cell_type": "markdown",
      "metadata": {
        "id": "LEcTN4Ifc3tn"
      },
      "source": [
        "入力層２（`input_size = 2`）となるMLPのモデルを作成します。\n",
        "重みとバイアスの初期値を設定する際に、標準偏差1.0（`w_std=1.0`）の乱数を設定します。\n",
        "定義した`display_model_parameters`関数により初期値を表示して，重みとバイアスのそれぞれの値を確認しましょう．"
      ]
    },
    {
      "cell_type": "code",
      "execution_count": null,
      "metadata": {
        "id": "pIjpJfKNq5YJ"
      },
      "outputs": [],
      "source": [
        "# モデルのパラメータを表示\n",
        "def display_model_parameters(model):\n",
        "  print(\"w:\", model.w, \"b:\", model.b)\n",
        "\n",
        "# モデルの作成\n",
        "input_size = 2\n",
        "model = Perceptron(input_size=input_size, w_std=1.0)\n",
        "\n",
        "# モデルパラメータの初期値を表示\n",
        "display_model_parameters(model)"
      ]
    },
    {
      "cell_type": "markdown",
      "metadata": {
        "id": "i6OA5TV0q5YL"
      },
      "source": [
        "## 単純パーセプトロンの学習\n",
        "作成したネットワークを用いて，学習を行います．\n",
        "ここでは1サンプルずつデータを入力た場合のその出力結果と教師ラベルから誤差を算出し，パラメータの更新を行います．\n",
        "\n",
        "各更新において，学習用データと教師データをそれぞれ`input`と`label`とします．\n",
        "学習モデルに`input`を与えて，分類結果である`y_pred`を取得します．\n",
        "取得した`y_pred`は精度および誤差を算出するための関数へと入力され，値を保存します．\n",
        "次に，誤差を`backward`関数で逆伝播し，`update_parameters`でネットワークの更新を行います．"
      ]
    },
    {
      "cell_type": "code",
      "execution_count": null,
      "metadata": {
        "id": "6WGrddJGq5YM"
      },
      "outputs": [],
      "source": [
        "# 学習パラメータの設定\n",
        "num_train_data = 4\n",
        "epoch_num = 500\n",
        "learning_rate = 1.0\n",
        "\n",
        "epoch_list = []\n",
        "train_loss_list = []\n",
        "train_accuracy_list = []\n",
        "\n",
        "iteration = 0\n",
        "for epoch in range(1, epoch_num + 1, 1):\n",
        "    sum_loss = 0.0\n",
        "    \n",
        "    for i in range(0, num_train_data, 1):\n",
        "        input = x[i:i+1]\n",
        "        label = y_train[i:i+1]\n",
        "\n",
        "        y_pred = model.forward(input)\n",
        "\n",
        "        sum_loss += np.sum(np.power(y_pred - label, 2))\n",
        "\n",
        "        model.backward(input, label.reshape(-1, 1))\n",
        "        model.update_parameters(lr=learning_rate)\n",
        "    \n",
        "    # 学習途中のlossの保存\n",
        "    epoch_list.append(epoch)\n",
        "    train_loss_list.append(sum_loss)\n",
        "    print(\"epoch: {}, loss: {}\".format(epoch, sum_loss))\n",
        "\n",
        "# モデルのパラメータを表示\n",
        "display_model_parameters(model)"
      ]
    },
    {
      "cell_type": "markdown",
      "metadata": {
        "id": "Cvhwd_ZAfgBw"
      },
      "source": [
        "## 学習推移のグラフ化\n",
        "\n",
        "上の学習プログラムで保存しておいた誤差をグラフ化します．\n"
      ]
    },
    {
      "cell_type": "code",
      "execution_count": null,
      "metadata": {
        "id": "YPcggZkldwxa"
      },
      "outputs": [],
      "source": [
        "plt.figure()\n",
        "plt.plot(epoch_list, train_loss_list, label='loss (train)')\n",
        "plt.xlabel(\"epoch\")     # x軸ラベル\n",
        "plt.ylabel(\"loss\")      # y軸ラベル\n",
        "plt.legend()            # 凡例\n",
        "plt.show()"
      ]
    },
    {
      "cell_type": "markdown",
      "metadata": {
        "id": "cf6kft0015HJ"
      },
      "source": [
        "# 出力の表示\n",
        "x1とx2の値を生成し，出力結果を可視化します．\n",
        "\n",
        "**作成した図の保存**\n",
        "\n",
        "`plt.savefig(\"保存ファイル名.pdf\")`を実行することで，作成した図をファイルとして保存することができます．\n",
        "この時，ファイル名の拡張子を`.png`や`.jpg`などにすることで，任意のファイルフォーマットで図を保存することができます．\n",
        "レポートや論文，スライドに使用する図を作成する場合は，ベクタ画像のPDFで保存することをお勧めします．\n",
        "\n",
        "**Google Colab.上で作成した図のダウンロード**\n",
        "\n",
        "Google Colab.上で実行している場合，画面左側のフォルダアイコン部分をクリックすることで，Colab.上のファイルを閲覧することが可能となります．\n",
        "ファイル名右側の「$\\vdots$」アイコンをクリックし，ダウンロードを選択することで，作成したPDFを自身のPCへダウンロードすることができます．"
      ]
    },
    {
      "cell_type": "code",
      "execution_count": null,
      "metadata": {
        "id": "b0YqDK-SeBtu"
      },
      "outputs": [],
      "source": [
        "# x1とx2の生成\n",
        "x1 = np.linspace(0, 1, 101)  # [0 0.1 ... 1.0]\n",
        "x2 = np.linspace(0, 1, 101)  # [0 0.1 ... 1.0]\n",
        "X1, X2 = np.meshgrid(x1, x2)\n",
        "\n",
        "# 入力x1とx2の出力を計算しvalに代入\n",
        "val = []\n",
        "\n",
        "for v in x2:\n",
        "  for u in x1:\n",
        "    input = u, v\n",
        "    val.append(model.forward(input))\n",
        "\n",
        "val = np.asarray(val)\n",
        "val = val.reshape(X1.shape)\n",
        "\n",
        "# 等高線表示(PDFにセーブ)     \n",
        "fig, ax = plt.subplots(figsize=(7,6))\n",
        "surf = ax.contourf(X1, X2, val, 20, cmap='viridis')\n",
        "fig.colorbar(surf)\n",
        "ax.set_xlabel(\"x1\")\n",
        "ax.set_ylabel(\"x2\")\n",
        "plt.savefig(\"Perceptron-2D.pdf\")\n",
        "plt.show()\n",
        "\n",
        "# 3D表示 (PDFにセーブ)  \n",
        "fig = plt.figure(figsize=(6,6))\n",
        "ax = fig.add_subplot(projection='3d')\n",
        "ax.plot_surface(X1, X2, val, cmap='viridis') \n",
        "ax.set_xlabel(\"x1\")\n",
        "ax.set_ylabel(\"x2\")\n",
        "plt.savefig(\"Perceptron-3D.pdf\")\n",
        "plt.show()"
      ]
    },
    {
      "cell_type": "markdown",
      "metadata": {
        "id": "Sc8hpBa-3SP6"
      },
      "source": [
        "## 課題\n",
        "1. 学習率 lr の値を変更すると， 学習曲線と重みがどのように変更するか試してみよう\n",
        "2. バイアス b をbackwardの際に更新しないように変更し学習できるか試してみよう\n",
        "2. ORの出力を学習するように変更してみよう\n",
        "3. XORを学習するように変更してみよう\n",
        "4. 0000~1111を入力し、10進数の値を学習するように変更してみよう\n",
        "   （input_size = 4, num_train_data = 16）\n"
      ]
    }
  ],
  "metadata": {
    "colab": {
      "name": "Perceptron_AND.ipynb",
      "provenance": [],
      "include_colab_link": true
    },
    "kernelspec": {
      "display_name": "Python 3",
      "language": "python",
      "name": "python3"
    },
    "language_info": {
      "codemirror_mode": {
        "name": "ipython",
        "version": 3
      },
      "file_extension": ".py",
      "mimetype": "text/x-python",
      "name": "python",
      "nbconvert_exporter": "python",
      "pygments_lexer": "ipython3",
      "version": "3.5.2"
    }
  },
  "nbformat": 4,
  "nbformat_minor": 0
}