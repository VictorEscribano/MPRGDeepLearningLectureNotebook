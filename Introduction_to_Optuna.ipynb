{
  "nbformat": 4,
  "nbformat_minor": 0,
  "metadata": {
    "colab": {
      "provenance": [],
      "toc_visible": true,
      "gpuType": "T4",
      "authorship_tag": "ABX9TyO+CP3VcklUB63+yMO1ILUu",
      "include_colab_link": true
    },
    "kernelspec": {
      "name": "python3",
      "display_name": "Python 3"
    },
    "language_info": {
      "name": "python"
    },
    "accelerator": "GPU",
    "gpuClass": "standard"
  },
  "cells": [
    {
      "cell_type": "markdown",
      "metadata": {
        "id": "view-in-github",
        "colab_type": "text"
      },
      "source": [
        "<a href=\"https://colab.research.google.com/github/yukiharada1228/MPRGDeepLearningLectureNotebook/blob/master/Introduction_to_Optuna.ipynb\" target=\"_parent\"><img src=\"https://colab.research.google.com/assets/colab-badge.svg\" alt=\"Open In Colab\"/></a>"
      ]
    },
    {
      "cell_type": "markdown",
      "source": [
        "# Optuna入門\n",
        "- ハイパーパラメータ自動最適化フレームワークOptuna\n",
        "    - 株式会社Preferred Networksがオープンソースで提供するハイパーパラメータ自動最適化フレームワークです．\n",
        "    - 深層学習フレームワークChainer，Pytorchをはじめ、様々な機械学習ソフトウェアと一緒に使用することが可能です．"
      ],
      "metadata": {
        "id": "tZoSdfvq3ESx"
      }
    },
    {
      "cell_type": "markdown",
      "source": [
        "## インストール\n",
        "- pipコマンドでOptunaをGoogle Colaboratoryに導入します．"
      ],
      "metadata": {
        "id": "ptvZ6djt4TLt"
      }
    },
    {
      "cell_type": "code",
      "execution_count": null,
      "metadata": {
        "colab": {
          "base_uri": "https://localhost:8080/"
        },
        "id": "da39pFa12-4p",
        "outputId": "e8a2954c-ecd0-421d-edd8-618bf2c98593"
      },
      "outputs": [
        {
          "output_type": "stream",
          "name": "stdout",
          "text": [
            "\u001b[2K     \u001b[90m━━━━━━━━━━━━━━━━━━━━━━━━━━━━━━━━━━━━━━━\u001b[0m \u001b[32m365.7/365.7 KB\u001b[0m \u001b[31m9.1 MB/s\u001b[0m eta \u001b[36m0:00:00\u001b[0m\n",
            "\u001b[2K     \u001b[90m━━━━━━━━━━━━━━━━━━━━━━━━━━━━━━━━━━━━━━\u001b[0m \u001b[32m212.3/212.3 KB\u001b[0m \u001b[31m12.4 MB/s\u001b[0m eta \u001b[36m0:00:00\u001b[0m\n",
            "\u001b[2K     \u001b[90m━━━━━━━━━━━━━━━━━━━━━━━━━━━━━━━━━━━━━━━━\u001b[0m \u001b[32m78.7/78.7 KB\u001b[0m \u001b[31m6.2 MB/s\u001b[0m eta \u001b[36m0:00:00\u001b[0m\n",
            "\u001b[?25h"
          ]
        }
      ],
      "source": [
        "!pip -q install optuna==3.1.1"
      ]
    },
    {
      "cell_type": "markdown",
      "source": [
        "## 2次関数の最小値探索\n",
        " - yを最小化させるxをハイパーパラメータとしてOptunaで探索します．\n",
        "### 例）\n",
        "$$ y = (x - 5)^2 + 25 $$"
      ],
      "metadata": {
        "id": "04YxAA7h5W-y"
      }
    },
    {
      "cell_type": "code",
      "source": [
        "import numpy as np\n",
        "import matplotlib.pyplot as plt\n",
        "import optuna\n",
        "\n",
        "# 最適化する関数を定義\n",
        "def y(x):\n",
        "    return (x - 5)**2 + 25\n",
        "\n",
        "# xの値域を定義\n",
        "x_range = np.arange(-10, 10, 0.1)\n",
        "\n",
        "# yの値域を計算\n",
        "y_range = [y(x) for x in x_range]\n",
        "\n",
        "# Optunaによる最小化問題を定義\n",
        "def objective(trial):\n",
        "    x = trial.suggest_float('x', -10, 10, step=0.1)  # xを連続値で指定し、stepを指定して0.1刻みにする\n",
        "    return y(x)\n",
        "\n",
        "# Optunaで探索\n",
        "study = optuna.create_study()\n",
        "study.optimize(objective, n_trials=100)  # 探索回数を指定\n",
        "\n",
        "# 最適なxを取得し、最小値を計算\n",
        "x_opt = study.best_params['x']  # 最適なxを取得\n",
        "y_opt = y(x_opt)  # 最適なxでのyを計算\n",
        "\n",
        "# Optunaによる探索履歴を取得\n",
        "opt_x = [t.params['x'] for t in study.trials]  # 各試行のxの値をリストにまとめる\n",
        "opt_y = [t.value for t in study.trials]  # 各試行の目的関数の値をリストにまとめる\n",
        "\n",
        "# グラフを描画\n",
        "plt.plot(x_range, y_range)\n",
        "plt.xlabel('x')\n",
        "plt.ylabel('y')\n",
        "plt.title('y=(x-5)^2+25')\n",
        "\n",
        "# 探索履歴をプロット\n",
        "plt.scatter(opt_x, opt_y, c='b', alpha=0.5, label=f'Search history ({len(opt_x)} trials)')  # 探索履歴をプロット\n",
        "\n",
        "# 最適なxの場所に点を打つ\n",
        "plt.plot(x_opt, y_opt, 'ro')\n",
        "\n",
        "plt.legend()\n",
        "plt.show()\n",
        "\n",
        "print(f\"最適なパラメータ: x={x_opt}\")  # 最適なパラメータを表示\n",
        "print(f\"最小値: y={y_opt}\")  # 最小値を表示"
      ],
      "metadata": {
        "colab": {
          "base_uri": "https://localhost:8080/",
          "height": 1000
        },
        "id": "cYvNY4XH70Dk",
        "outputId": "63658650-8be7-4b21-9833-8a75871e537d"
      },
      "execution_count": null,
      "outputs": [
        {
          "output_type": "stream",
          "name": "stderr",
          "text": [
            "\u001b[32m[I 2023-04-08 05:26:12,578]\u001b[0m A new study created in memory with name: no-name-1d3c67b9-5b01-466a-93c3-cc0ba67547eb\u001b[0m\n",
            "\u001b[32m[I 2023-04-08 05:26:12,584]\u001b[0m Trial 0 finished with value: 40.210000000000015 and parameters: {'x': 8.900000000000002}. Best is trial 0 with value: 40.210000000000015.\u001b[0m\n",
            "\u001b[32m[I 2023-04-08 05:26:12,587]\u001b[0m Trial 1 finished with value: 196.60999999999999 and parameters: {'x': -8.1}. Best is trial 0 with value: 40.210000000000015.\u001b[0m\n",
            "\u001b[32m[I 2023-04-08 05:26:12,589]\u001b[0m Trial 2 finished with value: 148.20999999999998 and parameters: {'x': -6.1}. Best is trial 0 with value: 40.210000000000015.\u001b[0m\n",
            "\u001b[32m[I 2023-04-08 05:26:12,592]\u001b[0m Trial 3 finished with value: 59.81 and parameters: {'x': -0.9000000000000004}. Best is trial 0 with value: 40.210000000000015.\u001b[0m\n",
            "\u001b[32m[I 2023-04-08 05:26:12,594]\u001b[0m Trial 4 finished with value: 25.09 and parameters: {'x': 4.700000000000001}. Best is trial 4 with value: 25.09.\u001b[0m\n",
            "\u001b[32m[I 2023-04-08 05:26:12,596]\u001b[0m Trial 5 finished with value: 35.239999999999995 and parameters: {'x': 1.8000000000000007}. Best is trial 4 with value: 25.09.\u001b[0m\n",
            "\u001b[32m[I 2023-04-08 05:26:12,598]\u001b[0m Trial 6 finished with value: 26.0 and parameters: {'x': 4.0}. Best is trial 4 with value: 25.09.\u001b[0m\n",
            "\u001b[32m[I 2023-04-08 05:26:12,600]\u001b[0m Trial 7 finished with value: 25.810000000000002 and parameters: {'x': 5.9}. Best is trial 4 with value: 25.09.\u001b[0m\n",
            "\u001b[32m[I 2023-04-08 05:26:12,602]\u001b[0m Trial 8 finished with value: 223.81 and parameters: {'x': -9.1}. Best is trial 4 with value: 25.09.\u001b[0m\n",
            "\u001b[32m[I 2023-04-08 05:26:12,604]\u001b[0m Trial 9 finished with value: 199.23999999999998 and parameters: {'x': -8.2}. Best is trial 4 with value: 25.09.\u001b[0m\n",
            "\u001b[32m[I 2023-04-08 05:26:12,621]\u001b[0m Trial 10 finished with value: 78.28999999999999 and parameters: {'x': -2.3}. Best is trial 4 with value: 25.09.\u001b[0m\n",
            "\u001b[32m[I 2023-04-08 05:26:12,631]\u001b[0m Trial 11 finished with value: 32.29 and parameters: {'x': 7.699999999999999}. Best is trial 4 with value: 25.09.\u001b[0m\n",
            "\u001b[32m[I 2023-04-08 05:26:12,647]\u001b[0m Trial 12 finished with value: 25.09 and parameters: {'x': 5.300000000000001}. Best is trial 4 with value: 25.09.\u001b[0m\n",
            "\u001b[32m[I 2023-04-08 05:26:12,663]\u001b[0m Trial 13 finished with value: 28.609999999999996 and parameters: {'x': 3.1000000000000014}. Best is trial 4 with value: 25.09.\u001b[0m\n",
            "\u001b[32m[I 2023-04-08 05:26:12,673]\u001b[0m Trial 14 finished with value: 25.360000000000003 and parameters: {'x': 5.600000000000001}. Best is trial 4 with value: 25.09.\u001b[0m\n",
            "\u001b[32m[I 2023-04-08 05:26:12,688]\u001b[0m Trial 15 finished with value: 38.69 and parameters: {'x': 1.3000000000000007}. Best is trial 4 with value: 25.09.\u001b[0m\n",
            "\u001b[32m[I 2023-04-08 05:26:12,702]\u001b[0m Trial 16 finished with value: 89.0 and parameters: {'x': -3.0}. Best is trial 4 with value: 25.09.\u001b[0m\n",
            "\u001b[32m[I 2023-04-08 05:26:12,711]\u001b[0m Trial 17 finished with value: 49.01000000000002 and parameters: {'x': 9.900000000000002}. Best is trial 4 with value: 25.09.\u001b[0m\n",
            "\u001b[32m[I 2023-04-08 05:26:12,723]\u001b[0m Trial 18 finished with value: 26.69 and parameters: {'x': 6.300000000000001}. Best is trial 4 with value: 25.09.\u001b[0m\n",
            "\u001b[32m[I 2023-04-08 05:26:12,734]\u001b[0m Trial 19 finished with value: 25.16 and parameters: {'x': 4.600000000000001}. Best is trial 4 with value: 25.09.\u001b[0m\n",
            "\u001b[32m[I 2023-04-08 05:26:12,749]\u001b[0m Trial 20 finished with value: 31.76000000000001 and parameters: {'x': 7.600000000000001}. Best is trial 4 with value: 25.09.\u001b[0m\n",
            "\u001b[32m[I 2023-04-08 05:26:12,764]\u001b[0m Trial 21 finished with value: 26.439999999999998 and parameters: {'x': 3.8000000000000007}. Best is trial 4 with value: 25.09.\u001b[0m\n",
            "\u001b[32m[I 2023-04-08 05:26:12,777]\u001b[0m Trial 22 finished with value: 25.04 and parameters: {'x': 4.800000000000001}. Best is trial 22 with value: 25.04.\u001b[0m\n",
            "\u001b[32m[I 2023-04-08 05:26:12,792]\u001b[0m Trial 23 finished with value: 35.88999999999999 and parameters: {'x': 1.700000000000001}. Best is trial 22 with value: 25.04.\u001b[0m\n",
            "\u001b[32m[I 2023-04-08 05:26:12,807]\u001b[0m Trial 24 finished with value: 33.41000000000001 and parameters: {'x': 7.900000000000002}. Best is trial 22 with value: 25.04.\u001b[0m\n",
            "\u001b[32m[I 2023-04-08 05:26:12,819]\u001b[0m Trial 25 finished with value: 52.03999999999999 and parameters: {'x': -0.1999999999999993}. Best is trial 22 with value: 25.04.\u001b[0m\n",
            "\u001b[32m[I 2023-04-08 05:26:12,830]\u001b[0m Trial 26 finished with value: 31.25 and parameters: {'x': 2.5}. Best is trial 22 with value: 25.04.\u001b[0m\n",
            "\u001b[32m[I 2023-04-08 05:26:12,840]\u001b[0m Trial 27 finished with value: 25.04 and parameters: {'x': 4.800000000000001}. Best is trial 22 with value: 25.04.\u001b[0m\n",
            "\u001b[32m[I 2023-04-08 05:26:12,851]\u001b[0m Trial 28 finished with value: 27.25 and parameters: {'x': 6.5}. Best is trial 22 with value: 25.04.\u001b[0m\n",
            "\u001b[32m[I 2023-04-08 05:26:12,862]\u001b[0m Trial 29 finished with value: 42.64000000000003 and parameters: {'x': 9.200000000000003}. Best is trial 22 with value: 25.04.\u001b[0m\n",
            "\u001b[32m[I 2023-04-08 05:26:12,874]\u001b[0m Trial 30 finished with value: 68.56 and parameters: {'x': -1.5999999999999996}. Best is trial 22 with value: 25.04.\u001b[0m\n",
            "\u001b[32m[I 2023-04-08 05:26:12,885]\u001b[0m Trial 31 finished with value: 25.09 and parameters: {'x': 4.700000000000001}. Best is trial 22 with value: 25.04.\u001b[0m\n",
            "\u001b[32m[I 2023-04-08 05:26:12,895]\u001b[0m Trial 32 finished with value: 41.81 and parameters: {'x': 0.9000000000000004}. Best is trial 22 with value: 25.04.\u001b[0m\n",
            "\u001b[32m[I 2023-04-08 05:26:12,910]\u001b[0m Trial 33 finished with value: 29.409999999999997 and parameters: {'x': 2.9000000000000004}. Best is trial 22 with value: 25.04.\u001b[0m\n",
            "\u001b[32m[I 2023-04-08 05:26:12,928]\u001b[0m Trial 34 finished with value: 104.20999999999998 and parameters: {'x': -3.8999999999999995}. Best is trial 22 with value: 25.04.\u001b[0m\n",
            "\u001b[32m[I 2023-04-08 05:26:12,943]\u001b[0m Trial 35 finished with value: 25.0 and parameters: {'x': 5.0}. Best is trial 35 with value: 25.0.\u001b[0m\n",
            "\u001b[32m[I 2023-04-08 05:26:12,960]\u001b[0m Trial 36 finished with value: 31.25 and parameters: {'x': 7.5}. Best is trial 35 with value: 25.0.\u001b[0m\n",
            "\u001b[32m[I 2023-04-08 05:26:12,978]\u001b[0m Trial 37 finished with value: 139.48999999999998 and parameters: {'x': -5.7}. Best is trial 35 with value: 25.0.\u001b[0m\n",
            "\u001b[32m[I 2023-04-08 05:26:12,990]\u001b[0m Trial 38 finished with value: 26.959999999999997 and parameters: {'x': 3.6000000000000014}. Best is trial 35 with value: 25.0.\u001b[0m\n",
            "\u001b[32m[I 2023-04-08 05:26:13,002]\u001b[0m Trial 39 finished with value: 48.03999999999999 and parameters: {'x': 0.20000000000000107}. Best is trial 35 with value: 25.0.\u001b[0m\n",
            "\u001b[32m[I 2023-04-08 05:26:13,013]\u001b[0m Trial 40 finished with value: 28.240000000000002 and parameters: {'x': 6.800000000000001}. Best is trial 35 with value: 25.0.\u001b[0m\n",
            "\u001b[32m[I 2023-04-08 05:26:13,023]\u001b[0m Trial 41 finished with value: 25.16 and parameters: {'x': 5.4}. Best is trial 35 with value: 25.0.\u001b[0m\n",
            "\u001b[32m[I 2023-04-08 05:26:13,031]\u001b[0m Trial 42 finished with value: 25.01 and parameters: {'x': 4.9}. Best is trial 35 with value: 25.0.\u001b[0m\n",
            "\u001b[32m[I 2023-04-08 05:26:13,042]\u001b[0m Trial 43 finished with value: 25.09 and parameters: {'x': 4.700000000000001}. Best is trial 35 with value: 25.0.\u001b[0m\n",
            "\u001b[32m[I 2023-04-08 05:26:13,055]\u001b[0m Trial 44 finished with value: 31.25 and parameters: {'x': 2.5}. Best is trial 35 with value: 25.0.\u001b[0m\n",
            "\u001b[32m[I 2023-04-08 05:26:13,065]\u001b[0m Trial 45 finished with value: 38.69 and parameters: {'x': 8.7}. Best is trial 35 with value: 25.0.\u001b[0m\n",
            "\u001b[32m[I 2023-04-08 05:26:13,076]\u001b[0m Trial 46 finished with value: 25.49 and parameters: {'x': 4.300000000000001}. Best is trial 35 with value: 25.0.\u001b[0m\n",
            "\u001b[32m[I 2023-04-08 05:26:13,088]\u001b[0m Trial 47 finished with value: 28.240000000000002 and parameters: {'x': 6.800000000000001}. Best is trial 35 with value: 25.0.\u001b[0m\n",
            "\u001b[32m[I 2023-04-08 05:26:13,105]\u001b[0m Trial 48 finished with value: 25.360000000000003 and parameters: {'x': 5.600000000000001}. Best is trial 35 with value: 25.0.\u001b[0m\n",
            "\u001b[32m[I 2023-04-08 05:26:13,118]\u001b[0m Trial 49 finished with value: 27.25 and parameters: {'x': 3.5}. Best is trial 35 with value: 25.0.\u001b[0m\n",
            "\u001b[32m[I 2023-04-08 05:26:13,138]\u001b[0m Trial 50 finished with value: 37.25 and parameters: {'x': 8.5}. Best is trial 35 with value: 25.0.\u001b[0m\n",
            "\u001b[32m[I 2023-04-08 05:26:13,153]\u001b[0m Trial 51 finished with value: 25.01 and parameters: {'x': 5.100000000000001}. Best is trial 35 with value: 25.0.\u001b[0m\n",
            "\u001b[32m[I 2023-04-08 05:26:13,165]\u001b[0m Trial 52 finished with value: 26.0 and parameters: {'x': 6.0}. Best is trial 35 with value: 25.0.\u001b[0m\n",
            "\u001b[32m[I 2023-04-08 05:26:13,175]\u001b[0m Trial 53 finished with value: 25.0 and parameters: {'x': 5.0}. Best is trial 35 with value: 25.0.\u001b[0m\n",
            "\u001b[32m[I 2023-04-08 05:26:13,188]\u001b[0m Trial 54 finished with value: 32.839999999999996 and parameters: {'x': 2.200000000000001}. Best is trial 35 with value: 25.0.\u001b[0m\n",
            "\u001b[32m[I 2023-04-08 05:26:13,199]\u001b[0m Trial 55 finished with value: 26.439999999999998 and parameters: {'x': 3.8000000000000007}. Best is trial 35 with value: 25.0.\u001b[0m\n",
            "\u001b[32m[I 2023-04-08 05:26:13,211]\u001b[0m Trial 56 finished with value: 25.16 and parameters: {'x': 5.4}. Best is trial 35 with value: 25.0.\u001b[0m\n",
            "\u001b[32m[I 2023-04-08 05:26:13,225]\u001b[0m Trial 57 finished with value: 25.04 and parameters: {'x': 4.800000000000001}. Best is trial 35 with value: 25.0.\u001b[0m\n",
            "\u001b[32m[I 2023-04-08 05:26:13,237]\u001b[0m Trial 58 finished with value: 28.609999999999996 and parameters: {'x': 3.1000000000000014}. Best is trial 35 with value: 25.0.\u001b[0m\n",
            "\u001b[32m[I 2023-04-08 05:26:13,252]\u001b[0m Trial 59 finished with value: 30.760000000000012 and parameters: {'x': 7.400000000000002}. Best is trial 35 with value: 25.0.\u001b[0m\n",
            "\u001b[32m[I 2023-04-08 05:26:13,268]\u001b[0m Trial 60 finished with value: 26.439999999999998 and parameters: {'x': 6.199999999999999}. Best is trial 35 with value: 25.0.\u001b[0m\n",
            "\u001b[32m[I 2023-04-08 05:26:13,279]\u001b[0m Trial 61 finished with value: 25.04 and parameters: {'x': 4.800000000000001}. Best is trial 35 with value: 25.0.\u001b[0m\n",
            "\u001b[32m[I 2023-04-08 05:26:13,290]\u001b[0m Trial 62 finished with value: 25.49 and parameters: {'x': 4.300000000000001}. Best is trial 35 with value: 25.0.\u001b[0m\n",
            "\u001b[32m[I 2023-04-08 05:26:13,310]\u001b[0m Trial 63 finished with value: 25.04 and parameters: {'x': 5.200000000000001}. Best is trial 35 with value: 25.0.\u001b[0m\n",
            "\u001b[32m[I 2023-04-08 05:26:13,321]\u001b[0m Trial 64 finished with value: 29.0 and parameters: {'x': 7.0}. Best is trial 35 with value: 25.0.\u001b[0m\n",
            "\u001b[32m[I 2023-04-08 05:26:13,336]\u001b[0m Trial 65 finished with value: 41.0 and parameters: {'x': 1.0}. Best is trial 35 with value: 25.0.\u001b[0m\n",
            "\u001b[32m[I 2023-04-08 05:26:13,350]\u001b[0m Trial 66 finished with value: 35.239999999999995 and parameters: {'x': 8.2}. Best is trial 35 with value: 25.0.\u001b[0m\n",
            "\u001b[32m[I 2023-04-08 05:26:13,365]\u001b[0m Trial 67 finished with value: 26.210000000000004 and parameters: {'x': 6.100000000000001}. Best is trial 35 with value: 25.0.\u001b[0m\n",
            "\u001b[32m[I 2023-04-08 05:26:13,383]\u001b[0m Trial 68 finished with value: 45.25 and parameters: {'x': 9.5}. Best is trial 35 with value: 25.0.\u001b[0m\n",
            "\u001b[32m[I 2023-04-08 05:26:13,399]\u001b[0m Trial 69 finished with value: 29.0 and parameters: {'x': 3.0}. Best is trial 35 with value: 25.0.\u001b[0m\n",
            "\u001b[32m[I 2023-04-08 05:26:13,413]\u001b[0m Trial 70 finished with value: 34.61 and parameters: {'x': 1.9000000000000004}. Best is trial 35 with value: 25.0.\u001b[0m\n",
            "\u001b[32m[I 2023-04-08 05:26:13,426]\u001b[0m Trial 71 finished with value: 25.04 and parameters: {'x': 4.800000000000001}. Best is trial 35 with value: 25.0.\u001b[0m\n",
            "\u001b[32m[I 2023-04-08 05:26:13,440]\u001b[0m Trial 72 finished with value: 25.81 and parameters: {'x': 4.100000000000001}. Best is trial 35 with value: 25.0.\u001b[0m\n",
            "\u001b[32m[I 2023-04-08 05:26:13,453]\u001b[0m Trial 73 finished with value: 25.0 and parameters: {'x': 5.0}. Best is trial 35 with value: 25.0.\u001b[0m\n",
            "\u001b[32m[I 2023-04-08 05:26:13,471]\u001b[0m Trial 74 finished with value: 25.0 and parameters: {'x': 5.0}. Best is trial 35 with value: 25.0.\u001b[0m\n",
            "\u001b[32m[I 2023-04-08 05:26:13,487]\u001b[0m Trial 75 finished with value: 27.56 and parameters: {'x': 3.4000000000000004}. Best is trial 35 with value: 25.0.\u001b[0m\n",
            "\u001b[32m[I 2023-04-08 05:26:13,502]\u001b[0m Trial 76 finished with value: 25.64 and parameters: {'x': 5.800000000000001}. Best is trial 35 with value: 25.0.\u001b[0m\n",
            "\u001b[32m[I 2023-04-08 05:26:13,521]\u001b[0m Trial 77 finished with value: 27.25 and parameters: {'x': 6.5}. Best is trial 35 with value: 25.0.\u001b[0m\n",
            "\u001b[32m[I 2023-04-08 05:26:13,537]\u001b[0m Trial 78 finished with value: 26.0 and parameters: {'x': 4.0}. Best is trial 35 with value: 25.0.\u001b[0m\n",
            "\u001b[32m[I 2023-04-08 05:26:13,555]\u001b[0m Trial 79 finished with value: 25.0 and parameters: {'x': 5.0}. Best is trial 35 with value: 25.0.\u001b[0m\n",
            "\u001b[32m[I 2023-04-08 05:26:13,569]\u001b[0m Trial 80 finished with value: 25.16 and parameters: {'x': 5.4}. Best is trial 35 with value: 25.0.\u001b[0m\n",
            "\u001b[32m[I 2023-04-08 05:26:13,585]\u001b[0m Trial 81 finished with value: 29.0 and parameters: {'x': 7.0}. Best is trial 35 with value: 25.0.\u001b[0m\n",
            "\u001b[32m[I 2023-04-08 05:26:13,600]\u001b[0m Trial 82 finished with value: 25.01 and parameters: {'x': 5.100000000000001}. Best is trial 35 with value: 25.0.\u001b[0m\n",
            "\u001b[32m[I 2023-04-08 05:26:13,616]\u001b[0m Trial 83 finished with value: 25.0 and parameters: {'x': 5.0}. Best is trial 35 with value: 25.0.\u001b[0m\n",
            "\u001b[32m[I 2023-04-08 05:26:13,634]\u001b[0m Trial 84 finished with value: 25.49 and parameters: {'x': 4.300000000000001}. Best is trial 35 with value: 25.0.\u001b[0m\n",
            "\u001b[32m[I 2023-04-08 05:26:13,646]\u001b[0m Trial 85 finished with value: 25.04 and parameters: {'x': 5.200000000000001}. Best is trial 35 with value: 25.0.\u001b[0m\n",
            "\u001b[32m[I 2023-04-08 05:26:13,659]\u001b[0m Trial 86 finished with value: 30.289999999999996 and parameters: {'x': 2.700000000000001}. Best is trial 35 with value: 25.0.\u001b[0m\n",
            "\u001b[32m[I 2023-04-08 05:26:13,672]\u001b[0m Trial 87 finished with value: 26.0 and parameters: {'x': 6.0}. Best is trial 35 with value: 25.0.\u001b[0m\n",
            "\u001b[32m[I 2023-04-08 05:26:13,688]\u001b[0m Trial 88 finished with value: 250.0 and parameters: {'x': -10.0}. Best is trial 35 with value: 25.0.\u001b[0m\n",
            "\u001b[32m[I 2023-04-08 05:26:13,704]\u001b[0m Trial 89 finished with value: 27.25 and parameters: {'x': 6.5}. Best is trial 35 with value: 25.0.\u001b[0m\n",
            "\u001b[32m[I 2023-04-08 05:26:13,720]\u001b[0m Trial 90 finished with value: 27.25 and parameters: {'x': 3.5}. Best is trial 35 with value: 25.0.\u001b[0m\n",
            "\u001b[32m[I 2023-04-08 05:26:13,732]\u001b[0m Trial 91 finished with value: 25.01 and parameters: {'x': 5.100000000000001}. Best is trial 35 with value: 25.0.\u001b[0m\n",
            "\u001b[32m[I 2023-04-08 05:26:13,747]\u001b[0m Trial 92 finished with value: 25.01 and parameters: {'x': 5.100000000000001}. Best is trial 35 with value: 25.0.\u001b[0m\n",
            "\u001b[32m[I 2023-04-08 05:26:13,762]\u001b[0m Trial 93 finished with value: 25.490000000000002 and parameters: {'x': 5.700000000000001}. Best is trial 35 with value: 25.0.\u001b[0m\n",
            "\u001b[32m[I 2023-04-08 05:26:13,774]\u001b[0m Trial 94 finished with value: 25.36 and parameters: {'x': 4.4}. Best is trial 35 with value: 25.0.\u001b[0m\n",
            "\u001b[32m[I 2023-04-08 05:26:13,794]\u001b[0m Trial 95 finished with value: 26.0 and parameters: {'x': 4.0}. Best is trial 35 with value: 25.0.\u001b[0m\n",
            "\u001b[32m[I 2023-04-08 05:26:13,807]\u001b[0m Trial 96 finished with value: 33.41000000000001 and parameters: {'x': 7.900000000000002}. Best is trial 35 with value: 25.0.\u001b[0m\n",
            "\u001b[32m[I 2023-04-08 05:26:13,824]\u001b[0m Trial 97 finished with value: 25.64 and parameters: {'x': 5.800000000000001}. Best is trial 35 with value: 25.0.\u001b[0m\n",
            "\u001b[32m[I 2023-04-08 05:26:13,844]\u001b[0m Trial 98 finished with value: 29.410000000000007 and parameters: {'x': 7.100000000000001}. Best is trial 35 with value: 25.0.\u001b[0m\n",
            "\u001b[32m[I 2023-04-08 05:26:13,858]\u001b[0m Trial 99 finished with value: 25.01 and parameters: {'x': 5.100000000000001}. Best is trial 35 with value: 25.0.\u001b[0m\n"
          ]
        },
        {
          "output_type": "display_data",
          "data": {
            "text/plain": [
              "<Figure size 640x480 with 1 Axes>"
            ],
            "image/png": "[encoded data removed]"
          },
          "metadata": {}
        },
        {
          "output_type": "stream",
          "name": "stdout",
          "text": [
            "最適なパラメータ: x=5.0\n",
            "最小値: y=25.0\n"
          ]
        }
      ]
    },
    {
      "cell_type": "markdown",
      "source": [
        "## MLPのハイパーパラメータ探索"
      ],
      "metadata": {
        "id": "MVH41a_4IYoa"
      }
    },
    {
      "cell_type": "code",
      "source": [
        "import tensorflow as tf\n",
        "from tensorflow import keras\n",
        "\n",
        "(x_train, y_train), (x_test, y_test) = keras.datasets.mnist.load_data()\n",
        "\n",
        "x_train = x_train.reshape(60000, 784)\n",
        "x_test = x_test.reshape(10000, 784)\n",
        "\n",
        "x_train = x_train.astype('float32') / 255\n",
        "x_test = x_test.astype('float32') / 255\n",
        "\n",
        "num_classes = 10\n",
        "y_train = keras.utils.to_categorical(y_train, num_classes)\n",
        "y_test = keras.utils.to_categorical(y_test, num_classes)\n",
        "\n",
        "def create_model(trial):\n",
        "    model = keras.Sequential()\n",
        "\n",
        "    # 各層のユニット数と層の数を調整する\n",
        "    n_layers = trial.suggest_int('n_layers', 1, 5)\n",
        "    for i in range(n_layers):\n",
        "        n_units = trial.suggest_int('n_units_l{}'.format(i), 4, 128, log=True)\n",
        "        model.add(keras.layers.Dense(units=n_units, activation='relu'))\n",
        "\n",
        "    model.add(keras.layers.Dense(num_classes, activation='softmax'))\n",
        "\n",
        "    # オプティマイザの学習率を調整する\n",
        "    learning_rate = trial.suggest_float('learning_rate', 1e-5, 1e-1, log=True)\n",
        "    optimizer = keras.optimizers.Adam(learning_rate=learning_rate)\n",
        "\n",
        "    model.compile(loss='categorical_crossentropy',\n",
        "                  optimizer=optimizer,\n",
        "                  metrics=['accuracy'])\n",
        "\n",
        "    return model\n",
        "\n",
        "def objective(trial):\n",
        "    model = create_model(trial)\n",
        "\n",
        "    # モデルの訓練\n",
        "    model.fit(x_train, y_train, validation_data=(x_test, y_test), epochs=20, batch_size=128)\n",
        "\n",
        "    # テストデータでモデルを評価する\n",
        "    score = model.evaluate(x_test, y_test, verbose=0)\n",
        "    return score[1]\n",
        "\n",
        "study = optuna.create_study(direction='maximize')\n",
        "study.optimize(objective, n_trials=5)\n",
        "\n",
        "print('Number of finished trials:', len(study.trials))\n",
        "print('Best trial:', study.best_trial.params)\n",
        "print('Best accuracy:', study.best_trial.value)"
      ],
      "metadata": {
        "colab": {
          "base_uri": "https://localhost:8080/"
        },
        "id": "INoI1sYlIdk5",
        "outputId": "bdac69c3-9d0d-414a-ac38-34472b5f26d9"
      },
      "execution_count": null,
      "outputs": [
        {
          "output_type": "stream",
          "name": "stderr",
          "text": [
            "\u001b[32m[I 2023-04-08 05:27:22,709]\u001b[0m A new study created in memory with name: no-name-1c4543fe-7e88-4462-9676-cfd44f8eeb83\u001b[0m\n"
          ]
        },
        {
          "output_type": "stream",
          "name": "stdout",
          "text": [
            "Epoch 1/20\n",
            "469/469 [==============================] - 3s 4ms/step - loss: 0.8738 - accuracy: 0.7093 - val_loss: 0.4929 - val_accuracy: 0.8675\n",
            "Epoch 2/20\n",
            "469/469 [==============================] - 2s 4ms/step - loss: 0.4356 - accuracy: 0.8804 - val_loss: 0.4089 - val_accuracy: 0.8941\n",
            "Epoch 3/20\n",
            "469/469 [==============================] - 2s 4ms/step - loss: 0.3586 - accuracy: 0.9050 - val_loss: 0.3580 - val_accuracy: 0.9098\n",
            "Epoch 4/20\n",
            "469/469 [==============================] - 2s 4ms/step - loss: 0.3091 - accuracy: 0.9184 - val_loss: 0.3020 - val_accuracy: 0.9220\n",
            "Epoch 5/20\n",
            "469/469 [==============================] - 2s 4ms/step - loss: 0.2472 - accuracy: 0.9322 - val_loss: 0.2678 - val_accuracy: 0.9272\n",
            "Epoch 6/20\n",
            "469/469 [==============================] - 2s 3ms/step - loss: 0.2208 - accuracy: 0.9376 - val_loss: 0.2401 - val_accuracy: 0.9354\n",
            "Epoch 7/20\n",
            "469/469 [==============================] - 2s 3ms/step - loss: 0.2001 - accuracy: 0.9434 - val_loss: 0.2398 - val_accuracy: 0.9360\n",
            "Epoch 8/20\n",
            "469/469 [==============================] - 2s 4ms/step - loss: 0.1919 - accuracy: 0.9458 - val_loss: 0.2455 - val_accuracy: 0.9342\n",
            "Epoch 9/20\n",
            "469/469 [==============================] - 2s 4ms/step - loss: 0.1799 - accuracy: 0.9482 - val_loss: 0.2345 - val_accuracy: 0.9349\n",
            "Epoch 10/20\n",
            "469/469 [==============================] - 2s 3ms/step - loss: 0.1725 - accuracy: 0.9500 - val_loss: 0.2249 - val_accuracy: 0.9379\n",
            "Epoch 11/20\n",
            "469/469 [==============================] - 2s 4ms/step - loss: 0.1679 - accuracy: 0.9523 - val_loss: 0.2240 - val_accuracy: 0.9371\n",
            "Epoch 12/20\n",
            "469/469 [==============================] - 2s 5ms/step - loss: 0.1604 - accuracy: 0.9532 - val_loss: 0.2167 - val_accuracy: 0.9437\n",
            "Epoch 13/20\n",
            "469/469 [==============================] - 2s 4ms/step - loss: 0.1565 - accuracy: 0.9542 - val_loss: 0.2281 - val_accuracy: 0.9410\n",
            "Epoch 14/20\n",
            "469/469 [==============================] - 2s 4ms/step - loss: 0.1504 - accuracy: 0.9566 - val_loss: 0.2258 - val_accuracy: 0.9398\n",
            "Epoch 15/20\n",
            "469/469 [==============================] - 2s 4ms/step - loss: 0.1446 - accuracy: 0.9586 - val_loss: 0.2258 - val_accuracy: 0.9406\n",
            "Epoch 16/20\n",
            "469/469 [==============================] - 2s 4ms/step - loss: 0.1404 - accuracy: 0.9591 - val_loss: 0.2215 - val_accuracy: 0.9435\n",
            "Epoch 17/20\n",
            "469/469 [==============================] - 2s 3ms/step - loss: 0.1355 - accuracy: 0.9602 - val_loss: 0.2113 - val_accuracy: 0.9433\n",
            "Epoch 18/20\n",
            "469/469 [==============================] - 2s 4ms/step - loss: 0.1335 - accuracy: 0.9613 - val_loss: 0.2331 - val_accuracy: 0.9392\n",
            "Epoch 19/20\n",
            "469/469 [==============================] - 2s 4ms/step - loss: 0.1285 - accuracy: 0.9621 - val_loss: 0.2179 - val_accuracy: 0.9448\n",
            "Epoch 20/20\n",
            "469/469 [==============================] - 2s 4ms/step - loss: 0.1263 - accuracy: 0.9627 - val_loss: 0.2207 - val_accuracy: 0.9437\n"
          ]
        },
        {
          "output_type": "stream",
          "name": "stderr",
          "text": [
            "\u001b[32m[I 2023-04-08 05:28:01,594]\u001b[0m Trial 0 finished with value: 0.9437000155448914 and parameters: {'n_layers': 2, 'n_units_l0': 21, 'n_units_l1': 4, 'learning_rate': 0.005458778284598513}. Best is trial 0 with value: 0.9437000155448914.\u001b[0m\n"
          ]
        },
        {
          "output_type": "stream",
          "name": "stdout",
          "text": [
            "Epoch 1/20\n",
            "469/469 [==============================] - 4s 4ms/step - loss: 0.8942 - accuracy: 0.7198 - val_loss: 0.4080 - val_accuracy: 0.8882\n",
            "Epoch 2/20\n",
            "469/469 [==============================] - 2s 5ms/step - loss: 0.3419 - accuracy: 0.9044 - val_loss: 0.2888 - val_accuracy: 0.9173\n",
            "Epoch 3/20\n",
            "469/469 [==============================] - 2s 5ms/step - loss: 0.2650 - accuracy: 0.9253 - val_loss: 0.2406 - val_accuracy: 0.9294\n",
            "Epoch 4/20\n",
            "469/469 [==============================] - 2s 4ms/step - loss: 0.2255 - accuracy: 0.9363 - val_loss: 0.2256 - val_accuracy: 0.9344\n",
            "Epoch 5/20\n",
            "469/469 [==============================] - 2s 4ms/step - loss: 0.2001 - accuracy: 0.9424 - val_loss: 0.1989 - val_accuracy: 0.9399\n",
            "Epoch 6/20\n",
            "469/469 [==============================] - 2s 4ms/step - loss: 0.1815 - accuracy: 0.9465 - val_loss: 0.1880 - val_accuracy: 0.9431\n",
            "Epoch 7/20\n",
            "469/469 [==============================] - 2s 4ms/step - loss: 0.1677 - accuracy: 0.9506 - val_loss: 0.1877 - val_accuracy: 0.9433\n",
            "Epoch 8/20\n",
            "469/469 [==============================] - 2s 4ms/step - loss: 0.1563 - accuracy: 0.9536 - val_loss: 0.1742 - val_accuracy: 0.9472\n",
            "Epoch 9/20\n",
            "469/469 [==============================] - 3s 5ms/step - loss: 0.1461 - accuracy: 0.9574 - val_loss: 0.1708 - val_accuracy: 0.9460\n",
            "Epoch 10/20\n",
            "469/469 [==============================] - 2s 4ms/step - loss: 0.1379 - accuracy: 0.9583 - val_loss: 0.1614 - val_accuracy: 0.9528\n",
            "Epoch 11/20\n",
            "469/469 [==============================] - 2s 4ms/step - loss: 0.1307 - accuracy: 0.9613 - val_loss: 0.1594 - val_accuracy: 0.9523\n",
            "Epoch 12/20\n",
            "469/469 [==============================] - 2s 4ms/step - loss: 0.1240 - accuracy: 0.9634 - val_loss: 0.1595 - val_accuracy: 0.9533\n",
            "Epoch 13/20\n",
            "469/469 [==============================] - 2s 4ms/step - loss: 0.1182 - accuracy: 0.9651 - val_loss: 0.1535 - val_accuracy: 0.9547\n",
            "Epoch 14/20\n",
            "469/469 [==============================] - 2s 4ms/step - loss: 0.1124 - accuracy: 0.9664 - val_loss: 0.1533 - val_accuracy: 0.9550\n",
            "Epoch 15/20\n",
            "469/469 [==============================] - 2s 4ms/step - loss: 0.1076 - accuracy: 0.9681 - val_loss: 0.1596 - val_accuracy: 0.9520\n",
            "Epoch 16/20\n",
            "469/469 [==============================] - 2s 5ms/step - loss: 0.1032 - accuracy: 0.9689 - val_loss: 0.1510 - val_accuracy: 0.9552\n",
            "Epoch 17/20\n",
            "469/469 [==============================] - 2s 4ms/step - loss: 0.0994 - accuracy: 0.9709 - val_loss: 0.1511 - val_accuracy: 0.9569\n",
            "Epoch 18/20\n",
            "469/469 [==============================] - 2s 4ms/step - loss: 0.0949 - accuracy: 0.9715 - val_loss: 0.1496 - val_accuracy: 0.9574\n",
            "Epoch 19/20\n",
            "469/469 [==============================] - 2s 4ms/step - loss: 0.0920 - accuracy: 0.9725 - val_loss: 0.1515 - val_accuracy: 0.9576\n",
            "Epoch 20/20\n",
            "469/469 [==============================] - 2s 4ms/step - loss: 0.0890 - accuracy: 0.9734 - val_loss: 0.1505 - val_accuracy: 0.9573\n"
          ]
        },
        {
          "output_type": "stream",
          "name": "stderr",
          "text": [
            "\u001b[32m[I 2023-04-08 05:29:32,951]\u001b[0m Trial 1 finished with value: 0.9573000073432922 and parameters: {'n_layers': 3, 'n_units_l0': 31, 'n_units_l1': 6, 'n_units_l2': 35, 'learning_rate': 0.0006114924629574203}. Best is trial 1 with value: 0.9573000073432922.\u001b[0m\n"
          ]
        },
        {
          "output_type": "stream",
          "name": "stdout",
          "text": [
            "Epoch 1/20\n",
            "469/469 [==============================] - 4s 4ms/step - loss: 0.2513 - accuracy: 0.9226 - val_loss: 0.1326 - val_accuracy: 0.9588\n",
            "Epoch 2/20\n",
            "469/469 [==============================] - 2s 4ms/step - loss: 0.1287 - accuracy: 0.9609 - val_loss: 0.1243 - val_accuracy: 0.9626\n",
            "Epoch 3/20\n",
            "469/469 [==============================] - 2s 4ms/step - loss: 0.1039 - accuracy: 0.9690 - val_loss: 0.1112 - val_accuracy: 0.9670\n",
            "Epoch 4/20\n",
            "469/469 [==============================] - 2s 4ms/step - loss: 0.0874 - accuracy: 0.9740 - val_loss: 0.1080 - val_accuracy: 0.9692\n",
            "Epoch 5/20\n",
            "469/469 [==============================] - 2s 4ms/step - loss: 0.0805 - accuracy: 0.9762 - val_loss: 0.1095 - val_accuracy: 0.9716\n",
            "Epoch 6/20\n",
            "469/469 [==============================] - 2s 5ms/step - loss: 0.0700 - accuracy: 0.9788 - val_loss: 0.1176 - val_accuracy: 0.9697\n",
            "Epoch 7/20\n",
            "469/469 [==============================] - 2s 4ms/step - loss: 0.0646 - accuracy: 0.9810 - val_loss: 0.1613 - val_accuracy: 0.9653\n",
            "Epoch 8/20\n",
            "469/469 [==============================] - 2s 4ms/step - loss: 0.0605 - accuracy: 0.9824 - val_loss: 0.1318 - val_accuracy: 0.9682\n",
            "Epoch 9/20\n",
            "469/469 [==============================] - 2s 4ms/step - loss: 0.0631 - accuracy: 0.9815 - val_loss: 0.1102 - val_accuracy: 0.9723\n",
            "Epoch 10/20\n",
            "469/469 [==============================] - 2s 4ms/step - loss: 0.0564 - accuracy: 0.9835 - val_loss: 0.1141 - val_accuracy: 0.9701\n",
            "Epoch 11/20\n",
            "469/469 [==============================] - 2s 4ms/step - loss: 0.0520 - accuracy: 0.9848 - val_loss: 0.1102 - val_accuracy: 0.9741\n",
            "Epoch 12/20\n",
            "469/469 [==============================] - 2s 5ms/step - loss: 0.0498 - accuracy: 0.9853 - val_loss: 0.1195 - val_accuracy: 0.9749\n",
            "Epoch 13/20\n",
            "469/469 [==============================] - 2s 5ms/step - loss: 0.0498 - accuracy: 0.9861 - val_loss: 0.1261 - val_accuracy: 0.9704\n",
            "Epoch 14/20\n",
            "469/469 [==============================] - 2s 4ms/step - loss: 0.0464 - accuracy: 0.9873 - val_loss: 0.1247 - val_accuracy: 0.9705\n",
            "Epoch 15/20\n",
            "469/469 [==============================] - 2s 4ms/step - loss: 0.0471 - accuracy: 0.9869 - val_loss: 0.1557 - val_accuracy: 0.9696\n",
            "Epoch 16/20\n",
            "469/469 [==============================] - 2s 4ms/step - loss: 0.0471 - accuracy: 0.9871 - val_loss: 0.1244 - val_accuracy: 0.9760\n",
            "Epoch 17/20\n",
            "469/469 [==============================] - 2s 4ms/step - loss: 0.0391 - accuracy: 0.9892 - val_loss: 0.1487 - val_accuracy: 0.9728\n",
            "Epoch 18/20\n",
            "469/469 [==============================] - 2s 4ms/step - loss: 0.0420 - accuracy: 0.9887 - val_loss: 0.1442 - val_accuracy: 0.9727\n",
            "Epoch 19/20\n",
            "469/469 [==============================] - 2s 5ms/step - loss: 0.0371 - accuracy: 0.9897 - val_loss: 0.1257 - val_accuracy: 0.9767\n",
            "Epoch 20/20\n",
            "469/469 [==============================] - 2s 4ms/step - loss: 0.0354 - accuracy: 0.9905 - val_loss: 0.1604 - val_accuracy: 0.9712\n"
          ]
        },
        {
          "output_type": "stream",
          "name": "stderr",
          "text": [
            "\u001b[32m[I 2023-04-08 05:30:13,903]\u001b[0m Trial 2 finished with value: 0.9711999893188477 and parameters: {'n_layers': 3, 'n_units_l0': 82, 'n_units_l1': 61, 'n_units_l2': 35, 'learning_rate': 0.008173462174048737}. Best is trial 2 with value: 0.9711999893188477.\u001b[0m\n"
          ]
        },
        {
          "output_type": "stream",
          "name": "stdout",
          "text": [
            "Epoch 1/20\n",
            "469/469 [==============================] - 3s 4ms/step - loss: 2.0629 - accuracy: 0.2434 - val_loss: 1.7758 - val_accuracy: 0.3964\n",
            "Epoch 2/20\n",
            "469/469 [==============================] - 2s 4ms/step - loss: 1.5538 - accuracy: 0.5022 - val_loss: 1.3405 - val_accuracy: 0.5944\n",
            "Epoch 3/20\n",
            "469/469 [==============================] - 2s 4ms/step - loss: 1.2079 - accuracy: 0.6296 - val_loss: 1.0687 - val_accuracy: 0.6808\n",
            "Epoch 4/20\n",
            "469/469 [==============================] - 2s 5ms/step - loss: 0.9932 - accuracy: 0.7057 - val_loss: 0.8945 - val_accuracy: 0.7471\n",
            "Epoch 5/20\n",
            "469/469 [==============================] - 2s 4ms/step - loss: 0.8479 - accuracy: 0.7578 - val_loss: 0.7725 - val_accuracy: 0.7893\n",
            "Epoch 6/20\n",
            "469/469 [==============================] - 2s 4ms/step - loss: 0.7455 - accuracy: 0.7913 - val_loss: 0.6867 - val_accuracy: 0.8088\n",
            "Epoch 7/20\n",
            "469/469 [==============================] - 2s 3ms/step - loss: 0.6711 - accuracy: 0.8124 - val_loss: 0.6240 - val_accuracy: 0.8292\n",
            "Epoch 8/20\n",
            "469/469 [==============================] - 2s 4ms/step - loss: 0.6149 - accuracy: 0.8306 - val_loss: 0.5764 - val_accuracy: 0.8438\n",
            "Epoch 9/20\n",
            "469/469 [==============================] - 2s 4ms/step - loss: 0.5707 - accuracy: 0.8430 - val_loss: 0.5381 - val_accuracy: 0.8553\n",
            "Epoch 10/20\n",
            "469/469 [==============================] - 2s 4ms/step - loss: 0.5348 - accuracy: 0.8533 - val_loss: 0.5078 - val_accuracy: 0.8637\n",
            "Epoch 11/20\n",
            "469/469 [==============================] - 2s 4ms/step - loss: 0.5052 - accuracy: 0.8621 - val_loss: 0.4816 - val_accuracy: 0.8702\n",
            "Epoch 12/20\n",
            "469/469 [==============================] - 2s 4ms/step - loss: 0.4803 - accuracy: 0.8691 - val_loss: 0.4600 - val_accuracy: 0.8762\n",
            "Epoch 13/20\n",
            "469/469 [==============================] - 2s 3ms/step - loss: 0.4590 - accuracy: 0.8751 - val_loss: 0.4415 - val_accuracy: 0.8803\n",
            "Epoch 14/20\n",
            "469/469 [==============================] - 2s 4ms/step - loss: 0.4408 - accuracy: 0.8791 - val_loss: 0.4256 - val_accuracy: 0.8853\n",
            "Epoch 15/20\n",
            "469/469 [==============================] - 2s 4ms/step - loss: 0.4253 - accuracy: 0.8831 - val_loss: 0.4116 - val_accuracy: 0.8894\n",
            "Epoch 16/20\n",
            "469/469 [==============================] - 2s 3ms/step - loss: 0.4115 - accuracy: 0.8867 - val_loss: 0.4002 - val_accuracy: 0.8925\n",
            "Epoch 17/20\n",
            "469/469 [==============================] - 2s 3ms/step - loss: 0.3995 - accuracy: 0.8902 - val_loss: 0.3903 - val_accuracy: 0.8941\n",
            "Epoch 18/20\n",
            "469/469 [==============================] - 2s 4ms/step - loss: 0.3889 - accuracy: 0.8928 - val_loss: 0.3806 - val_accuracy: 0.8960\n",
            "Epoch 19/20\n",
            "469/469 [==============================] - 2s 4ms/step - loss: 0.3793 - accuracy: 0.8949 - val_loss: 0.3724 - val_accuracy: 0.8984\n",
            "Epoch 20/20\n",
            "469/469 [==============================] - 2s 3ms/step - loss: 0.3707 - accuracy: 0.8969 - val_loss: 0.3652 - val_accuracy: 0.9006\n"
          ]
        },
        {
          "output_type": "stream",
          "name": "stderr",
          "text": [
            "\u001b[32m[I 2023-04-08 05:30:52,161]\u001b[0m Trial 3 finished with value: 0.900600016117096 and parameters: {'n_layers': 2, 'n_units_l0': 14, 'n_units_l1': 10, 'learning_rate': 6.186152422910828e-05}. Best is trial 2 with value: 0.9711999893188477.\u001b[0m\n"
          ]
        },
        {
          "output_type": "stream",
          "name": "stdout",
          "text": [
            "Epoch 1/20\n",
            "469/469 [==============================] - 3s 4ms/step - loss: 1.8272 - accuracy: 0.4756 - val_loss: 1.3645 - val_accuracy: 0.6859\n",
            "Epoch 2/20\n",
            "469/469 [==============================] - 2s 4ms/step - loss: 1.1159 - accuracy: 0.7290 - val_loss: 0.8982 - val_accuracy: 0.7766\n",
            "Epoch 3/20\n",
            "469/469 [==============================] - 2s 3ms/step - loss: 0.7696 - accuracy: 0.8167 - val_loss: 0.6359 - val_accuracy: 0.8521\n",
            "Epoch 4/20\n",
            "469/469 [==============================] - 2s 5ms/step - loss: 0.5788 - accuracy: 0.8634 - val_loss: 0.5054 - val_accuracy: 0.8756\n",
            "Epoch 5/20\n",
            "469/469 [==============================] - 2s 4ms/step - loss: 0.4844 - accuracy: 0.8782 - val_loss: 0.4364 - val_accuracy: 0.8901\n",
            "Epoch 6/20\n",
            "469/469 [==============================] - 2s 4ms/step - loss: 0.4266 - accuracy: 0.8886 - val_loss: 0.3929 - val_accuracy: 0.8968\n",
            "Epoch 7/20\n",
            "469/469 [==============================] - 2s 4ms/step - loss: 0.3901 - accuracy: 0.8952 - val_loss: 0.3644 - val_accuracy: 0.9019\n",
            "Epoch 8/20\n",
            "469/469 [==============================] - 2s 3ms/step - loss: 0.3646 - accuracy: 0.9010 - val_loss: 0.3434 - val_accuracy: 0.9076\n",
            "Epoch 9/20\n",
            "469/469 [==============================] - 2s 3ms/step - loss: 0.3454 - accuracy: 0.9055 - val_loss: 0.3277 - val_accuracy: 0.9106\n",
            "Epoch 10/20\n",
            "469/469 [==============================] - 2s 3ms/step - loss: 0.3305 - accuracy: 0.9096 - val_loss: 0.3157 - val_accuracy: 0.9128\n",
            "Epoch 11/20\n",
            "469/469 [==============================] - 2s 4ms/step - loss: 0.3183 - accuracy: 0.9127 - val_loss: 0.3064 - val_accuracy: 0.9162\n",
            "Epoch 12/20\n",
            "469/469 [==============================] - 2s 4ms/step - loss: 0.3080 - accuracy: 0.9151 - val_loss: 0.2973 - val_accuracy: 0.9174\n",
            "Epoch 13/20\n",
            "469/469 [==============================] - 2s 4ms/step - loss: 0.2992 - accuracy: 0.9175 - val_loss: 0.2905 - val_accuracy: 0.9203\n",
            "Epoch 14/20\n",
            "469/469 [==============================] - 2s 4ms/step - loss: 0.2916 - accuracy: 0.9196 - val_loss: 0.2839 - val_accuracy: 0.9215\n",
            "Epoch 15/20\n",
            "469/469 [==============================] - 2s 4ms/step - loss: 0.2850 - accuracy: 0.9207 - val_loss: 0.2787 - val_accuracy: 0.9230\n",
            "Epoch 16/20\n",
            "469/469 [==============================] - 2s 4ms/step - loss: 0.2790 - accuracy: 0.9230 - val_loss: 0.2739 - val_accuracy: 0.9238\n",
            "Epoch 17/20\n",
            "469/469 [==============================] - 2s 4ms/step - loss: 0.2736 - accuracy: 0.9241 - val_loss: 0.2698 - val_accuracy: 0.9254\n",
            "Epoch 18/20\n",
            "469/469 [==============================] - 2s 4ms/step - loss: 0.2688 - accuracy: 0.9251 - val_loss: 0.2663 - val_accuracy: 0.9265\n",
            "Epoch 19/20\n",
            "469/469 [==============================] - 2s 4ms/step - loss: 0.2643 - accuracy: 0.9268 - val_loss: 0.2633 - val_accuracy: 0.9261\n",
            "Epoch 20/20\n",
            "469/469 [==============================] - 2s 3ms/step - loss: 0.2602 - accuracy: 0.9279 - val_loss: 0.2609 - val_accuracy: 0.9272\n"
          ]
        },
        {
          "output_type": "stream",
          "name": "stderr",
          "text": [
            "\u001b[32m[I 2023-04-08 05:31:34,613]\u001b[0m Trial 4 finished with value: 0.9272000193595886 and parameters: {'n_layers': 1, 'n_units_l0': 14, 'learning_rate': 0.00010037919357555417}. Best is trial 2 with value: 0.9711999893188477.\u001b[0m\n"
          ]
        },
        {
          "output_type": "stream",
          "name": "stdout",
          "text": [
            "Number of finished trials: 5\n",
            "Best trial: {'n_layers': 3, 'n_units_l0': 82, 'n_units_l1': 61, 'n_units_l2': 35, 'learning_rate': 0.008173462174048737}\n",
            "Best accuracy: 0.9711999893188477\n"
          ]
        }
      ]
    },
    {
      "cell_type": "markdown",
      "source": [
        "### パラメータ重要度\n"
      ],
      "metadata": {
        "id": "oeZItU5HSluU"
      }
    },
    {
      "cell_type": "code",
      "source": [
        "import optuna.visualization as vis\n",
        "\n",
        "# パラメータの重要度をプロット\n",
        "vis.plot_param_importances(study)"
      ],
      "metadata": {
        "colab": {
          "base_uri": "https://localhost:8080/",
          "height": 542
        },
        "id": "xG9HWuQnSZqw",
        "outputId": "f6028633-d4f0-482a-cbab-7327f3fcc4e6"
      },
      "execution_count": null,
      "outputs": [
        {
          "output_type": "display_data",
          "data": {
            "text/html": [
              "<html>\n",
              "<head><meta charset=\"utf-8\" /></head>\n",
              "<body>\n",
              "    <div>            <script src=\"https://cdnjs.cloudflare.com/ajax/libs/mathjax/2.7.5/MathJax.js?config=TeX-AMS-MML_SVG\"></script><script type=\"text/javascript\">if (window.MathJax && window.MathJax.Hub && window.MathJax.Hub.Config) {window.MathJax.Hub.Config({SVG: {font: \"STIX-Web\"}});}</script>                <script type=\"text/javascript\">window.PlotlyConfig = {MathJaxConfig: 'local'};</script>\n",
              "        <script src=\"https://cdn.plot.ly/plotly-2.18.2.min.js\"></script>                <div id=\"b958c111-121d-4edf-bae0-c016fcf20b1c\" class=\"plotly-graph-div\" style=\"height:525px; width:100%;\"></div>            <script type=\"text/javascript\">                                    window.PLOTLYENV=window.PLOTLYENV || {};                                    if (document.getElementById(\"b958c111-121d-4edf-bae0-c016fcf20b1c\")) {                    Plotly.newPlot(                        \"b958c111-121d-4edf-bae0-c016fcf20b1c\",                        [{\"cliponaxis\":false,\"hovertemplate\":[\"learning_rate (FloatDistribution): 0.251000934922503<extra></extra>\",\"n_units_l0 (IntDistribution): 0.36071524928106496<extra></extra>\",\"n_layers (IntDistribution): 0.388283815796432<extra></extra>\"],\"marker\":{\"color\":\"rgb(66,146,198)\"},\"orientation\":\"h\",\"text\":[\"0.25\",\"0.36\",\"0.39\"],\"textposition\":\"outside\",\"x\":[0.251000934922503,0.36071524928106496,0.388283815796432],\"y\":[\"learning_rate\",\"n_units_l0\",\"n_layers\"],\"type\":\"bar\"}],                        {\"showlegend\":false,\"title\":{\"text\":\"Hyperparameter Importances\"},\"xaxis\":{\"title\":{\"text\":\"Importance for Objective Value\"}},\"yaxis\":{\"title\":{\"text\":\"Hyperparameter\"}},\"template\":{\"data\":{\"histogram2dcontour\":[{\"type\":\"histogram2dcontour\",\"colorbar\":{\"outlinewidth\":0,\"ticks\":\"\"},\"colorscale\":[[0.0,\"#0d0887\"],[0.1111111111111111,\"#46039f\"],[0.2222222222222222,\"#7201a8\"],[0.3333333333333333,\"#9c179e\"],[0.4444444444444444,\"#bd3786\"],[0.5555555555555556,\"#d8576b\"],[0.6666666666666666,\"#ed7953\"],[0.7777777777777778,\"#fb9f3a\"],[0.8888888888888888,\"#fdca26\"],[1.0,\"#f0f921\"]]}],\"choropleth\":[{\"type\":\"choropleth\",\"colorbar\":{\"outlinewidth\":0,\"ticks\":\"\"}}],\"histogram2d\":[{\"type\":\"histogram2d\",\"colorbar\":{\"outlinewidth\":0,\"ticks\":\"\"},\"colorscale\":[[0.0,\"#0d0887\"],[0.1111111111111111,\"#46039f\"],[0.2222222222222222,\"#7201a8\"],[0.3333333333333333,\"#9c179e\"],[0.4444444444444444,\"#bd3786\"],[0.5555555555555556,\"#d8576b\"],[0.6666666666666666,\"#ed7953\"],[0.7777777777777778,\"#fb9f3a\"],[0.8888888888888888,\"#fdca26\"],[1.0,\"#f0f921\"]]}],\"heatmap\":[{\"type\":\"heatmap\",\"colorbar\":{\"outlinewidth\":0,\"ticks\":\"\"},\"colorscale\":[[0.0,\"#0d0887\"],[0.1111111111111111,\"#46039f\"],[0.2222222222222222,\"#7201a8\"],[0.3333333333333333,\"#9c179e\"],[0.4444444444444444,\"#bd3786\"],[0.5555555555555556,\"#d8576b\"],[0.6666666666666666,\"#ed7953\"],[0.7777777777777778,\"#fb9f3a\"],[0.8888888888888888,\"#fdca26\"],[1.0,\"#f0f921\"]]}],\"heatmapgl\":[{\"type\":\"heatmapgl\",\"colorbar\":{\"outlinewidth\":0,\"ticks\":\"\"},\"colorscale\":[[0.0,\"#0d0887\"],[0.1111111111111111,\"#46039f\"],[0.2222222222222222,\"#7201a8\"],[0.3333333333333333,\"#9c179e\"],[0.4444444444444444,\"#bd3786\"],[0.5555555555555556,\"#d8576b\"],[0.6666666666666666,\"#ed7953\"],[0.7777777777777778,\"#fb9f3a\"],[0.8888888888888888,\"#fdca26\"],[1.0,\"#f0f921\"]]}],\"contourcarpet\":[{\"type\":\"contourcarpet\",\"colorbar\":{\"outlinewidth\":0,\"ticks\":\"\"}}],\"contour\":[{\"type\":\"contour\",\"colorbar\":{\"outlinewidth\":0,\"ticks\":\"\"},\"colorscale\":[[0.0,\"#0d0887\"],[0.1111111111111111,\"#46039f\"],[0.2222222222222222,\"#7201a8\"],[0.3333333333333333,\"#9c179e\"],[0.4444444444444444,\"#bd3786\"],[0.5555555555555556,\"#d8576b\"],[0.6666666666666666,\"#ed7953\"],[0.7777777777777778,\"#fb9f3a\"],[0.8888888888888888,\"#fdca26\"],[1.0,\"#f0f921\"]]}],\"surface\":[{\"type\":\"surface\",\"colorbar\":{\"outlinewidth\":0,\"ticks\":\"\"},\"colorscale\":[[0.0,\"#0d0887\"],[0.1111111111111111,\"#46039f\"],[0.2222222222222222,\"#7201a8\"],[0.3333333333333333,\"#9c179e\"],[0.4444444444444444,\"#bd3786\"],[0.5555555555555556,\"#d8576b\"],[0.6666666666666666,\"#ed7953\"],[0.7777777777777778,\"#fb9f3a\"],[0.8888888888888888,\"#fdca26\"],[1.0,\"#f0f921\"]]}],\"mesh3d\":[{\"type\":\"mesh3d\",\"colorbar\":{\"outlinewidth\":0,\"ticks\":\"\"}}],\"scatter\":[{\"fillpattern\":{\"fillmode\":\"overlay\",\"size\":10,\"solidity\":0.2},\"type\":\"scatter\"}],\"parcoords\":[{\"type\":\"parcoords\",\"line\":{\"colorbar\":{\"outlinewidth\":0,\"ticks\":\"\"}}}],\"scatterpolargl\":[{\"type\":\"scatterpolargl\",\"marker\":{\"colorbar\":{\"outlinewidth\":0,\"ticks\":\"\"}}}],\"bar\":[{\"error_x\":{\"color\":\"#2a3f5f\"},\"error_y\":{\"color\":\"#2a3f5f\"},\"marker\":{\"line\":{\"color\":\"#E5ECF6\",\"width\":0.5},\"pattern\":{\"fillmode\":\"overlay\",\"size\":10,\"solidity\":0.2}},\"type\":\"bar\"}],\"scattergeo\":[{\"type\":\"scattergeo\",\"marker\":{\"colorbar\":{\"outlinewidth\":0,\"ticks\":\"\"}}}],\"scatterpolar\":[{\"type\":\"scatterpolar\",\"marker\":{\"colorbar\":{\"outlinewidth\":0,\"ticks\":\"\"}}}],\"histogram\":[{\"marker\":{\"pattern\":{\"fillmode\":\"overlay\",\"size\":10,\"solidity\":0.2}},\"type\":\"histogram\"}],\"scattergl\":[{\"type\":\"scattergl\",\"marker\":{\"colorbar\":{\"outlinewidth\":0,\"ticks\":\"\"}}}],\"scatter3d\":[{\"type\":\"scatter3d\",\"line\":{\"colorbar\":{\"outlinewidth\":0,\"ticks\":\"\"}},\"marker\":{\"colorbar\":{\"outlinewidth\":0,\"ticks\":\"\"}}}],\"scattermapbox\":[{\"type\":\"scattermapbox\",\"marker\":{\"colorbar\":{\"outlinewidth\":0,\"ticks\":\"\"}}}],\"scatterternary\":[{\"type\":\"scatterternary\",\"marker\":{\"colorbar\":{\"outlinewidth\":0,\"ticks\":\"\"}}}],\"scattercarpet\":[{\"type\":\"scattercarpet\",\"marker\":{\"colorbar\":{\"outlinewidth\":0,\"ticks\":\"\"}}}],\"carpet\":[{\"aaxis\":{\"endlinecolor\":\"#2a3f5f\",\"gridcolor\":\"white\",\"linecolor\":\"white\",\"minorgridcolor\":\"white\",\"startlinecolor\":\"#2a3f5f\"},\"baxis\":{\"endlinecolor\":\"#2a3f5f\",\"gridcolor\":\"white\",\"linecolor\":\"white\",\"minorgridcolor\":\"white\",\"startlinecolor\":\"#2a3f5f\"},\"type\":\"carpet\"}],\"table\":[{\"cells\":{\"fill\":{\"color\":\"#EBF0F8\"},\"line\":{\"color\":\"white\"}},\"header\":{\"fill\":{\"color\":\"#C8D4E3\"},\"line\":{\"color\":\"white\"}},\"type\":\"table\"}],\"barpolar\":[{\"marker\":{\"line\":{\"color\":\"#E5ECF6\",\"width\":0.5},\"pattern\":{\"fillmode\":\"overlay\",\"size\":10,\"solidity\":0.2}},\"type\":\"barpolar\"}],\"pie\":[{\"automargin\":true,\"type\":\"pie\"}]},\"layout\":{\"autotypenumbers\":\"strict\",\"colorway\":[\"#636efa\",\"#EF553B\",\"#00cc96\",\"#ab63fa\",\"#FFA15A\",\"#19d3f3\",\"#FF6692\",\"#B6E880\",\"#FF97FF\",\"#FECB52\"],\"font\":{\"color\":\"#2a3f5f\"},\"hovermode\":\"closest\",\"hoverlabel\":{\"align\":\"left\"},\"paper_bgcolor\":\"white\",\"plot_bgcolor\":\"#E5ECF6\",\"polar\":{\"bgcolor\":\"#E5ECF6\",\"angularaxis\":{\"gridcolor\":\"white\",\"linecolor\":\"white\",\"ticks\":\"\"},\"radialaxis\":{\"gridcolor\":\"white\",\"linecolor\":\"white\",\"ticks\":\"\"}},\"ternary\":{\"bgcolor\":\"#E5ECF6\",\"aaxis\":{\"gridcolor\":\"white\",\"linecolor\":\"white\",\"ticks\":\"\"},\"baxis\":{\"gridcolor\":\"white\",\"linecolor\":\"white\",\"ticks\":\"\"},\"caxis\":{\"gridcolor\":\"white\",\"linecolor\":\"white\",\"ticks\":\"\"}},\"coloraxis\":{\"colorbar\":{\"outlinewidth\":0,\"ticks\":\"\"}},\"colorscale\":{\"sequential\":[[0.0,\"#0d0887\"],[0.1111111111111111,\"#46039f\"],[0.2222222222222222,\"#7201a8\"],[0.3333333333333333,\"#9c179e\"],[0.4444444444444444,\"#bd3786\"],[0.5555555555555556,\"#d8576b\"],[0.6666666666666666,\"#ed7953\"],[0.7777777777777778,\"#fb9f3a\"],[0.8888888888888888,\"#fdca26\"],[1.0,\"#f0f921\"]],\"sequentialminus\":[[0.0,\"#0d0887\"],[0.1111111111111111,\"#46039f\"],[0.2222222222222222,\"#7201a8\"],[0.3333333333333333,\"#9c179e\"],[0.4444444444444444,\"#bd3786\"],[0.5555555555555556,\"#d8576b\"],[0.6666666666666666,\"#ed7953\"],[0.7777777777777778,\"#fb9f3a\"],[0.8888888888888888,\"#fdca26\"],[1.0,\"#f0f921\"]],\"diverging\":[[0,\"#8e0152\"],[0.1,\"#c51b7d\"],[0.2,\"#de77ae\"],[0.3,\"#f1b6da\"],[0.4,\"#fde0ef\"],[0.5,\"#f7f7f7\"],[0.6,\"#e6f5d0\"],[0.7,\"#b8e186\"],[0.8,\"#7fbc41\"],[0.9,\"#4d9221\"],[1,\"#276419\"]]},\"xaxis\":{\"gridcolor\":\"white\",\"linecolor\":\"white\",\"ticks\":\"\",\"title\":{\"standoff\":15},\"zerolinecolor\":\"white\",\"automargin\":true,\"zerolinewidth\":2},\"yaxis\":{\"gridcolor\":\"white\",\"linecolor\":\"white\",\"ticks\":\"\",\"title\":{\"standoff\":15},\"zerolinecolor\":\"white\",\"automargin\":true,\"zerolinewidth\":2},\"scene\":{\"xaxis\":{\"backgroundcolor\":\"#E5ECF6\",\"gridcolor\":\"white\",\"linecolor\":\"white\",\"showbackground\":true,\"ticks\":\"\",\"zerolinecolor\":\"white\",\"gridwidth\":2},\"yaxis\":{\"backgroundcolor\":\"#E5ECF6\",\"gridcolor\":\"white\",\"linecolor\":\"white\",\"showbackground\":true,\"ticks\":\"\",\"zerolinecolor\":\"white\",\"gridwidth\":2},\"zaxis\":{\"backgroundcolor\":\"#E5ECF6\",\"gridcolor\":\"white\",\"linecolor\":\"white\",\"showbackground\":true,\"ticks\":\"\",\"zerolinecolor\":\"white\",\"gridwidth\":2}},\"shapedefaults\":{\"line\":{\"color\":\"#2a3f5f\"}},\"annotationdefaults\":{\"arrowcolor\":\"#2a3f5f\",\"arrowhead\":0,\"arrowwidth\":1},\"geo\":{\"bgcolor\":\"white\",\"landcolor\":\"#E5ECF6\",\"subunitcolor\":\"white\",\"showland\":true,\"showlakes\":true,\"lakecolor\":\"white\"},\"title\":{\"x\":0.05},\"mapbox\":{\"style\":\"light\"}}}},                        {\"responsive\": true}                    ).then(function(){\n",
              "                            \n",
              "var gd = document.getElementById('b958c111-121d-4edf-bae0-c016fcf20b1c');\n",
              "var x = new MutationObserver(function (mutations, observer) {{\n",
              "        var display = window.getComputedStyle(gd).display;\n",
              "        if (!display || display === 'none') {{\n",
              "            console.log([gd, 'removed!']);\n",
              "            Plotly.purge(gd);\n",
              "            observer.disconnect();\n",
              "        }}\n",
              "}});\n",
              "\n",
              "// Listen for the removal of the full notebook cells\n",
              "var notebookContainer = gd.closest('#notebook-container');\n",
              "if (notebookContainer) {{\n",
              "    x.observe(notebookContainer, {childList: true});\n",
              "}}\n",
              "\n",
              "// Listen for the clearing of the current output cell\n",
              "var outputEl = gd.closest('.output');\n",
              "if (outputEl) {{\n",
              "    x.observe(outputEl, {childList: true});\n",
              "}}\n",
              "\n",
              "                        })                };                            </script>        </div>\n",
              "</body>\n",
              "</html>"
            ]
          },
          "metadata": {}
        }
      ]
    }
  ]
}