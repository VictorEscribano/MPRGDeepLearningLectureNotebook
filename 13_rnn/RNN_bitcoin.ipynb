{
  "nbformat": 4,
  "nbformat_minor": 0,
  "metadata": {
    "colab": {
      "provenance": [],
      "collapsed_sections": [
        "x4JW_4aX8HCw"
      ],
      "include_colab_link": true
    },
    "kernelspec": {
      "name": "python3",
      "display_name": "Python 3"
    },
    "language_info": {
      "name": "python"
    },
    "accelerator": "GPU",
    "gpuClass": "standard"
  },
  "cells": [
    {
      "cell_type": "markdown",
      "metadata": {
        "id": "view-in-github",
        "colab_type": "text"
      },
      "source": [
        "<a href=\"https://colab.research.google.com/github/machine-perception-robotics-group/MPRGDeepLearningLectureNotebook/blob/master/13_rnn/RNN_bitcoin.ipynb\" target=\"_parent\"><img src=\"https://colab.research.google.com/assets/colab-badge.svg\" alt=\"Open In Colab\"/></a>"
      ]
    },
    {
      "cell_type": "markdown",
      "source": [
        "# Recurrent Neural NetworkによるBitcoinの価格予測\n",
        "\n",
        "---\n",
        "## 目的\n",
        "Recurrent Neural Networkを使ってBitcoinの価格予測を行う．\n",
        "ここで，今回はRecurrent Neural Networkの一種である，Long Short Term Memory（LSTM）を使用する．\n",
        "また，PyTorchで使用されるデータセットオブジェクトの作成を行う．\n",
        "\n",
        "## リカレントニューラルネットワーク\n",
        "リカレントニューラルネットワークは，系列データを扱うことができるネットワークです．\n",
        "例えば，「今日は良い天気です」という文章において，「今日は」，「良い」という時系列データを与えると，次に現れる単語として「天気」を予測するという問題です．\n",
        "リカレントニューラルネットワークを利用することで，過去の系列情報から文脈の流れを考慮した予測ができるようになります．\n",
        "応用例として，30分後の電力を予測する，翌日の株価を予測するなどの予測モデル，音声認識や機械翻訳などがあります．\n",
        "\n",
        "## リカレントニューラルネットワークの種類\n",
        "リカレントニューラルネットワークにはいくつかの種類があります．\n",
        "\n",
        "* Elman Network：一般的なリカレントニューラルネットワーク．１時刻前の情報を内部状態として，現時刻の入力と合わせて中間層に与える\n",
        "<img src=\"https://github.com/himidev/Lecture/blob/main/13_rnn/01_03_RNN/RNN.png?raw=true\" width = 500>\n",
        "* Jordan Network：１時刻前の出力層の情報を現時刻の入力と合わせて中間層に与える\n",
        "* Echo state network (ESN)：一部の重みを乱数で初期化し，更新しない．中間層内のユニットは相互結合する\n",
        "* Long Short-Term Memory (LSTM)：内部情報を記憶するメモリセルを持ち，複数のゲートによってメモリセルの情報を書き換えたり出力したりする\n",
        "<img src=\"https://github.com/himidev/Lecture/blob/main/13_rnn/01_03_RNN/LSTM.png?raw=true\" width = 500>\n",
        "* Gated Recurrent Unit (GRU)：内部情報の保持方法をLSTMよりもシンプルな構造にしたリカレントニューラルネットワーク\n",
        "<img src=\"https://github.com/himidev/Lecture/blob/main/13_rnn/01_03_RNN/GRU.png?raw=true\" width = 500>\n",
        "* Bidirectional RNN：過去の情報だけでなく，未来の情報も利用する双方向のリカレントニューラルネットワーク\n",
        "\n",
        "## リカレントニューラルネットワークの学習\n",
        "リカレントニューラルネットワークは，時系列データを逐次与えます．\n",
        "この流れを展開するとニューラルネットワークを時間方向につなげた大きなネットワークとみなすことができます．\n",
        "そのため，リカレントニューラルネットワークの学習にもニューラルネットワークと同様に誤差逆伝播法を用いることができます．\n",
        "リカレントニューラルネットワークでの誤差逆伝播法は， Back-propagation through time (BPTT)法と呼ばれています．\n",
        "\n",
        "まず，図の黒矢印に従い，系列データを時刻$t=0$から順伝播します．\n",
        "ネットワークは時刻ごとに別々にあるのではなく，１つのネットワークに対して逐次データを入力します．\n",
        "その時，各時刻における各層の値は変わっていくので，それらを記憶しておきます．\n",
        "また，順伝播時に各時刻における誤差を算出しておきます．\n",
        "\n",
        "時刻$t=T$まで系列データの順伝播が終わると学習開始となります．\n",
        "学習は誤差逆伝播法と同様に，BPTTでも誤差の勾配を求めて結合重みを更新します．\n",
        "その際，時刻をさかのぼるように，時刻$t=T$の出力層から始めます．\n",
        "学習では，以下の3箇所の結合重みを順番に更新します．\n",
        "* 時刻tの出力層から時刻tの中間層間の結合重み\n",
        "* 時刻tの中間層から時刻t-1の中間層間の結合重み\n",
        "* 時刻tの中間層から時刻tの入力層間の結合重み\n",
        "\n",
        "<img src=\"https://github.com/himidev/Lecture/blob/main/13_rnn/01_03_RNN/back.png?raw=true\" width = 500>"
      ],
      "metadata": {
        "id": "ytLcaBPdOFqA"
      }
    },
    {
      "cell_type": "markdown",
      "source": [
        "## 0. データのダウンロード\n",
        "\n",
        "プログラムに必要なデータをダウンロードします．\n",
        "\n",
        "今回使用するデータは，Kaggleで公開されているBitcoinの価格を予測するデータセットです．\n",
        "\n",
        "https://www.kaggle.com/datasets/team-ai/bitcoin-price-prediction\n",
        "\n",
        "**今回使用するデータは，CSVファイルなどのテキストファイルで整理・保存されたデータを扱うための練習として採用しました．実際の現場などでは，センサーの数値データなどをCSVファイルに保存しておき，その数値データをもとに学習するような状況を想定しています．**\n",
        "\n",
        "\n",
        "\n"
      ],
      "metadata": {
        "id": "kKesHBMzJt9z"
      }
    },
    {
      "cell_type": "code",
      "source": [
        "import gdown\n",
        "gdown.download('https://drive.google.com/uc?id=1_Gdneij6TP6CK_HCommCtbaitVfoY-fN', 'BitcoinPricePrediction.zip', quiet=False)\n",
        "!unzip -q -o BitcoinPricePrediction.zip"
      ],
      "metadata": {
        "id": "5nzh5O2NJuU6"
      },
      "execution_count": null,
      "outputs": []
    },
    {
      "cell_type": "markdown",
      "source": [
        "ここで，一度データセットを確認してみましょう．\n",
        "\n",
        "データ（フォルダ）を確認すると，BitcoinPricePredictionフォルダの中にTraining.csvとTest.csvという二つのCSVファイルが保存されています．\n",
        "\n",
        "![BitcoinDataDir.png](https://qiita-image-store.s3.ap-northeast-1.amazonaws.com/0/143078/e81aa369-427e-fe22-03cf-03cd82c917ce.png)\n",
        "\n",
        "### CSVファイルの中身\n",
        "\n",
        "それぞれの中身を見ると，\n",
        "* Date: 日付\n",
        "* Open: 始値\n",
        "* High: 最高値\n",
        "* Low: 最安値\n",
        "* Close: 終値\n",
        "* Volume: 取引ボリューム（取引数量）\n",
        "* Market Cap: 時価総額\n",
        "という列があり，それぞれの日付で値を持っていることがわかります．\n",
        "\n",
        "また，Dateの値を確認すると，新 --> 古の順番に日付が並んでいることがわかります．\n",
        "\n",
        "今回は，「Open, High, Low, Close」の値から翌日の「High, Low」を予測する再帰型ニューラルネットワークを構築して学習してみましょう．"
      ],
      "metadata": {
        "id": "x4JW_4aX8HCw"
      }
    },
    {
      "cell_type": "markdown",
      "source": [
        "## 1. モジュールのインポート部分\n",
        "\n",
        "はじめに必要なモジュールをインポートする．"
      ],
      "metadata": {
        "id": "xWEBw90-JicW"
      }
    },
    {
      "cell_type": "code",
      "source": [
        "import os\n",
        "import glob\n",
        "import torch\n",
        "import torch.nn as nn\n",
        "from torch.utils.data import Dataset\n",
        "import csv\n",
        "\n",
        "import matplotlib.pyplot as plt"
      ],
      "metadata": {
        "id": "075YmbGiJcaG"
      },
      "execution_count": null,
      "outputs": []
    },
    {
      "cell_type": "markdown",
      "source": [
        "## 2. データセットクラスの作成\n",
        "\n",
        "ここでは，ダウンロードしたCSVファイルの形式に合わせて，PyTorchのデータセットクラスを自作します．"
      ],
      "metadata": {
        "id": "yq8IOuQh_zUq"
      }
    },
    {
      "cell_type": "code",
      "source": [
        "class BitcoinPriceDataset(Dataset):\n",
        "\n",
        "  def __init__(self, csv_file_path, time_window=10, max_price=None):\n",
        "    super().__init__()\n",
        "\n",
        "    self.csv_file_path = csv_file_path\n",
        "    self.time_window = time_window\n",
        "\n",
        "    ### csvファイルの読み込み\n",
        "    with open(self.csv_file_path, 'r') as file:\n",
        "      reader = csv.reader(file)\n",
        "\n",
        "      ### 1行ずつデータをリストへ追加\n",
        "      csv_data_source = []\n",
        "      for row in reader:\n",
        "        csv_data_source.append(row)\n",
        "\n",
        "    ### ヘッダー行の保存（使用しないかもしれません）\n",
        "    self.header = csv_data_source[0]\n",
        "    ### データ行の保存（ヘッダ以外の行を保存）\n",
        "    self.csv_data = csv_data_source[1:]\n",
        "\n",
        "    ### 総データ数の保存\n",
        "    self.num_data = len(self.csv_data)\n",
        "\n",
        "    ### 日付データの保存（使用しないかもしれません）\n",
        "    self.date = []\n",
        "    for row in self.csv_data:\n",
        "      self.date.append(row[0])\n",
        "\n",
        "    ### 数値データの保存\n",
        "    self.bitcoin_data = torch.zeros([self.num_data, 4], dtype=torch.float32)\n",
        "    for i, row in enumerate(self.csv_data):\n",
        "      self.bitcoin_data[i, 0] = float(row[1])\n",
        "      self.bitcoin_data[i, 1] = float(row[2])\n",
        "      self.bitcoin_data[i, 2] = float(row[3])\n",
        "      self.bitcoin_data[i, 3] = float(row[4])\n",
        "\n",
        "    ### データの順番を入れ替え（新~旧 --> 旧~新）\n",
        "    self.date.reverse()\n",
        "    self.bitcoin_data = torch.flipud(self.bitcoin_data)\n",
        "\n",
        "    ### 最大の価格値\n",
        "    if max_price is None:\n",
        "      self.max_price = torch.max(self.bitcoin_data)\n",
        "    else:\n",
        "      self.max_price = max_price\n",
        "\n",
        "    ### 数値データの正規化（0.0 ~ 1.0）\n",
        "    self.bitcoin_data /= self.max_price\n",
        "\n",
        "  def __getitem__(self, item):\n",
        "\n",
        "    input = self.bitcoin_data[item:item+self.time_window, :]\n",
        "    output = self.bitcoin_data[item+1:item+self.time_window+1, 1:3]\n",
        "\n",
        "    return input, output\n",
        "\n",
        "  def __len__(self):\n",
        "    return self.num_data - self.time_window"
      ],
      "metadata": {
        "id": "AOXPmET4OJzI"
      },
      "execution_count": null,
      "outputs": []
    },
    {
      "cell_type": "markdown",
      "source": [
        "## 3. ネットワークモデルの定義\n",
        "\n",
        "続いてネットワークを定義します．\n",
        "\n",
        "今回は再帰型ニューラルネットワークを定義します．\n",
        "\n",
        "\n",
        "\n",
        "\n",
        "この時，各レイヤーのクラスの詳細などを調べたい場合は，PyTorchのReferenceを参照しつつ実装します．\n",
        "\n",
        "[PyTorch reference mannual](https://pytorch.org/docs/stable/index.html)\n",
        "\n"
      ],
      "metadata": {
        "id": "VNnLRYwcAHWF"
      }
    },
    {
      "cell_type": "code",
      "source": [
        "class MyLSTM(nn.Module):\n",
        "\n",
        "  ### ネットワーク構造\n",
        "  # RNN (LSTM) --> 全結合層 --> 予測結果\n",
        "\n",
        "  def __init__(self, in_size=4, out_size=2, hidden_size=32):\n",
        "    super().__init__()\n",
        "\n",
        "    ### RNN (LSTM) 層の定義\n",
        "    self.recurrent = nn.LSTMCell(input_size=in_size, hidden_size=hidden_size)\n",
        "\n",
        "    ### 全結合層の定義\n",
        "    self.fc = nn.Linear(in_features=hidden_size, out_features=out_size)\n",
        "\n",
        "  def forward(self, x, hx, cx):\n",
        "    hx, cx = self.recurrent(x, (hx, cx))\n",
        "    h = self.fc(hx)\n",
        "    return h, hx, cx"
      ],
      "metadata": {
        "id": "xckFUDDfAHqf"
      },
      "execution_count": null,
      "outputs": []
    },
    {
      "cell_type": "markdown",
      "source": [
        "## 4. 学習の準備\n",
        "\n",
        "ここでは，学習に必要な\n",
        "\n",
        "* ネットワークモデル\n",
        "* 誤差関数\n",
        "* 最適化手法\n",
        "* データセット\n",
        "\n",
        "の定義を行います．\n",
        "\n",
        "最適化関数などもReference mannualを参照しつつ好きなものを選択記述しましょう．\n",
        "\n",
        "**DataLoaderのnum_workersについて**\n",
        "\n",
        "`torch.utils.data.DataLoader`の引数である`num_workers`は，データを読み込んで準備する処理を並列処理するための引数です．例えば，`num_workers=10`とした場合には，10並列でデータの読込処理 (データセットクラスの`__getitem__()`) を10並列で実行してくれます．そのため，使用する計算機のCPU性能に合わせて，ある程度大きな数を指定しておくとデータの読込処理が早くなり，学習の高速化が期待できます．"
      ],
      "metadata": {
        "id": "PZMRwwqnMD98"
      }
    },
    {
      "cell_type": "code",
      "source": [
        "### GPUが使えるかどうか\n",
        "use_cuda = torch.cuda.is_available()\n",
        "print(\"Use CUDA:\", use_cuda)\n",
        "\n",
        "### ネットワークモデル\n",
        "n_hidden = 32\n",
        "model = MyLSTM(in_size=4, out_size=2, hidden_size=n_hidden)\n",
        "if use_cuda:\n",
        "  model = model.cuda()\n",
        "\n",
        "### 誤差関数\n",
        "criterion = nn.MSELoss()\n",
        "if use_cuda:\n",
        "  criterion = criterion.cuda()\n",
        "\n",
        "### 最適化関数\n",
        "optimizer = torch.optim.SGD(model.parameters(), lr=0.01, momentum=0.9)\n",
        "\n",
        "### データセットクラス\n",
        "time_window = 10\n",
        "train_dataset = BitcoinPriceDataset(csv_file_path=\"BitcoinPricePrediction/Training.csv\", time_window=time_window, max_price=None)\n",
        "train_loader = torch.utils.data.DataLoader(train_dataset, batch_size=32, shuffle=True, num_workers=2)\n",
        "\n",
        "### 学習データ内の最大の価格の値を保存 (後程テストに使用します)\n",
        "train_max_price = train_dataset.max_price"
      ],
      "metadata": {
        "id": "A3Raanc1MECT"
      },
      "execution_count": null,
      "outputs": []
    },
    {
      "cell_type": "markdown",
      "source": [
        " ## 5. 学習の開始\n",
        "\n",
        " 上で定義したモデルや最適化手法，データセットを用いて学習を行います．"
      ],
      "metadata": {
        "id": "TBIF0A-pOQVa"
      }
    },
    {
      "cell_type": "code",
      "source": [
        "### Epoch数などの指定\n",
        "num_epochs = 20\n",
        "\n",
        "### ネットワークを学習モードへ変更\n",
        "model.train()\n",
        "\n",
        "### 学習経過を保存するためのリストを用意\n",
        "loss_list = []\n",
        "\n",
        "### 学習ループ (for文)\n",
        "print(\"training; start ---------------------\")\n",
        "for epoch in range(1, num_epochs+1):\n",
        "  print(\"Epoch:\", epoch)\n",
        "\n",
        "  # 1 epochごとの学習経過を計算するための変数を用意\n",
        "  loss_sum = 0.0\n",
        "\n",
        "  for input, label in train_loader:\n",
        "    # 隠れ状態，セル状態の変数の初期化\n",
        "    hx = torch.zeros(input.size(0), n_hidden)\n",
        "    cx = torch.zeros(input.size(0), n_hidden)\n",
        "\n",
        "    if use_cuda:\n",
        "      input = input.cuda()\n",
        "      label = label.cuda()\n",
        "      hx = hx.cuda()\n",
        "      cx = cx.cuda()\n",
        "\n",
        "    loss = 0.0\n",
        "    for time_index in range(input.size(1)):\n",
        "      y, hx, cx = model(input[:, time_index, :], hx, cx)\n",
        "      loss += criterion(y, label[:, time_index, :])\n",
        "\n",
        "    optimizer.zero_grad()\n",
        "    loss.backward()\n",
        "    optimizer.step()\n",
        "\n",
        "    # lossを加算（学習経過確認用）\n",
        "    loss_sum += loss.item()\n",
        "\n",
        "  ### epochが終了したタイミングでそのエポックの平均誤差を表示（1 epoch内のiterationとtime_windowで割った値）\n",
        "  print(\"  Loss:\", loss_sum / len(train_loader) / time_window)\n",
        "\n",
        "  ### 上で表示した数値をリストへ保存\n",
        "  loss_list.append(loss_sum / len(train_loader) / time_window)\n",
        "\n",
        "print(\"training; done ----------------------\")"
      ],
      "metadata": {
        "id": "EvDtp0IMOXxW"
      },
      "execution_count": null,
      "outputs": []
    },
    {
      "cell_type": "markdown",
      "source": [
        "## 6. 評価\n",
        "\n",
        "学習したモデルを用いて評価を行います．"
      ],
      "metadata": {
        "id": "jVEIPd1nQwYp"
      }
    },
    {
      "cell_type": "markdown",
      "source": [
        "### モデルの読み込み\n",
        "\n",
        "学習中に保存したモデルを読み込みます．"
      ],
      "metadata": {
        "id": "8yibf2JTzQEq"
      }
    },
    {
      "cell_type": "code",
      "source": [
        "### ネットワークモデルの定義（この時点ではパラメータはランダム）\n",
        "model = MyLSTM(in_size=4, out_size=2, hidden_size=n_hidden)\n",
        "if use_cuda:\n",
        "  model = model.cuda()\n",
        "\n",
        "### 学習したモデルパラメータの読み込み\n",
        "trained_parameter = torch.load(\"checkpoint-0020.pt\")\n",
        "model.load_state_dict(trained_parameter)"
      ],
      "metadata": {
        "id": "hHe64HdLQwcT"
      },
      "execution_count": null,
      "outputs": []
    },
    {
      "cell_type": "markdown",
      "source": [
        "### 推論と結果の表示\n",
        "\n",
        "読み込んだ学習済みモデルを用いて予測を行います．\n",
        "\n",
        "今回のネットワークは，数値データ（価格）の予測値を出力するモデルのため，誤差ではなく，その予測値をリストに保存して，後程グラフ表示をして結果を確認します．\n",
        "\n",
        "\n",
        "**学習データに対する予測**\n",
        "\n",
        "まずは，学習に使用したデータでどの程度予測できるかを確認します．"
      ],
      "metadata": {
        "id": "zj9cLdAirsnW"
      }
    },
    {
      "cell_type": "code",
      "source": [
        "pred = []\n",
        "true = []\n",
        "\n",
        "train_dataset_eval = BitcoinPriceDataset(csv_file_path=\"BitcoinPricePrediction/Training.csv\", time_window=1, max_price=train_max_price)\n",
        "train_loader_eval = torch.utils.data.DataLoader(train_dataset_eval, batch_size=1, shuffle=False, num_workers=2)\n",
        "\n",
        "model.eval()\n",
        "\n",
        "with torch.no_grad():\n",
        "\n",
        "  # 隠れ状態，セル状態の変数の初期化\n",
        "  hx = torch.zeros(1, n_hidden)\n",
        "  cx = torch.zeros(1, n_hidden)\n",
        "  if use_cuda:\n",
        "    hx = hx.cuda()\n",
        "    cx = cx.cuda()\n",
        "\n",
        "  for input, label in train_loader_eval:\n",
        "\n",
        "    if use_cuda:\n",
        "      input = input.cuda()\n",
        "      label = label.cuda()\n",
        "\n",
        "    output, hx, cx = model(input[:, 0, :], hx, cx)\n",
        "\n",
        "    pred.append(output.tolist())\n",
        "    true.append(label.tolist())\n",
        "\n",
        "### 保存した正解・予測結果（リスト形式）をtorch.tensor形式に変換\n",
        "pred_tensor = torch.tensor(pred).squeeze()\n",
        "true_tensor = torch.tensor(true).squeeze()\n",
        "\n",
        "### グラフの横軸用のリストを用意\n",
        "time_index = list(range( pred_tensor.size(0) ))\n",
        "print(\"time index list:\", time_index)\n",
        "\n",
        "### グラフの描画・表示・保存\n",
        "plt.plot(time_index, pred_tensor[:, 0], '-b', label='high pred')\n",
        "plt.plot(time_index, true_tensor[:, 0], '-r', label='high true')\n",
        "plt.plot(time_index, pred_tensor[:, 1], '-c', label='low pred')\n",
        "plt.plot(time_index, true_tensor[:, 1], '-y', label='low true')\n",
        "plt.xlabel(\"day\")\n",
        "plt.ylabel(\"price\")\n",
        "plt.title(\"Prediction Results for Training Data\")\n",
        "plt.legend()\n",
        "plt.savefig(\"prediction_train.pdf\")\n",
        "plt.show()\n",
        "plt.clf()"
      ],
      "metadata": {
        "id": "vSyeFVYovQD-"
      },
      "execution_count": null,
      "outputs": []
    },
    {
      "cell_type": "markdown",
      "source": [
        "**テストデータに対する予測**\n",
        "\n",
        "次に，テスト用データでどの程度予測できるかを確認します．"
      ],
      "metadata": {
        "id": "vP-jPhbG0RBl"
      }
    },
    {
      "cell_type": "code",
      "source": [
        "pred = []\n",
        "true = []\n",
        "\n",
        "test_dataset = BitcoinPriceDataset(csv_file_path=\"BitcoinPricePrediction/Test.csv\", time_window=1, max_price=train_max_price)\n",
        "test_loader = torch.utils.data.DataLoader(test_dataset, batch_size=1, shuffle=False, num_workers=2)\n",
        "\n",
        "model.eval()\n",
        "\n",
        "with torch.no_grad():\n",
        "\n",
        "  # 隠れ状態，セル状態の変数の初期化\n",
        "  hx = torch.zeros(1, n_hidden)\n",
        "  cx = torch.zeros(1, n_hidden)\n",
        "\n",
        "  if use_cuda:\n",
        "    hx = hx.cuda()\n",
        "    cx = cx.cuda()\n",
        "\n",
        "\n",
        "  for input, label in test_loader:\n",
        "\n",
        "    if use_cuda:\n",
        "      input = input.cuda()\n",
        "      label = label.cuda()\n",
        "\n",
        "    output, hx, cx = model(input[:, 0, :], hx, cx)\n",
        "\n",
        "    pred.append(output.tolist())\n",
        "    true.append(label.tolist())\n",
        "\n",
        "\n",
        "### 保存した正解・予測結果（リスト形式）をtorch.tensor形式に変換\n",
        "pred_tensor = torch.tensor(pred).squeeze()\n",
        "true_tensor = torch.tensor(true).squeeze()\n",
        "\n",
        "### グラフの横軸用のリストを用意\n",
        "time_index = list(range( pred_tensor.size(0) ))\n",
        "print(\"time index list:\", time_index)\n",
        "\n",
        "### グラフの描画・表示・保存\n",
        "plt.plot(time_index, pred_tensor[:, 0], '-b', label='high pred')\n",
        "plt.plot(time_index, true_tensor[:, 0], '-r', label='high true')\n",
        "plt.plot(time_index, pred_tensor[:, 1], '-c', label='low pred')\n",
        "plt.plot(time_index, true_tensor[:, 1], '-y', label='low true')\n",
        "plt.xlabel(\"day\")\n",
        "plt.ylabel(\"price\")\n",
        "plt.title(\"Prediction Results for Test Data\")\n",
        "plt.legend()\n",
        "plt.savefig(\"prediction_test.pdf\")\n",
        "plt.show()\n",
        "plt.clf()"
      ],
      "metadata": {
        "id": "RZSMJxJErrmM"
      },
      "execution_count": null,
      "outputs": []
    },
    {
      "cell_type": "code",
      "source": [],
      "metadata": {
        "id": "NNQoU48M8NFc"
      },
      "execution_count": null,
      "outputs": []
    }
  ]
}