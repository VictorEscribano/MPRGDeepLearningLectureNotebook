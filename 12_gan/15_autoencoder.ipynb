{
  "cells": [
    {
      "cell_type": "markdown",
      "metadata": {
        "id": "view-in-github",
        "colab_type": "text"
      },
      "source": [
        "<a href=\"https://colab.research.google.com/github/machine-perception-robotics-group/MPRGDeepLearningLectureNotebook/blob/master/12_gan/15_autoencoder.ipynb\" target=\"_parent\"><img src=\"https://colab.research.google.com/assets/colab-badge.svg\" alt=\"Open In Colab\"/></a>"
      ]
    },
    {
      "cell_type": "markdown",
      "metadata": {
        "id": "Ql8O0XteJ4si"
      },
      "source": [
        "# Auto Encoderによる画像の復元とデノイジング\n",
        "\n",
        "\n",
        "---\n",
        "## 目的\n",
        "\n",
        "Auto Encoder (AE)を用いることで，画像の復元とデノイジング (ノイズの除去)を行う．\n",
        "今回は， MNIST Datasetに対して人為的にスパイクノイズを付与し，画像の復元とデノイジングを行う．"
      ]
    },
    {
      "cell_type": "markdown",
      "metadata": {
        "id": "5rQGfxWYK_4O"
      },
      "source": [
        "## 準備\n",
        "\n",
        "### Google Colaboratoryの設定確認・変更\n",
        "本チュートリアルではPyTorchを利用してニューラルネットワークの実装を確認，学習および評価を行います．\n",
        "**GPUを用いて処理を行うために，上部のメニューバーの「ランタイム」→「ランタイムのタイプを変更」からハードウェアアクセラレータをGPUにしてください．**\n"
      ]
    },
    {
      "cell_type": "markdown",
      "metadata": {
        "id": "RsGSLNkYQmkG"
      },
      "source": [
        "## モジュールのインポート\n",
        "はじめに必要なモジュールをインポートする．\n",
        "\n",
        "### GPUの確認\n",
        "GPUを使用した計算が可能かどうかを確認します．\n",
        "\n",
        "`GPU availability: True`と表示されれば，GPUを使用した計算を行うことが可能です．\n",
        "Falseとなっている場合は，上記の「Google Colaboratoryの設定確認・変更」に記載している手順にしたがって，設定を変更した後に，モジュールのインポートから始めてください．"
      ]
    },
    {
      "cell_type": "code",
      "execution_count": null,
      "metadata": {
        "id": "Fdnwl3PnKEFg"
      },
      "outputs": [],
      "source": [
        "# モジュールのインポート\n",
        "import os\n",
        "from time import time\n",
        "import numpy as np\n",
        "from PIL import Image\n",
        "import matplotlib.pyplot as plt\n",
        "import torch\n",
        "import torch.nn as nn\n",
        "\n",
        "import torchvision\n",
        "import torchvision.transforms as transforms\n",
        "\n",
        "# GPUの確認\n",
        "use_cuda = torch.cuda.is_available()\n",
        "print('Use CUDA:', use_cuda)"
      ]
    },
    {
      "cell_type": "markdown",
      "metadata": {
        "id": "ywCrP1KeOQVL"
      },
      "source": [
        "## データセットの作成\n",
        "\n",
        "PyTorchのデータセットオブジェクトを作成します．\n",
        "今回はtorchvisionが提供している`MNIST`データセットのオブジェクトをベースにして，作成を行います．\n",
        "\n",
        "`class DenoiseMNIST(torchvision.datasets.MNIST)`にて，元のMNISTを親クラスとして継承します．\n",
        "\n",
        "そして，`__init__`関数では，引数はMNISTと同様のものを定義します．\n",
        "ここで，`super(DenoiseMNIST, self).__init__(root, train, transform, target_transform, download)`とすることで，元のMNISTクラスが行う`__init__`関数の処理を実行します．\n",
        "これにより，MNISTクラスが保有するデータ（self.data, self.targets）を同じように読み込み，`DenoiseMNIST`内に保存することができます．\n",
        "\n",
        "`__len__`関数に関しては，元のMNISTデータセットと同様のものを使用するため，記述を行いません．\n",
        "\n",
        "次に，`__getitem__`関数を定義します．\n",
        "まず，指定した`index`のデータを`self.data, self.targets`から選択します．ただし，分類問題の正解ラベルである`target`は使用しないことに注意してください．\n",
        "`self.data`より選択された画像データは，ノイズを含んでいないデータのため，`denoised`（正解ラベル）として変数へ保存します．\n",
        "次に，画像にスパイクノイズを付与します．\n",
        "スパイクノイズは乱数のマスクを作成し，学習サンプルとマスクの値を掛け合わせることでノイズを付与します．\n",
        "\n",
        "そして，ノイズを含んだ画像（`img`）およびノイズを含まない画像（`denoised`）を返します．"
      ]
    },
    {
      "cell_type": "code",
      "execution_count": null,
      "metadata": {
        "id": "HZx9m3a-xcpq"
      },
      "outputs": [],
      "source": [
        "class DenoiseMNIST(torchvision.datasets.MNIST):\n",
        "\n",
        "    def __init__(self, root, train=True, transform=None, target_transform=None, download=False):\n",
        "        ### 通常のMNISTデータセットの__init__を実行（データのダウンロード・読み込み）\n",
        "        super(DenoiseMNIST, self).__init__(root, train, transform, target_transform, download)\n",
        "\n",
        "        self.noise_ratio = 0.25  # ノイズ比の設定\n",
        "\n",
        "    def __getitem__(self, index):\n",
        "        ### 画像データの読み込み（ラベルは使用しない）\n",
        "        denoised = self.data[index]\n",
        "\n",
        "        ### ノイズ画像の作成\n",
        "        # ランダムノイズの生成\n",
        "        mask = np.random.binomial(size=denoised.size(), n=1, p=1.0-self.noise_ratio)\n",
        "        mask = torch.from_numpy(mask.astype(np.uint8))\n",
        "        # ノイズの付与\n",
        "        noise = denoised\n",
        "        noise = noise * mask\n",
        "\n",
        "        ### 前処理（PyTorchのTensor配列への変換など）\n",
        "        if self.transform is not None:\n",
        "            noise = Image.fromarray(noise.numpy(), mode='L')\n",
        "            noise = self.transform(noise)\n",
        "            denoised = Image.fromarray(denoised.numpy(), mode='L')\n",
        "            denoised = self.transform(denoised)\n",
        "\n",
        "        return noise, denoised"
      ]
    },
    {
      "cell_type": "markdown",
      "metadata": {
        "id": "MLxPDOT4RUJt"
      },
      "source": [
        "### データセットの表示\n",
        "ノイズを付与する前後の画像を表示してみます．\n",
        "ここでは，matplotlibを用いて複数の画像を表示させるプログラムを利用します．"
      ]
    },
    {
      "cell_type": "code",
      "execution_count": null,
      "metadata": {
        "id": "aE33gIayRCW-"
      },
      "outputs": [],
      "source": [
        "train_data = DenoiseMNIST(root=\"./\", train=True, transform=transforms.ToTensor(), download=True)\n",
        "test_data = DenoiseMNIST(root=\"./\", train=False, transform=transforms.ToTensor(), download=True)\n",
        "\n",
        "cols = 10\n",
        "\n",
        "plt.clf()\n",
        "fig = plt.figure(figsize=(14, 1.4))\n",
        "for c in range(cols):\n",
        "    ax = fig.add_subplot(1, cols, c+1)\n",
        "    ax.imshow(train_data[c][0].reshape(28, 28), cmap=plt.get_cmap('gray'))\n",
        "    ax.set_axis_off()\n",
        "plt.show()\n",
        "\n",
        "plt.clf()\n",
        "fig = plt.figure(figsize=(14, 1.4))\n",
        "for c in range(cols):\n",
        "    ax = fig.add_subplot(1, cols, c+1)\n",
        "    ax.imshow(train_data[c][1].reshape(28, 28), cmap=plt.get_cmap('gray'))\n",
        "    ax.set_axis_off()\n",
        "plt.show()"
      ]
    },
    {
      "cell_type": "markdown",
      "metadata": {
        "id": "csT04HkmOSMf"
      },
      "source": [
        "## ネットワークモデルの定義\n",
        "\n",
        "Auto Encoderの定義をします．\n",
        "\n",
        "今回はEncoder, Decoderそれぞれ全結合層1層からなるAutoEncoderを作成します．"
      ]
    },
    {
      "cell_type": "code",
      "execution_count": null,
      "metadata": {
        "id": "069CTlZvKES2"
      },
      "outputs": [],
      "source": [
        "class AutoEncoder(nn.Module):\n",
        "\n",
        "    def __init__(self, n_inputs, n_hidden):\n",
        "        super(AutoEncoder, self).__init__()\n",
        "        self.encoder = nn.Linear(n_inputs, n_hidden)\n",
        "        self.decoder = nn.Linear(n_hidden, n_inputs)\n",
        "        self.act = nn.Sigmoid()\n",
        "\n",
        "    def forward(self, x):\n",
        "        h = self.act(self.encoder(x))\n",
        "        h = self.decoder(h)\n",
        "        return h"
      ]
    },
    {
      "cell_type": "markdown",
      "metadata": {
        "id": "CGhbXwhLvgiH"
      },
      "source": [
        "## ネットワークの作成\n",
        "上で定義したネットワークを作成します．\n",
        "\n",
        "入力層のサイズ（input_num）と中間層のサイズ（hidden_num）を定義し，AutoEncoderのネットワークを作成します．\n",
        "\n",
        "また，最適化手法としてAdamを使用します．"
      ]
    },
    {
      "cell_type": "code",
      "execution_count": null,
      "metadata": {
        "id": "x9jCRi2sKEVf"
      },
      "outputs": [],
      "source": [
        "input_num = 28 * 28\n",
        "hidden_num = 2\n",
        "\n",
        "model = AutoEncoder(n_inputs=input_num, n_hidden=hidden_num)\n",
        "if use_cuda:\n",
        "    model.cuda()\n",
        "\n",
        "optimizer = torch.optim.Adam(model.parameters())"
      ]
    },
    {
      "cell_type": "markdown",
      "metadata": {
        "id": "Az0vNjNlwcba"
      },
      "source": [
        "## 学習\n",
        "先ほど定義したデータセットと作成したネットワークを用いて，学習を行います．\n",
        "\n",
        "1回の誤差を算出するデータ数（ミニバッチサイズ）を100，学習エポック数を10とします．\n",
        "\n",
        "次にデータローダーを定義します．\n",
        "データローダーでは，上で読み込んだデータセット（`train_data`）を用いて，for文で指定したミニバッチサイズでデータを読み込むオブジェクトを作成します．\n",
        "この時，`shuffle=True`と設定することで，読み込むデータを毎回ランダムに指定します．\n",
        "\n",
        "次に，誤差関数を設定します．\n",
        "今回は，連続値を出力する回帰問題をあつかうため，`MSELoss`を`criterion`として定義します．"
      ]
    },
    {
      "cell_type": "code",
      "execution_count": null,
      "metadata": {
        "id": "JWYxNIfJKEXy"
      },
      "outputs": [],
      "source": [
        "batch_size = 100\n",
        "epoch_num = 10\n",
        "\n",
        "# データローダーの設定\n",
        "train_loader = torch.utils.data.DataLoader(train_data, batch_size=batch_size, shuffle=True, num_workers=2)\n",
        "\n",
        "# 誤差関数の設定\n",
        "criterion = nn.MSELoss()\n",
        "if use_cuda:\n",
        "    criterion.cuda()\n",
        "\n",
        "# ネットワークを学習モードへ変更\n",
        "model.train()\n",
        "\n",
        "# 学習の実行\n",
        "start = time()\n",
        "for epoch in range(1, epoch_num+1):\n",
        "    sum_loss = 0.0\n",
        "\n",
        "    for image, label in train_loader:\n",
        "        # 画像データを2次元配列 --> 1次元配列へ変換\n",
        "        image = image.view(image.size()[0], -1)\n",
        "        label = label.view(label.size()[0], -1)\n",
        "\n",
        "        if use_cuda:\n",
        "            image = image.cuda()\n",
        "            label = label.cuda()\n",
        "\n",
        "        y = model(image)\n",
        "        loss = criterion(y, label)\n",
        "\n",
        "        model.zero_grad()\n",
        "        loss.backward()\n",
        "        optimizer.step()\n",
        "\n",
        "        sum_loss += loss.item()\n",
        "\n",
        "    print(\"epoch:{}, mean loss: {}, elapsed time: {}\".format(epoch,\n",
        "                                                             sum_loss / len(train_loader),\n",
        "                                                             time() - start))"
      ]
    },
    {
      "cell_type": "markdown",
      "metadata": {
        "id": "aBpX8DFapbgU"
      },
      "source": [
        "## テスト\n",
        "\n",
        "学習したネットワークモデルを用いてデノイジングを行います．\n",
        "このとき，結果を可視化して確認するために，デノイジングを行なった結果を`test_result`へ格納します，また，対応する正解データを`test_gt`へ格納します．"
      ]
    },
    {
      "cell_type": "code",
      "execution_count": null,
      "metadata": {
        "id": "zzPJ-EHSKEaE"
      },
      "outputs": [],
      "source": [
        "# データセットの読み込み・データローダーの設定\n",
        "test_loader = torch.utils.data.DataLoader(test_data, batch_size=1, shuffle=False)\n",
        "\n",
        "# ネットワークを評価モードへ変更\n",
        "model.eval()\n",
        "\n",
        "test_result = []\n",
        "test_gt = []\n",
        "\n",
        "# デノイジングの実行\n",
        "with torch.no_grad():\n",
        "    for count, (image, label) in enumerate(test_loader):\n",
        "        image = image.view(image.size()[0], -1)\n",
        "        label = label.view(label.size()[0], -1)\n",
        "        if use_cuda:\n",
        "            image = image.cuda()\n",
        "\n",
        "        y = model(image)\n",
        "\n",
        "        if use_cuda:\n",
        "            test_result.append(y.data.cpu())\n",
        "        else:\n",
        "            test_result.append(y.data)\n",
        "        test_gt.append(label.data)\n",
        "\n",
        "        if count == 10:\n",
        "            break"
      ]
    },
    {
      "cell_type": "markdown",
      "metadata": {
        "id": "E29Mbm1OxMGA"
      },
      "source": [
        "デノイジングの結果を表示してみます．\n",
        "表示にはmatplotlibを用います．\n"
      ]
    },
    {
      "cell_type": "code",
      "execution_count": null,
      "metadata": {
        "id": "ZY69oZGsKEcX"
      },
      "outputs": [],
      "source": [
        "cols = 10\n",
        "\n",
        "plt.clf()\n",
        "fig = plt.figure(figsize=(14, 1.4))\n",
        "for c in range(cols):\n",
        "    ax = fig.add_subplot(1, cols, c + 1)\n",
        "    ax.imshow(test_result[c].reshape(28, 28), cmap=plt.get_cmap('gray'))\n",
        "    ax.set_axis_off()\n",
        "fig.suptitle(\"Denoise result\")\n",
        "plt.show()\n",
        "\n",
        "plt.clf()\n",
        "fig = plt.figure(figsize=(14, 1.4))\n",
        "for c in range(cols):\n",
        "    ax = fig.add_subplot(1, cols, c + 1)\n",
        "    ax.imshow(test_gt[c][0].reshape(28, 28), cmap=plt.get_cmap('gray'))\n",
        "    ax.set_axis_off()\n",
        "fig.suptitle(\"Ground truth\")\n",
        "plt.show()"
      ]
    },
    {
      "cell_type": "markdown",
      "metadata": {
        "id": "aG7AJPdz0HfW"
      },
      "source": [
        "# 潜在空間の可視化\n",
        "\n",
        "学習で獲得した潜在空間の表現を可視化して確認します．\n",
        "潜在空間の2次元ベクトルを擬似的に作成し，その値をDecoderへと入力し画像を生成することで，潜在空間の値を確認します．\n",
        "\n",
        "\n",
        "\n",
        "※ この演算は`hidden_num = 2`の場合のAuto Encoderでのみ動作します．"
      ]
    },
    {
      "cell_type": "code",
      "execution_count": null,
      "metadata": {
        "id": "4nl9K5Au0HfX"
      },
      "outputs": [],
      "source": [
        "# 各次元のサンプリング点の生成\n",
        "nv = 25\n",
        "minmax_range = 1.0\n",
        "value1 = np.linspace(0, minmax_range, nv)\n",
        "value2 = np.linspace(0, minmax_range, nv)\n",
        "\n",
        "# 結果表示用のNumpy arrayの作成\n",
        "plot_array = np.zeros([28 * nv, 28 * nv], dtype=np.float32)\n",
        "\n",
        "# 潜在変数をDecoderへ入力し，画像を生成する\n",
        "for i, yi in enumerate(value1):\n",
        "    for j, xj in enumerate(value2):\n",
        "        xx = torch.tensor([[yi, xj]], dtype=torch.float32)\n",
        "        xx = xx.cuda()\n",
        "\n",
        "        with torch.no_grad():\n",
        "            output = model.decoder(xx)\n",
        "\n",
        "        output = output.view(-1, 28, 28)\n",
        "        output = output.cpu().numpy()\n",
        "        plot_array[(nv-i-1)*28:(nv-i)*28, j*28:(j+1)*28] = output\n",
        "\n",
        "# 結果の生成\n",
        "plt.figure(figsize=(10, 15))\n",
        "Xi, Yi = np.meshgrid(value1, value2)\n",
        "plt.imshow(plot_array, origin=\"upper\", cmap=\"gray\")\n",
        "plt.tight_layout()\n",
        "plt.show()"
      ]
    },
    {
      "cell_type": "markdown",
      "metadata": {
        "id": "PTwqxAsCPTwr"
      },
      "source": [
        "## 課題\n",
        "\n",
        "1. 中間層のユニット数や層数を変更した時の性能を比較しましょう．\n",
        "\n",
        "### ヒント\n",
        "* Encoder, Decoderそれぞれのユニット数や総数は，対称になるように設計する．"
      ]
    }
  ],
  "metadata": {
    "accelerator": "GPU",
    "colab": {
      "provenance": [],
      "include_colab_link": true
    },
    "kernelspec": {
      "display_name": "Python 3",
      "language": "python",
      "name": "python3"
    },
    "language_info": {
      "codemirror_mode": {
        "name": "ipython",
        "version": 3
      },
      "file_extension": ".py",
      "mimetype": "text/x-python",
      "name": "python",
      "nbconvert_exporter": "python",
      "pygments_lexer": "ipython3",
      "version": "3.7.9"
    }
  },
  "nbformat": 4,
  "nbformat_minor": 0
}