{
  "nbformat": 4,
  "nbformat_minor": 0,
  "metadata": {
    "colab": {
      "name": "ProgramWorkBook_CSVFile",
      "provenance": [],
      "collapsed_sections": [
        "x4JW_4aX8HCw"
      ],
      "authorship_tag": "ABX9TyNeHSNOnWf+K571Ba1MdWG/",
      "include_colab_link": true
    },
    "kernelspec": {
      "name": "python3",
      "display_name": "Python 3"
    },
    "language_info": {
      "name": "python"
    },
    "accelerator": "GPU",
    "gpuClass": "standard"
  },
  "cells": [
    {
      "cell_type": "markdown",
      "metadata": {
        "id": "view-in-github",
        "colab_type": "text"
      },
      "source": [
        "<a href=\"https://colab.research.google.com/github/machine-perception-robotics-group/MPRGDeepLearningLectureNotebook/blob/master/20_workbook/ProgramWorkBook_CSVFile.ipynb\" target=\"_parent\"><img src=\"https://colab.research.google.com/assets/colab-badge.svg\" alt=\"Open In Colab\"/></a>"
      ]
    },
    {
      "cell_type": "markdown",
      "source": [
        "# プログラム記述練習：CSVファイル編\n",
        "\n",
        "まずはこのプログラムをコピーして自分のGoogleドライブへと保存しましょう．"
      ],
      "metadata": {
        "id": "ytLcaBPdOFqA"
      }
    },
    {
      "cell_type": "markdown",
      "source": [
        "## 0. データのダウンロード\n",
        "\n",
        "プログラムに必要なデータをダウンロードします．\n",
        "\n",
        "今回使用するデータは，Kaggleで公開されているBitcoinの価格を予測するデータセットです．\n",
        "\n",
        "https://www.kaggle.com/datasets/team-ai/bitcoin-price-prediction\n",
        "\n",
        "**今回使用するデータは，CSVファイルなどのテキストファイルで整理・保存されたデータを扱うための練習として採用しました．実際の現場などでは，センサーの数値データなどをCSVファイルに保存しておき，その数値データをもとに学習するような状況を想定しています．**\n",
        "\n",
        "\n",
        "\n"
      ],
      "metadata": {
        "id": "kKesHBMzJt9z"
      }
    },
    {
      "cell_type": "code",
      "source": [
        "import gdown\n",
        "gdown.download('https://drive.google.com/uc?id=1_Gdneij6TP6CK_HCommCtbaitVfoY-fN', 'BitcoinPricePrediction.zip', quiet=False)\n",
        "!unzip -q -o BitcoinPricePrediction.zip"
      ],
      "metadata": {
        "id": "5nzh5O2NJuU6"
      },
      "execution_count": null,
      "outputs": []
    },
    {
      "cell_type": "markdown",
      "source": [
        "ここで，一度データセットを確認してみましょう．\n",
        "\n",
        "データ（フォルダ）を確認すると，BitcoinPricePredictionフォルダの中にTraining.csvとTest.csvという二つのCSVファイルが保存されています．\n",
        "\n",
        "![BitcoinDataDir.png](https://qiita-image-store.s3.ap-northeast-1.amazonaws.com/0/143078/e81aa369-427e-fe22-03cf-03cd82c917ce.png)\n",
        "\n",
        "### CSVファイルの中身\n",
        "\n",
        "それぞれの中身を見ると，\n",
        "* Date: 日付\n",
        "* Open: 始値\n",
        "* High: 最高値\n",
        "* Low: 最安値\n",
        "* Close: 終値\n",
        "* Volume: 取引ボリューム（取引数量）\n",
        "* Market Cap: 時価総額\n",
        "という列があり，それぞれの日付で値を持っていることがわかります．\n",
        "\n",
        "また，Dateの値を確認すると，新 --> 古の順番に日付が並んでいることがわかります．\n",
        "\n",
        "今回は，「Open, High, Low, Close」の値から翌日の「High, Low」を予測する再帰型ニューラルネットワークを構築して学習してみましょう．"
      ],
      "metadata": {
        "id": "x4JW_4aX8HCw"
      }
    },
    {
      "cell_type": "markdown",
      "source": [
        "## 1. モジュールのインポート部分\n",
        "\n",
        "こちらにプログラムに必要なモジュールのインポートを記述しましょう．\n",
        "\n",
        "※ プログラムが一通り完成した後に記述します．"
      ],
      "metadata": {
        "id": "xWEBw90-JicW"
      }
    },
    {
      "cell_type": "code",
      "source": [],
      "metadata": {
        "id": "075YmbGiJcaG"
      },
      "execution_count": null,
      "outputs": []
    },
    {
      "cell_type": "markdown",
      "source": [
        "## 2. データセットクラスの作成\n",
        "\n",
        "ここでは，ダウンロードしたCSVファイルの形式に合わせて，PyTorchのデータセットクラスを自作します．"
      ],
      "metadata": {
        "id": "yq8IOuQh_zUq"
      }
    },
    {
      "cell_type": "markdown",
      "source": [
        "### この部分で使用する関数・クラスの動作確認"
      ],
      "metadata": {
        "id": "9D_CtpccOJeC"
      }
    },
    {
      "cell_type": "code",
      "source": [
        "import os\n",
        "import glob\n",
        "import torch\n",
        "from torch.utils.data import Dataset\n",
        "import csv\n",
        "\n",
        "### CSVファイルの読み込み\n",
        "with open(\"BitcoinPricePrediction/Test.csv\", \"r\") as f:\n",
        "  reader = csv.reader(f)\n",
        "  print(\"print reader:\", reader, \"\\n-----------------\")  # ここではcsv.readerというクラスオブジェクトという情報しか表示されない\n",
        "\n",
        "  # for文で1行ずつリストとして読み込み\n",
        "  for row in reader:\n",
        "    print(row)\n",
        "\n",
        "### リストの並べ替え（逆順）\n",
        "_sample_list = [1,2,3,4,5]\n",
        "print(\"before reverse:\", _sample_list)\n",
        "_sample_list.reverse()\n",
        "print(\"after reverse: \", _sample_list)\n",
        "\n",
        "### Tensor配列の上下・左右反転\n",
        "_sample_array = torch.arange(6).view(2, 3)\n",
        "print(\"sample array:\\n\", _sample_array)\n",
        "\n",
        "_updown_array = torch.flipud(_sample_array)\n",
        "_leftright_array = torch.fliplr(_sample_array)\n",
        "print(\"flip up-down array:\\n\", _updown_array)\n",
        "print(\"flip left-right array:\\n\", _leftright_array)"
      ],
      "metadata": {
        "id": "TrKjzTs1OJpA"
      },
      "execution_count": null,
      "outputs": []
    },
    {
      "cell_type": "markdown",
      "source": [
        "上で確認した機能を使いつつ，データセットクラスを定義します．"
      ],
      "metadata": {
        "id": "jTiYdnFZOJut"
      }
    },
    {
      "cell_type": "code",
      "source": [],
      "metadata": {
        "id": "AOXPmET4OJzI"
      },
      "execution_count": null,
      "outputs": []
    },
    {
      "cell_type": "markdown",
      "source": [
        "### データセットクラスのデバッグ\n",
        "\n",
        "ここで，一度作成したデータセットクラスを呼び出して実行することで，正しく動作しているかを確認（デバッグ）します．\n",
        "\n",
        "**※ 細かなデバッグは非常に重要です．全てのプログラムを記述してからデバッグをしようとすると，原因の特定に時間がかかります．一つのクラス・関数などを作成したら，簡単なプログラムを記述してうまく動作するか確認をすることをお勧めします．**"
      ],
      "metadata": {
        "id": "WSmHiH5MAHKR"
      }
    },
    {
      "cell_type": "code",
      "source": [],
      "metadata": {
        "id": "_6PImnTuAHQ-"
      },
      "execution_count": null,
      "outputs": []
    },
    {
      "cell_type": "markdown",
      "source": [
        "## 3. ネットワークモデルの定義\n",
        "\n",
        "続いてネットワークを定義します．\n",
        "\n",
        "今回は再帰型ニューラルネットワークを定義します．\n",
        "\n",
        "\n",
        "\n",
        "\n",
        "この時，各レイヤーのクラスの詳細などを調べたい場合は，PyTorchのReferenceを参照しつつ実装します．\n",
        "\n",
        "[PyTorch reference mannual](https://pytorch.org/docs/stable/index.html)\n",
        "\n"
      ],
      "metadata": {
        "id": "VNnLRYwcAHWF"
      }
    },
    {
      "cell_type": "code",
      "source": [],
      "metadata": {
        "id": "xckFUDDfAHqf"
      },
      "execution_count": null,
      "outputs": []
    },
    {
      "cell_type": "markdown",
      "source": [
        "### ネットワーククラスのデバッグ\n",
        "\n",
        "ここで，一度作成したネットワーククラスを呼び出して実行することで，正しく動作しているかを確認（デバッグ）します．"
      ],
      "metadata": {
        "id": "b4Kxi-5rMDY0"
      }
    },
    {
      "cell_type": "code",
      "source": [],
      "metadata": {
        "id": "_ffWxcjEMCC9"
      },
      "execution_count": null,
      "outputs": []
    },
    {
      "cell_type": "markdown",
      "source": [
        "## 4. 学習の準備\n",
        "\n",
        "ここでは，学習に必要な\n",
        "\n",
        "* ネットワークモデル\n",
        "* 誤差関数\n",
        "* 最適化手法\n",
        "* データセット\n",
        "\n",
        "の定義を行います．\n",
        "\n",
        "最適化関数などもReference mannualを参照しつつ好きなものを選択記述しましょう．\n",
        "\n",
        "**DataLoaderのnum_workersについて**\n",
        "\n",
        "`torch.utils.data.DataLoader`の引数である`num_workers`は，データを読み込んで準備する処理を並列処理するための引数です．例えば，`num_workers=10`とした場合には，10並列でデータの読込処理 (データセットクラスの`__getitem__()`) を10並列で実行してくれます．そのため，使用する計算機のCPU性能に合わせて，ある程度大きな数を指定しておくとデータの読込処理が早くなり，学習の高速化が期待できます．"
      ],
      "metadata": {
        "id": "PZMRwwqnMD98"
      }
    },
    {
      "cell_type": "code",
      "source": [],
      "metadata": {
        "id": "A3Raanc1MECT"
      },
      "execution_count": null,
      "outputs": []
    },
    {
      "cell_type": "markdown",
      "source": [
        " ## 5. 学習の開始\n",
        "\n",
        " 上で定義したモデルや最適化手法，データセットを用いて学習を行います．"
      ],
      "metadata": {
        "id": "TBIF0A-pOQVa"
      }
    },
    {
      "cell_type": "markdown",
      "source": [
        "### この部分で使用する関数・クラスの動作確認"
      ],
      "metadata": {
        "id": "OV2ayiB3OXC5"
      }
    },
    {
      "cell_type": "code",
      "source": [
        "### item (tensorのとある一つの要素をscalerとして返す)\n",
        "_sample_tensor = torch.tensor([1,2,3,4], dtype=torch.float32)\n",
        "print(\"return as scaler:\", _sample_tensor[0].item())\n",
        "\n",
        "### 上のセルで定義したネットワークモデルのパラメータ（+そのほか）の抽出\n",
        "print(list(model.parameters()))   # 学習するモデルパラメータ（optimizerへ入力する時に使用することが多い）\n",
        "print(\"----------------\")\n",
        "print(model.state_dict())         # 学習するパラメータ + 学習はしないけど学習や推論処理を行うことで変化するパラメータ\n",
        "                                  #  (BatchNormの内部パラメータなど)（モデルの保存などに使用されることが多い）\n",
        "print(\"----------------\")\n",
        "\n",
        "### PyTorchのtensorのファイル保存\n",
        "_save_data = torch.tensor([1,2,3,4], dtype=torch.float32)\n",
        "torch.save(_save_data, \"sample_data.pt\")\n",
        "\n",
        "### PyTorchのtensorのファイルの読込\n",
        "_load_data = torch.load(\"sample_data.pt\")\n",
        "print(_load_data)"
      ],
      "metadata": {
        "id": "XrkeLn3DOOCU"
      },
      "execution_count": null,
      "outputs": []
    },
    {
      "cell_type": "markdown",
      "source": [
        "上記の関数を活用して学習ループを記述します．"
      ],
      "metadata": {
        "id": "F4b3cYADOXr0"
      }
    },
    {
      "cell_type": "code",
      "source": [],
      "metadata": {
        "id": "EvDtp0IMOXxW"
      },
      "execution_count": null,
      "outputs": []
    },
    {
      "cell_type": "markdown",
      "source": [
        "### 学習経過のテキスト保存とグラフ化\n",
        "\n",
        "**テキスト保存**\n",
        "\n",
        "ログ（コンソール・ターミナル部分）に学習中の誤差の推移などを表示することで，学習の様子を確認できますが，Colaboratoryの再起動や再度学習を行うことでログは消えてしまい．後程，学習経過を確認・比較することができなくなります．\n",
        "そのため，学習経過の数値をテキストファイルなどで保存しておくと，非常に便利です．\n",
        "異なるネットワークや学習パラメータを用いて学習を行った場合との比較などを行うことができます．\n",
        "\n"
      ],
      "metadata": {
        "id": "vSg5sl2AOX1Z"
      }
    },
    {
      "cell_type": "code",
      "source": [],
      "metadata": {
        "id": "kWPpaVErOX6E"
      },
      "execution_count": null,
      "outputs": []
    },
    {
      "cell_type": "markdown",
      "source": [
        "**グラフ化**\n",
        "\n",
        "実行結果の数値を見ることで学習の様子が確認できますが，グラフ化することでより直感的に学習の挙動を理解することができます．\n",
        "ここでは，上の学習プログラム中で保存しておいた，1 epochごとの誤差とテストデータに対する精度をグラフ化して確認してみます．"
      ],
      "metadata": {
        "id": "fvRNgpmwQwPi"
      }
    },
    {
      "cell_type": "code",
      "source": [],
      "metadata": {
        "id": "Y9GEbg75QwT-"
      },
      "execution_count": null,
      "outputs": []
    },
    {
      "cell_type": "markdown",
      "source": [
        "## 6. 評価\n",
        "\n",
        "学習したモデルを用いて評価を行います．"
      ],
      "metadata": {
        "id": "jVEIPd1nQwYp"
      }
    },
    {
      "cell_type": "markdown",
      "source": [
        "### モデルの読み込み\n",
        "\n",
        "学習中に保存したモデルを読み込みます．"
      ],
      "metadata": {
        "id": "8yibf2JTzQEq"
      }
    },
    {
      "cell_type": "code",
      "source": [],
      "metadata": {
        "id": "hHe64HdLQwcT"
      },
      "execution_count": null,
      "outputs": []
    },
    {
      "cell_type": "markdown",
      "source": [
        "### 推論と結果の表示\n",
        "\n",
        "読み込んだ学習済みモデルを用いて予測を行います．\n",
        "\n",
        "今回のネットワークは，数値データ（価格）の予測値を出力するモデルのため，誤差ではなく，その予測値をリストに保存して，後程グラフ表示をして結果を確認します．\n",
        "\n",
        "\n",
        "**学習データに対する予測**\n",
        "\n",
        "まずは，学習に使用したデータでどの程度予測できるかを確認します．"
      ],
      "metadata": {
        "id": "zj9cLdAirsnW"
      }
    },
    {
      "cell_type": "code",
      "source": [],
      "metadata": {
        "id": "vSyeFVYovQD-"
      },
      "execution_count": null,
      "outputs": []
    },
    {
      "cell_type": "markdown",
      "source": [
        "**テストデータに対する予測**\n",
        "\n",
        "次に，テスト用データでどの程度予測できるかを確認します．"
      ],
      "metadata": {
        "id": "vP-jPhbG0RBl"
      }
    },
    {
      "cell_type": "code",
      "source": [],
      "metadata": {
        "id": "RZSMJxJErrmM"
      },
      "execution_count": null,
      "outputs": []
    },
    {
      "cell_type": "code",
      "source": [],
      "metadata": {
        "id": "NNQoU48M8NFc"
      },
      "execution_count": null,
      "outputs": []
    }
  ]
}